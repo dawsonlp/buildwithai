{
 "cells": [
  {
   "cell_type": "code",
   "id": "initial_id",
   "metadata": {
    "collapsed": true,
    "ExecuteTime": {
     "end_time": "2024-09-27T15:25:15.264561Z",
     "start_time": "2024-09-27T15:25:14.159418Z"
    }
   },
   "source": [
    "import os\n",
    "\n",
    "from dotenv import load_dotenv\n",
    "\n",
    "from buildwithai.langchain_tools import JiraService, set_jira_service\n",
    "from connections.connector import JiraConnector\n",
    "\n",
    "# Load environment variables from .env file\n",
    "load_dotenv()\n",
    "\n",
    "# Access environment variables\n",
    "JIRA_TOKEN = os.getenv(\"SIGMA7_JIRA_TOKEN\")\n",
    "JIRA_URL = os.getenv(\"SIGMA7_JIRA_URL\")\n",
    "JIRA_USER = os.getenv(\"SIGMA7_JIRA_USER\")\n",
    "sigma7_jira_service = JiraService(JIRA_URL, JIRA_USER, JIRA_TOKEN)\n",
    "\n",
    "set_jira_service(sigma7_jira_service)"
   ],
   "outputs": [],
   "execution_count": 4
  },
  {
   "metadata": {
    "ExecuteTime": {
     "end_time": "2024-09-27T15:25:40.742525Z",
     "start_time": "2024-09-27T15:25:40.738761Z"
    }
   },
   "cell_type": "code",
   "source": "jira_conn = JiraConnector(JIRA_URL, JIRA_USER, JIRA_TOKEN)\n",
   "id": "fe4c1e57c7670cfc",
   "outputs": [],
   "execution_count": 6
  },
  {
   "metadata": {
    "ExecuteTime": {
     "end_time": "2024-09-27T15:25:50.468860Z",
     "start_time": "2024-09-27T15:25:50.455689Z"
    }
   },
   "cell_type": "code",
   "source": "dir(jira_conn)",
   "id": "defc1f18c18daeb3",
   "outputs": [
    {
     "data": {
      "text/plain": [
       "['__abstractmethods__',\n",
       " '__annotations__',\n",
       " '__class__',\n",
       " '__delattr__',\n",
       " '__dict__',\n",
       " '__dir__',\n",
       " '__doc__',\n",
       " '__eq__',\n",
       " '__format__',\n",
       " '__ge__',\n",
       " '__getattribute__',\n",
       " '__getstate__',\n",
       " '__gt__',\n",
       " '__hash__',\n",
       " '__init__',\n",
       " '__init_subclass__',\n",
       " '__le__',\n",
       " '__lt__',\n",
       " '__module__',\n",
       " '__ne__',\n",
       " '__new__',\n",
       " '__reduce__',\n",
       " '__reduce_ex__',\n",
       " '__repr__',\n",
       " '__setattr__',\n",
       " '__sizeof__',\n",
       " '__slots__',\n",
       " '__str__',\n",
       " '__subclasshook__',\n",
       " '__weakref__',\n",
       " '_abc_impl',\n",
       " 'api_token',\n",
       " 'connect',\n",
       " 'connection',\n",
       " 'delay',\n",
       " 'ensure_connection',\n",
       " 'get_connection',\n",
       " 'handle_request_with_retries',\n",
       " 'is_token_expired',\n",
       " 'max_retries',\n",
       " 'reconnect',\n",
       " 'server',\n",
       " 'username']"
      ]
     },
     "execution_count": 7,
     "metadata": {},
     "output_type": "execute_result"
    }
   ],
   "execution_count": 7
  },
  {
   "metadata": {
    "ExecuteTime": {
     "end_time": "2024-09-27T15:25:58.392972Z",
     "start_time": "2024-09-27T15:25:58.385763Z"
    }
   },
   "cell_type": "code",
   "source": "dir(jira_service)",
   "id": "10d239c16318e8ce",
   "outputs": [
    {
     "data": {
      "text/plain": [
       "['__class__',\n",
       " '__delattr__',\n",
       " '__dict__',\n",
       " '__dir__',\n",
       " '__doc__',\n",
       " '__eq__',\n",
       " '__format__',\n",
       " '__ge__',\n",
       " '__getattribute__',\n",
       " '__getstate__',\n",
       " '__gt__',\n",
       " '__hash__',\n",
       " '__init__',\n",
       " '__init_subclass__',\n",
       " '__le__',\n",
       " '__lt__',\n",
       " '__module__',\n",
       " '__ne__',\n",
       " '__new__',\n",
       " '__reduce__',\n",
       " '__reduce_ex__',\n",
       " '__repr__',\n",
       " '__setattr__',\n",
       " '__sizeof__',\n",
       " '__str__',\n",
       " '__subclasshook__',\n",
       " '__weakref__',\n",
       " 'add_comment',\n",
       " 'connector',\n",
       " 'get_simplified_issue',\n",
       " 'get_ticket_description']"
      ]
     },
     "execution_count": 8,
     "metadata": {},
     "output_type": "execute_result"
    }
   ],
   "execution_count": 8
  },
  {
   "metadata": {
    "ExecuteTime": {
     "end_time": "2024-09-27T15:33:57.294221Z",
     "start_time": "2024-09-27T15:33:56.673689Z"
    }
   },
   "cell_type": "code",
   "source": "is7 = jira_service.get_simplified_issue(\"IS-7\")",
   "id": "e3d9094e7ee986fc",
   "outputs": [],
   "execution_count": 10
  },
  {
   "metadata": {
    "ExecuteTime": {
     "end_time": "2024-09-27T15:34:03.340008Z",
     "start_time": "2024-09-27T15:34:03.328500Z"
    }
   },
   "cell_type": "code",
   "source": "print(is7)",
   "id": "59d3194c1d9734bf",
   "outputs": [
    {
     "name": "stdout",
     "output_type": "stream",
     "text": [
      "{'summary': 'Add functionality to allow users to view and act as a user within an organisation', 'description': \"Laura \\n\\n\\n\\nThere are occasions where our admin users such as Laura, Michael McCabe or customer assisting users such as Beckie need to access a customer's view i.e. be in their organisation.\\n\\nWe need to explore the functionality to allow certain users with high privileges to select an organisation and re-log into the platform as a user in that organisation.\\xa0\\n\\nUp until now using Laura as an example she would need to create a user within that organisation with a temporary email address which isn’t a scalable solution.\", 'status': 'To Do', 'comments': []}\n"
     ]
    }
   ],
   "execution_count": 11
  },
  {
   "metadata": {
    "ExecuteTime": {
     "end_time": "2024-09-27T15:40:58.375833Z",
     "start_time": "2024-09-27T15:40:57.788521Z"
    }
   },
   "cell_type": "code",
   "source": "jira = jira_conn.get_connection()\n",
   "id": "7694795268fb93b0",
   "outputs": [],
   "execution_count": 13
  },
  {
   "metadata": {
    "ExecuteTime": {
     "end_time": "2024-09-27T15:41:38.651392Z",
     "start_time": "2024-09-27T15:41:38.622234Z"
    }
   },
   "cell_type": "code",
   "source": "issue = jira.find_issue(\"IS-7\")",
   "id": "a39bb4b402c48b1e",
   "outputs": [
    {
     "ename": "AttributeError",
     "evalue": "'JIRA' object has no attribute 'find_issue'",
     "output_type": "error",
     "traceback": [
      "\u001B[0;31m---------------------------------------------------------------------------\u001B[0m",
      "\u001B[0;31mAttributeError\u001B[0m                            Traceback (most recent call last)",
      "Cell \u001B[0;32mIn[15], line 1\u001B[0m\n\u001B[0;32m----> 1\u001B[0m issue \u001B[38;5;241m=\u001B[39m \u001B[43mjira\u001B[49m\u001B[38;5;241;43m.\u001B[39;49m\u001B[43mfind_issue\u001B[49m(\u001B[38;5;124m\"\u001B[39m\u001B[38;5;124mIS-7\u001B[39m\u001B[38;5;124m\"\u001B[39m)\n",
      "\u001B[0;31mAttributeError\u001B[0m: 'JIRA' object has no attribute 'find_issue'"
     ]
    }
   ],
   "execution_count": 15
  },
  {
   "metadata": {},
   "cell_type": "code",
   "outputs": [],
   "execution_count": null,
   "source": "",
   "id": "420922b05a4a913b"
  }
 ],
 "metadata": {
  "kernelspec": {
   "display_name": "Python 3",
   "language": "python",
   "name": "python3"
  },
  "language_info": {
   "codemirror_mode": {
    "name": "ipython",
    "version": 2
   },
   "file_extension": ".py",
   "mimetype": "text/x-python",
   "name": "python",
   "nbconvert_exporter": "python",
   "pygments_lexer": "ipython2",
   "version": "2.7.6"
  }
 },
 "nbformat": 4,
 "nbformat_minor": 5
}
