{
 "cells": [
  {
   "cell_type": "code",
   "id": "initial_id",
   "metadata": {
    "collapsed": true
   },
   "source": [
    "import os\n",
    "\n",
    "from dotenv import load_dotenv\n",
    "from langchain.agents import AgentType, initialize_agent\n",
    "from langchain.chat_models import init_chat_model\n",
    "from langchain_community.agent_toolkits.jira.toolkit import JiraToolkit\n",
    "from langchain_community.utilities.jira import JiraAPIWrapper"
   ],
   "outputs": [],
   "execution_count": null
  },
  {
   "metadata": {},
   "cell_type": "code",
   "source": "",
   "id": "1538e851fba06556",
   "outputs": [],
   "execution_count": null
  },
  {
   "metadata": {},
   "cell_type": "code",
   "source": [
    "load_dotenv()\n",
    "JIRA_TOKEN = os.getenv(\"SIGMA7_JIRA_TOKEN\")\n",
    "JIRA_URL = os.getenv(\"SIGMA7_JIRA_URL\")\n",
    "JIRA_USER = os.getenv(\"SIGMA7_JIRA_USER\")\n",
    "print(JIRA_TOKEN, JIRA_URL, JIRA_USER)\n",
    "os.environ[\"JIRA_API_TOKEN\"] = JIRA_TOKEN\n",
    "os.environ[\"JIRA_USERNAME\"] = JIRA_USER\n",
    "os.environ[\"JIRA_INSTANCE_URL\"] = JIRA_URL\n",
    "os.environ[\"JIRA_CLOUD\"] = \"True\"\n",
    "\n",
    "chatgptkey = os.getenv(\"CHATGPT_API_KEY\")\n",
    "os.environ[\"OPENAI_API_KEY\"] = chatgptkey\n",
    "\n",
    "llm = init_chat_model(\"gpt-4o-mini\", model_provider=\"openai\", temperature=0, api_key = chatgptkey)\n",
    "jira_api = JiraAPIWrapper()\n",
    "jira_toolkit = JiraToolkit.from_jira_api_wrapper(jira_api)\n",
    "\n",
    "agent = initialize_agent(\n",
    "    jira_toolkit.get_tools(), llm, agent=AgentType.ZERO_SHOT_REACT_DESCRIPTION, verbose=True\n",
    ")"
   ],
   "id": "b3960a2834a6abcd",
   "outputs": [],
   "execution_count": null
  },
  {
   "metadata": {},
   "cell_type": "code",
   "source": [
    "#agent = create_react_agent(jira_toolkit)\n",
    "\n",
    "agent.run(\"What projects are there in this instance?\")\n"
   ],
   "id": "f66e2a1c35d707ac",
   "outputs": [],
   "execution_count": null
  },
  {
   "metadata": {},
   "cell_type": "code",
   "source": "agent.run(\"Can you look into the project called 'Sigma7 - RiskOne' and tell me what work is currently ongoing in it? Specifically, I would like to know what is being actually worked on and what is in the backlog.\")",
   "id": "4a6f813ee8a9947d",
   "outputs": [],
   "execution_count": null
  },
  {
   "metadata": {},
   "cell_type": "code",
   "source": "How about the project \"Product Engineering\"?",
   "id": "2104ab941dc8cef8",
   "outputs": [],
   "execution_count": null
  },
  {
   "metadata": {},
   "cell_type": "code",
   "source": "agent.run(\"What are the issues in the project with the key PE?\")",
   "id": "f382d883f94e6863",
   "outputs": [],
   "execution_count": null
  },
  {
   "metadata": {},
   "cell_type": "code",
   "source": "agent.run(\"Which ones are being actively worked?\")",
   "id": "6e1a32b79694b59e",
   "outputs": [],
   "execution_count": null
  },
  {
   "metadata": {},
   "cell_type": "code",
   "source": "agent.run(\"In your intermediate results, you can see the status field, so not sure what went wrong there.\")",
   "id": "445f7279e28b1645",
   "outputs": [],
   "execution_count": null
  },
  {
   "metadata": {},
   "cell_type": "code",
   "source": "agent.run(\"Can you summarize what you can tell from the details you can see on each of the 4 projects?\")",
   "id": "6564d2f5419dd939",
   "outputs": [],
   "execution_count": null
  },
  {
   "metadata": {},
   "cell_type": "code",
   "source": "agent.run(\"What are the epics for each project?\")",
   "id": "f22ee6098957e68c",
   "outputs": [],
   "execution_count": null
  },
  {
   "metadata": {},
   "cell_type": "code",
   "source": "agent.run(\"You need to enclose the project key in quotes, like 'PE', your last query errored about because you left it out.\")",
   "id": "fb623ae8b3ff5d11",
   "outputs": [],
   "execution_count": null
  },
  {
   "metadata": {},
   "cell_type": "code",
   "source": "",
   "id": "59a42ac67d4e4ce6",
   "outputs": [],
   "execution_count": null
  }
 ],
 "metadata": {
  "kernelspec": {
   "display_name": "Python 3",
   "language": "python",
   "name": "python3"
  },
  "language_info": {
   "codemirror_mode": {
    "name": "ipython",
    "version": 2
   },
   "file_extension": ".py",
   "mimetype": "text/x-python",
   "name": "python",
   "nbconvert_exporter": "python",
   "pygments_lexer": "ipython2",
   "version": "2.7.6"
  }
 },
 "nbformat": 4,
 "nbformat_minor": 5
}
