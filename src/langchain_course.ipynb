{
 "cells": [
  {
   "cell_type": "code",
   "id": "initial_id",
   "metadata": {
    "ExecuteTime": {
     "end_time": "2024-09-23T18:41:05.832174Z",
     "start_time": "2024-09-23T18:41:05.784242Z"
    }
   },
   "source": [
    "import os\n",
    "from openai import OpenAI\n",
    "from dotenv import load_dotenv\n",
    "load_dotenv()\n",
    "\n",
    "chatgptkey = os.getenv(\"CHATGPT_API_KEY\")\n",
    "ai_client = OpenAI(api_key = chatgptkey )\n",
    "\n",
    "\n"
   ],
   "outputs": [],
   "execution_count": 9
  },
  {
   "cell_type": "code",
   "id": "e8d554b4930e3b1d",
   "metadata": {
    "ExecuteTime": {
     "end_time": "2024-09-23T18:41:10.708383Z",
     "start_time": "2024-09-23T18:41:10.705143Z"
    }
   },
   "source": [
    "def get_completion(prompt, model = 'gpt-4o-mini', max_tokens = 100):\n",
    "    \n",
    "    response = ai_client.chat.completions.create(\n",
    "      model = model,\n",
    "      messages = [\n",
    "        {\"role\": \"system\", \"content\": \"You are a helpful assistant.\"},\n",
    "        {\"role\": \"user\", \"content\": prompt}\n",
    "      ],\n",
    "      max_tokens=max_tokens,\n",
    "      n = 1  # Number of completions to generate - set to one. If you want more, create a different function.\n",
    "    )\n",
    "    return response.choices[0].message.content.strip()\n",
    "\n"
   ],
   "outputs": [],
   "execution_count": 10
  },
  {
   "cell_type": "code",
   "id": "400914fc-9dfd-4b59-96c3-4097704a6edf",
   "metadata": {
    "ExecuteTime": {
     "end_time": "2024-09-23T18:41:15.979323Z",
     "start_time": "2024-09-23T18:41:13.808414Z"
    }
   },
   "source": [
    "get_completion('What is the capital of Borneo?')\n"
   ],
   "outputs": [
    {
     "data": {
      "text/plain": [
       "'Borneo is not a country, but rather an island divided among three countries: Indonesia, Malaysia, and Brunei. Each of these countries has its own capital:\\n\\n- The capital of the Indonesian portion (Kalimantan) is **Palangkaraya**.\\n- The capital of the Malaysian portion (Sabah and Sarawak) is **Kuala Lumpur** (for Malaysia as a whole) and **Kuching** (for Sarawak), while **Kota Kinabalu** is'"
      ]
     },
     "execution_count": 11,
     "metadata": {},
     "output_type": "execute_result"
    }
   ],
   "execution_count": 11
  },
  {
   "cell_type": "code",
   "id": "3c0903546d5d2251",
   "metadata": {
    "ExecuteTime": {
     "end_time": "2024-09-23T18:41:20.529652Z",
     "start_time": "2024-09-23T18:41:20.040650Z"
    }
   },
   "source": [
    "#Set up a langchain version of the request\n",
    "\n",
    "from langchain.chat_models import init_chat_model\n",
    "def test():\n",
    "    gpt_4o = init_chat_model(\"gpt-4o\", model_provider=\"openai\", temperature=0, api_key = chatgptkey)\n",
    "    print(gpt_4o.invoke(\"What is the capital of France?\"))\n",
    "\n",
    "test()\n"
   ],
   "outputs": [
    {
     "name": "stdout",
     "output_type": "stream",
     "text": [
      "content='The capital of France is Paris.' additional_kwargs={'refusal': None} response_metadata={'token_usage': {'completion_tokens': 7, 'prompt_tokens': 14, 'total_tokens': 21, 'completion_tokens_details': {'reasoning_tokens': 0}}, 'model_name': 'gpt-4o-2024-05-13', 'system_fingerprint': 'fp_52a7f40b0b', 'finish_reason': 'stop', 'logprobs': None} id='run-1cb9593e-9725-4bab-ab1f-d0e7efb672f8-0' usage_metadata={'input_tokens': 14, 'output_tokens': 7, 'total_tokens': 21}\n"
     ]
    }
   ],
   "execution_count": 12
  },
  {
   "cell_type": "code",
   "id": "22310b3dc482beee",
   "metadata": {},
   "source": [
    "\n",
    "gpt_4o = init_chat_model(\"gpt-4o\", model_provider=\"openai\", temperature=0, api_key = chatgptkey)\n",
    "\n",
    "\n",
    "\n"
   ],
   "outputs": [],
   "execution_count": null
  },
  {
   "cell_type": "code",
   "id": "827038ffaf2b4d97",
   "metadata": {
    "ExecuteTime": {
     "end_time": "2024-09-21T18:23:12.715769Z",
     "start_time": "2024-09-21T18:23:11.351721Z"
    }
   },
   "source": [
    "from buildwithai.langchain_tools import get_summarized_jira_issue, get_ticket_description, generate_code\n",
    "from langchain.agents import initialize_agent, Tool, create_react_agent, create_openapi_agent\n",
    "get_summarized_jira_issue.invoke(\"FORGE-6\")"
   ],
   "outputs": [
    {
     "data": {
      "text/plain": [
       "{'summary': 'Implement an execution capacity based on ChatGPT',\n",
       " 'description': \"Reasoning: The user interface for ChatGPT, and other LLMs allows you to ask it for it's reasoning, ideas, analysis and generally thoughts, but it can't actually get anything done. This epic is requesting a method of adding to this capability by providing actions in response to ChatGPTs output. For example, a SofwareEngineeer would use ChatGPT as it's brain, and would in reaction to ChatGPTs responses write an actual .py file that is runnable and a second .py file that forms a test, it would then get chatgpt to write a reasonable panel of tests, working iteratively until the test was satisfactory, when the code passes the test, check in all of the code and do a PR to have it merged to Dev. \\nOther possible executors or engineers that might be needed would be a PurchasingAgent for instance which would manage the purchase of services or goods from merchants in the market place (Amazon? Consultancies?), or perhaps a PublicRelationsAgent that would be responsible for managing the reputation of the project in the wild using posts to social media accounts, or even using a PurchasingAgent to purchase consulting help from a PR firm. \\n\\nSteps:\\n1. Analyze the needs of a Company, in general, and deliver a list of potential Agents\\n2. Build, test, and deploy a SoftwareEngineer that can read a jira ticket and cause a usable artifact to be deployed on public infrastructure (Start with Amazon AWS, but use Terraform to enable it, so that later it can easily be migrated to other vendors)\\n3. Build detailed Stories to allow the SoftwareEngineer to build out the other use cases. The order can be priortized, but if the SoftwareEngineer is effective, there may be no need to!\\n4. Build a LegalForge that can try to identify when an agent is doing something that is questionable from a legal perspective\\n5. Integrate the PhilosophyForge into the creation workflow\",\n",
       " 'status': 'To Do',\n",
       " 'comments': []}"
      ]
     },
     "execution_count": 7,
     "metadata": {},
     "output_type": "execute_result"
    }
   ],
   "execution_count": 7
  },
  {
   "cell_type": "code",
   "id": "b313fca980051f81",
   "metadata": {
    "ExecuteTime": {
     "end_time": "2024-09-20T23:09:32.901280Z",
     "start_time": "2024-09-20T23:09:32.446133Z"
    }
   },
   "source": "res = get_ticket_description.invoke(\"FORGE-6\")",
   "outputs": [],
   "execution_count": 8
  },
  {
   "cell_type": "code",
   "id": "f6e1569cf4daa1c2",
   "metadata": {
    "ExecuteTime": {
     "end_time": "2024-09-23T18:42:48.049665Z",
     "start_time": "2024-09-23T18:42:47.994747Z"
    }
   },
   "source": [
    "from langchain.agents import initialize_agent, create_react_agent\n",
    "from buildwithai.langchain_tools import get_summarized_jira_issue, get_ticket_description, generate_code\n",
    "\n",
    "gpt_4o = init_chat_model(\"gpt-4o\", model_provider=\"openai\", temperature=0, api_key = chatgptkey)\n",
    "# Register the tool(s) you want the agent to use\n",
    "tools = [get_summarized_jira_issue, get_ticket_description]  # List of available tools\n",
    "#agent = create_react_agent(llm=gpt_4o, tools=tools, prompt = \"Can you tell me detailed information about the ticket FORGE-6?\")\n",
    "# Initialize the agent\n",
    "agent = initialize_agent(\n",
    "    tools=tools,\n",
    "    llm=gpt_4o,\n",
    "    agent=\"zero-shot-react-description\",  # Type of agent to use\n",
    "    verbose=False\n",
    ")"
   ],
   "outputs": [],
   "execution_count": 13
  },
  {
   "metadata": {
    "ExecuteTime": {
     "end_time": "2024-09-22T00:50:44.508462Z",
     "start_time": "2024-09-22T00:50:44.498194Z"
    }
   },
   "cell_type": "code",
   "source": [
    "print(type(agent)) #langchain.agents.agent.AgentExecutor -> This is meant to be deprecated in favor of using langchain graph agents\n",
    "print(dir(agent))"
   ],
   "id": "afa70b8497c9d19d",
   "outputs": [
    {
     "name": "stdout",
     "output_type": "stream",
     "text": [
      "<class 'langchain.agents.agent.AgentExecutor'>\n",
      "['InputType', 'OutputType', '__abstractmethods__', '__annotations__', '__call__', '__class__', '__class_getitem__', '__class_vars__', '__copy__', '__deepcopy__', '__delattr__', '__dict__', '__dir__', '__doc__', '__eq__', '__fields__', '__fields_set__', '__format__', '__ge__', '__get_pydantic_core_schema__', '__get_pydantic_json_schema__', '__getattr__', '__getattribute__', '__getstate__', '__gt__', '__hash__', '__init__', '__init_subclass__', '__iter__', '__le__', '__lt__', '__module__', '__ne__', '__new__', '__or__', '__orig_bases__', '__parameters__', '__pretty__', '__private_attributes__', '__pydantic_complete__', '__pydantic_core_schema__', '__pydantic_custom_init__', '__pydantic_decorators__', '__pydantic_extra__', '__pydantic_fields_set__', '__pydantic_generic_metadata__', '__pydantic_init_subclass__', '__pydantic_parent_namespace__', '__pydantic_post_init__', '__pydantic_private__', '__pydantic_root_model__', '__pydantic_serializer__', '__pydantic_validator__', '__reduce__', '__reduce_ex__', '__repr__', '__repr_args__', '__repr_name__', '__repr_str__', '__rich_repr__', '__ror__', '__setattr__', '__setstate__', '__signature__', '__sizeof__', '__slots__', '__str__', '__subclasshook__', '__weakref__', '_abatch_with_config', '_abc_impl', '_acall', '_acall_with_config', '_action_agent', '_aiter_next_step', '_aperform_agent_action', '_areturn', '_atake_next_step', '_atransform_stream_with_config', '_batch_with_config', '_calculate_keys', '_call', '_call_with_config', '_chain_type', '_check_frozen', '_consume_next_step', '_copy_and_set_values', '_get_tool_return', '_get_value', '_is_protocol', '_iter', '_iter_next_step', '_perform_agent_action', '_prepare_intermediate_steps', '_return', '_run_output_key', '_should_continue', '_take_next_step', '_transform_stream_with_config', '_validate_inputs', '_validate_outputs', 'abatch', 'abatch_as_completed', 'acall', 'agent', 'ainvoke', 'apply', 'aprep_inputs', 'aprep_outputs', 'arun', 'as_tool', 'assign', 'astream', 'astream_events', 'astream_log', 'atransform', 'batch', 'batch_as_completed', 'bind', 'callback_manager', 'callbacks', 'config_schema', 'config_specs', 'configurable_alternatives', 'configurable_fields', 'construct', 'copy', 'dict', 'early_stopping_method', 'from_agent_and_tools', 'from_orm', 'get_config_jsonschema', 'get_graph', 'get_input_jsonschema', 'get_input_schema', 'get_lc_namespace', 'get_name', 'get_output_jsonschema', 'get_output_schema', 'get_prompts', 'handle_parsing_errors', 'input_keys', 'input_schema', 'invoke', 'is_lc_serializable', 'iter', 'json', 'lc_attributes', 'lc_id', 'lc_secrets', 'lookup_tool', 'map', 'max_execution_time', 'max_iterations', 'memory', 'metadata', 'model_computed_fields', 'model_config', 'model_construct', 'model_copy', 'model_dump', 'model_dump_json', 'model_extra', 'model_fields', 'model_fields_set', 'model_json_schema', 'model_parametrized_name', 'model_post_init', 'model_rebuild', 'model_validate', 'model_validate_json', 'model_validate_strings', 'name', 'output_keys', 'output_schema', 'parse_file', 'parse_obj', 'parse_raw', 'pick', 'pipe', 'prep_inputs', 'prep_outputs', 'raise_callback_manager_deprecation', 'return_intermediate_steps', 'run', 'save', 'save_agent', 'schema', 'schema_json', 'set_verbose', 'stream', 'tags', 'to_json', 'to_json_not_implemented', 'tools', 'transform', 'trim_intermediate_steps', 'update_forward_refs', 'validate', 'validate_runnable_agent', 'validate_tools', 'verbose', 'with_alisteners', 'with_config', 'with_fallbacks', 'with_listeners', 'with_retry', 'with_types']\n"
     ]
    }
   ],
   "execution_count": 23
  },
  {
   "metadata": {
    "ExecuteTime": {
     "end_time": "2024-09-22T00:59:40.041040Z",
     "start_time": "2024-09-22T00:59:33.219727Z"
    }
   },
   "cell_type": "code",
   "source": "agent.invoke(\"Can you tell me detailed information about the ticket FORGE-10?\")",
   "id": "96f285ec6b6dbc18",
   "outputs": [
    {
     "data": {
      "text/plain": [
       "{'input': 'Can you tell me detailed information about the ticket FORGE-10?',\n",
       " 'output': 'The ticket FORGE-10 is about implementing a POC to read a Jira ticket, extract the requirements, write code to implement the requirements, add it to a project, and check it in to Jira. The LangChain library was chosen for this task. The project is in progress, and there are several comments from Laurence Dawson discussing the use of the init_project.sh script, the overlap with another ticket (Forge-7), and insights on workflow engines like AirFlow, Prefect, and LangChain. The project repository is called buildwithai and is available on GitHub.'}"
      ]
     },
     "execution_count": 6,
     "metadata": {},
     "output_type": "execute_result"
    }
   ],
   "execution_count": 6
  },
  {
   "metadata": {
    "ExecuteTime": {
     "end_time": "2024-09-22T01:01:26.196821Z",
     "start_time": "2024-09-22T01:01:19.775654Z"
    }
   },
   "cell_type": "code",
   "source": "agent.invoke(\"What do you think are the best next steps to use to get FORGE-10 to work?\")",
   "id": "faa335cee41ed8e1",
   "outputs": [
    {
     "data": {
      "text/plain": [
       "{'input': 'What do you think are the best next steps to use to get FORGE-10 to work?',\n",
       " 'output': 'The best next steps to get FORGE-10 to work are to evaluate and compare workflow engines (LangChain, AirFlow, Prefect), refine the project focus to avoid it becoming too broad, leverage Jira for workflow management, and continue the development of the POC using the \"buildwithai\" project.'}"
      ]
     },
     "execution_count": 7,
     "metadata": {},
     "output_type": "execute_result"
    }
   ],
   "execution_count": 7
  },
  {
   "metadata": {
    "ExecuteTime": {
     "end_time": "2024-09-22T00:59:26.426852Z",
     "start_time": "2024-09-22T00:59:24.057548Z"
    }
   },
   "cell_type": "code",
   "source": "agent.invoke(\"How about just a simple description of FORGE-10?\") ",
   "id": "34a2c23263c41f45",
   "outputs": [
    {
     "data": {
      "text/plain": [
       "{'input': 'How about just a simple description of FORGE-10?',\n",
       " 'output': 'After some discussion with chatgpt, chose the LangChain library for this. Essentially the POC is to read a Jira ticket, extract the requirements, write some code to implement the requirements, add it to a project and check it in to jira.'}"
      ]
     },
     "execution_count": 5,
     "metadata": {},
     "output_type": "execute_result"
    }
   ],
   "execution_count": 5
  },
  {
   "metadata": {
    "ExecuteTime": {
     "end_time": "2024-09-23T18:43:08.595207Z",
     "start_time": "2024-09-23T18:43:08.388636Z"
    }
   },
   "cell_type": "code",
   "source": [
    "\n",
    "from jira import JIRA\n",
    "load_dotenv()\n",
    "# Set up OpenAI credentials\n",
    "\n",
    "# Set up Jira credentials\n",
    "jira_url = os.getenv('JIRA_URL')\n",
    "jira_user = os.getenv('JIRA_USER')\n",
    "jira_api_token = os.getenv('JIRA_API_TOKEN')\n",
    "\n",
    "# Authenticate with Jira\n",
    "jira = JIRA(server=jira_url, basic_auth=(jira_user, jira_api_token))\n",
    "\n"
   ],
   "id": "a2db4957486c473",
   "outputs": [],
   "execution_count": 15
  },
  {
   "metadata": {
    "ExecuteTime": {
     "end_time": "2024-09-23T18:43:15.331100Z",
     "start_time": "2024-09-23T18:43:14.361387Z"
    }
   },
   "cell_type": "code",
   "source": [
    "proj = jira.project('FORGE')\n",
    "issue = jira.issue('FORGE-10')\n"
   ],
   "id": "1a1892fa0bff7886",
   "outputs": [],
   "execution_count": 16
  },
  {
   "metadata": {
    "ExecuteTime": {
     "end_time": "2024-09-23T18:43:26.688292Z",
     "start_time": "2024-09-23T18:43:26.683777Z"
    }
   },
   "cell_type": "code",
   "source": "print(proj.raw)",
   "id": "4b23db038064a713",
   "outputs": [
    {
     "name": "stdout",
     "output_type": "stream",
     "text": [
      "{'expand': 'description,lead,issueTypes,url,projectKeys,permissions,insight', 'self': 'https://larrydawson.atlassian.net/rest/api/2/project/10001', 'id': '10001', 'key': 'FORGE', 'description': '', 'lead': {'self': 'https://larrydawson.atlassian.net/rest/api/2/user?accountId=557058:dacda580-aec1-475d-89b4-3f7f712533db', 'accountId': '557058:dacda580-aec1-475d-89b4-3f7f712533db', 'avatarUrls': {'48x48': 'https://secure.gravatar.com/avatar/709d9a313fcd755826232edf05a1df19?d=https%3A%2F%2Favatar-management--avatars.us-west-2.prod.public.atl-paas.net%2Finitials%2FLD-4.png', '24x24': 'https://secure.gravatar.com/avatar/709d9a313fcd755826232edf05a1df19?d=https%3A%2F%2Favatar-management--avatars.us-west-2.prod.public.atl-paas.net%2Finitials%2FLD-4.png', '16x16': 'https://secure.gravatar.com/avatar/709d9a313fcd755826232edf05a1df19?d=https%3A%2F%2Favatar-management--avatars.us-west-2.prod.public.atl-paas.net%2Finitials%2FLD-4.png', '32x32': 'https://secure.gravatar.com/avatar/709d9a313fcd755826232edf05a1df19?d=https%3A%2F%2Favatar-management--avatars.us-west-2.prod.public.atl-paas.net%2Finitials%2FLD-4.png'}, 'displayName': 'Laurence Dawson', 'active': True}, 'components': [], 'issueTypes': [{'self': 'https://larrydawson.atlassian.net/rest/api/2/issuetype/10000', 'id': '10000', 'description': 'A big user story that needs to be broken down. Created by Jira Software - do not edit or delete.', 'iconUrl': 'https://larrydawson.atlassian.net/images/icons/issuetypes/epic.svg', 'name': 'Epic', 'subtask': False, 'hierarchyLevel': 1}, {'self': 'https://larrydawson.atlassian.net/rest/api/2/issuetype/10006', 'id': '10006', 'description': 'An improvement or enhancement to an existing feature or task.', 'iconUrl': 'https://larrydawson.atlassian.net/rest/api/2/universal_avatar/view/type/issuetype/avatar/10310?size=medium', 'name': 'Improvement', 'subtask': False, 'avatarId': 10310, 'hierarchyLevel': 0}, {'self': 'https://larrydawson.atlassian.net/rest/api/2/issuetype/10007', 'id': '10007', 'description': 'A small, distinct piece of work.', 'iconUrl': 'https://larrydawson.atlassian.net/rest/api/2/universal_avatar/view/type/issuetype/avatar/10318?size=medium', 'name': 'Task', 'subtask': False, 'avatarId': 10318, 'hierarchyLevel': 0}, {'self': 'https://larrydawson.atlassian.net/rest/api/2/issuetype/10008', 'id': '10008', 'description': \"A small piece of work that's part of a larger task.\", 'iconUrl': 'https://larrydawson.atlassian.net/rest/api/2/universal_avatar/view/type/issuetype/avatar/10316?size=medium', 'name': 'Sub-task', 'subtask': True, 'avatarId': 10316, 'hierarchyLevel': -1}, {'self': 'https://larrydawson.atlassian.net/rest/api/2/issuetype/10009', 'id': '10009', 'description': 'A new feature of the product, which has yet to be developed.', 'iconUrl': 'https://larrydawson.atlassian.net/rest/api/2/universal_avatar/view/type/issuetype/avatar/10311?size=medium', 'name': 'New Feature', 'subtask': False, 'avatarId': 10311, 'hierarchyLevel': 0}, {'self': 'https://larrydawson.atlassian.net/rest/api/2/issuetype/10010', 'id': '10010', 'description': 'A problem or error.', 'iconUrl': 'https://larrydawson.atlassian.net/rest/api/2/universal_avatar/view/type/issuetype/avatar/10303?size=medium', 'name': 'Bug', 'subtask': False, 'avatarId': 10303, 'hierarchyLevel': 0}, {'self': 'https://larrydawson.atlassian.net/rest/api/2/issuetype/10011', 'id': '10011', 'description': 'Stories track functionality or features expressed as user goals.', 'iconUrl': 'https://larrydawson.atlassian.net/rest/api/2/universal_avatar/view/type/issuetype/avatar/10300?size=medium', 'name': 'Story', 'subtask': False, 'avatarId': 10300, 'hierarchyLevel': 0}], 'assigneeType': 'PROJECT_LEAD', 'versions': [], 'name': 'ForgeMaker', 'roles': {'atlassian-addons-project-access': 'https://larrydawson.atlassian.net/rest/api/2/project/10001/role/10003', 'Administrators': 'https://larrydawson.atlassian.net/rest/api/2/project/10001/role/10002'}, 'avatarUrls': {'48x48': 'https://larrydawson.atlassian.net/rest/api/2/universal_avatar/view/type/project/avatar/10554', '24x24': 'https://larrydawson.atlassian.net/rest/api/2/universal_avatar/view/type/project/avatar/10554?size=small', '16x16': 'https://larrydawson.atlassian.net/rest/api/2/universal_avatar/view/type/project/avatar/10554?size=xsmall', '32x32': 'https://larrydawson.atlassian.net/rest/api/2/universal_avatar/view/type/project/avatar/10554?size=medium'}, 'projectTypeKey': 'software', 'simplified': False, 'style': 'classic', 'isPrivate': False, 'properties': {}}\n"
     ]
    }
   ],
   "execution_count": 18
  },
  {
   "metadata": {
    "ExecuteTime": {
     "end_time": "2024-09-23T18:48:37.869199Z",
     "start_time": "2024-09-23T18:48:37.001495Z"
    }
   },
   "cell_type": "code",
   "source": [
    "dir(proj)\n",
    "epics = jira.search_issues(\"project = FORGE and issuetype = Epic\")\n",
    "print(epics)\n"
   ],
   "id": "3976672797df9c3d",
   "outputs": [
    {
     "name": "stdout",
     "output_type": "stream",
     "text": [
      "[<JIRA Issue: key='FORGE-8', id='10015'>, <JIRA Issue: key='FORGE-7', id='10014'>, <JIRA Issue: key='FORGE-6', id='10013'>, <JIRA Issue: key='FORGE-2', id='10008'>, <JIRA Issue: key='FORGE-1', id='10007'>]\n"
     ]
    }
   ],
   "execution_count": 21
  },
  {
   "metadata": {
    "ExecuteTime": {
     "end_time": "2024-09-23T18:49:57.686145Z",
     "start_time": "2024-09-23T18:49:57.681334Z"
    }
   },
   "cell_type": "code",
   "source": [
    "for e in epics:\n",
    "    \n",
    "    print(f\"+++++++++++++{e.fields.summary}******\\n\", e.fields.description)"
   ],
   "id": "2ac8fdeb4fdc3aaa",
   "outputs": [
    {
     "name": "stdout",
     "output_type": "stream",
     "text": [
      "+++++++++++++Determine best practice development setups for different languages******\n",
      " This can start with Python using the PyCharm IDE and GitHub tooling, using relatively recent packaging technologies, such as poetry and black for syntax checking. See the python subticket for details.\n",
      "+++++++++++++Agent Design for Automated Systems******\n",
      " This epic aims to design and develop a robust framework for agents that will automate complex tasks across various domains such as finance, human resources, and management. The design will focus on ensuring high security, role-based access control, and compliance with industry standards. Key areas will include:\n",
      "- Developing a base agent class that defines common functionalities and security protocols.\n",
      "- Implementing specialized agents such as FinanceAgent, ManagerAgent, and HrAgent with specific capabilities and access controls.\n",
      "- Ensuring secure communication protocols between agents and integration points.\n",
      "- Establishing a monitoring system for agent activities and anomaly detection.\n",
      "- Defining human oversight mechanisms for critical actions.\n",
      "The outcome will be a scalable and secure agent framework that can be adapted to multiple operational needs within the organization.\n",
      "+++++++++++++Implement an execution capacity based on ChatGPT******\n",
      " Reasoning: The user interface for ChatGPT, and other LLMs allows you to ask it for it's reasoning, ideas, analysis and generally thoughts, but it can't actually get anything done. This epic is requesting a method of adding to this capability by providing actions in response to ChatGPTs output. For example, a SofwareEngineeer would use ChatGPT as it's brain, and would in reaction to ChatGPTs responses write an actual .py file that is runnable and a second .py file that forms a test, it would then get chatgpt to write a reasonable panel of tests, working iteratively until the test was satisfactory, when the code passes the test, check in all of the code and do a PR to have it merged to Dev. \n",
      "Other possible executors or engineers that might be needed would be a PurchasingAgent for instance which would manage the purchase of services or goods from merchants in the market place (Amazon? Consultancies?), or perhaps a PublicRelationsAgent that would be responsible for managing the reputation of the project in the wild using posts to social media accounts, or even using a PurchasingAgent to purchase consulting help from a PR firm. \n",
      "\n",
      "Steps:\n",
      "1. Analyze the needs of a Company, in general, and deliver a list of potential Agents\n",
      "2. Build, test, and deploy a SoftwareEngineer that can read a jira ticket and cause a usable artifact to be deployed on public infrastructure (Start with Amazon AWS, but use Terraform to enable it, so that later it can easily be migrated to other vendors)\n",
      "3. Build detailed Stories to allow the SoftwareEngineer to build out the other use cases. The order can be priortized, but if the SoftwareEngineer is effective, there may be no need to!\n",
      "4. Build a LegalForge that can try to identify when an agent is doing something that is questionable from a legal perspective\n",
      "5. Integrate the PhilosophyForge into the creation workflow\n",
      "+++++++++++++Implement ProjectForge******\n",
      " ProjectForge is conceived as a comprehensive orchestration tool aimed at enhancing the initiation, setup, and ongoing management of software development projects. Its design integrates deep philosophical inquiry with precise technical execution to ensure projects are not only efficiently realized but also align with broader visions and values. The following steps outline the primary responsibilities and strategic needs ProjectForge will address:\n",
      "\n",
      "1. **Philosophical and Technical Requirements Gathering**: Engage with project stakeholders to gather both philosophical motivations and technical requirements. This dual-faceted approach ensures the project's foundation is robust, encompassing the 'why' along with the 'what' and 'how'.\n",
      "\n",
      "2. **Repository Setup**: Automate the creation of source code repositories on GitHub. This includes setting repository names, descriptions, and initial privacy configurations to match project needs.\n",
      "\n",
      "3. **Jira Project Configuration**: Automate the setup of corresponding projects in Jira. This task covers project creation, basic configuration, and alignment with the project's technical and philosophical underpinnings.\n",
      "\n",
      "4. **Jira to Repository Integration**: Establish a bidirectional link between Jira projects and GitHub repositories. This integration is crucial for tracking commits, pull requests, and branches directly within Jira, enhancing visibility and traceability.\n",
      "\n",
      "5. **CI/CD Pipeline Creation**: Design and implement Continuous Integration/Continuous Deployment pipelines tailored to the project's requirements. This setup will support automated testing, building, and deployment practices, crucial for maintaining high-quality codebases and facilitating rapid iteration.\n",
      "\n",
      "6. **Philosophical Alignment in Documentation**: Ensure that all project documentation, including READMEs, contributing guidelines, and wikis, reflect the philosophical ethos and technical specifications of the project. This approach promotes coherence and fidelity to the project's core principles.\n",
      "\n",
      "7. **Initial Code Scaffolding**: Generate foundational code templates or scaffolding to kick-start development efforts. This step may leverage ChatGptForge for generating code snippets that adhere to the project's philosophical and technical frameworks.\n",
      "\n",
      "8. **Strategic Project Initiatives**: Identify and document other strategic needs specific to the project initiation phase. This could include setting up monitoring and analytics, defining data storage solutions, or establishing communication channels and workflows for the development team.\n",
      "\n",
      "By systematically addressing these areas, ProjectForge aims to provide a holistic framework for project initiation, marrying philosophical depth with technical excellence. Each step will be detailed further in its own Jira story, allowing for granular tracking, discussion, and execution.\n",
      "+++++++++++++Development environment setup******\n",
      " Set up all of the components for ForgeMaker,\n",
      "this includes Jira epics and stories, also possibly tasks, but the goal is to have the full environment described\n",
      "in Jira and implemented in the tools.\n",
      "1. There should be a repository setup\n",
      "2. The repository should be set up to be tested on merges, and any build instructions also run on merge\n",
      "3. There should be stories under this main epic that describe all of the development components needed\n",
      "4. Basic files including a .gitignore, some basic source code, a readme.md file should be created and checked in to the repo\n",
      "5. The detailed requirements for the project, including the underlying philosophy should be documented\n"
     ]
    }
   ],
   "execution_count": 23
  },
  {
   "metadata": {
    "ExecuteTime": {
     "end_time": "2024-09-23T19:56:53.157526Z",
     "start_time": "2024-09-23T19:56:53.143773Z"
    }
   },
   "cell_type": "code",
   "source": "epics[0].raw",
   "id": "13239db283225163",
   "outputs": [
    {
     "data": {
      "text/plain": [
       "{'expand': 'operations,versionedRepresentations,editmeta,changelog,customfield_10010.requestTypePractice,renderedFields',\n",
       " 'id': '10015',\n",
       " 'self': 'https://larrydawson.atlassian.net/rest/api/2/issue/10015',\n",
       " 'key': 'FORGE-8',\n",
       " 'fields': {'statuscategorychangedate': '2024-08-25T15:08:26.386-0400',\n",
       "  'issuetype': {'self': 'https://larrydawson.atlassian.net/rest/api/2/issuetype/10000',\n",
       "   'id': '10000',\n",
       "   'description': 'A big user story that needs to be broken down. Created by Jira Software - do not edit or delete.',\n",
       "   'iconUrl': 'https://larrydawson.atlassian.net/images/icons/issuetypes/epic.svg',\n",
       "   'name': 'Epic',\n",
       "   'subtask': False,\n",
       "   'hierarchyLevel': 1},\n",
       "  'timespent': None,\n",
       "  'customfield_10031': None,\n",
       "  'project': {'self': 'https://larrydawson.atlassian.net/rest/api/2/project/10001',\n",
       "   'id': '10001',\n",
       "   'key': 'FORGE',\n",
       "   'name': 'ForgeMaker',\n",
       "   'projectTypeKey': 'software',\n",
       "   'simplified': False,\n",
       "   'avatarUrls': {'48x48': 'https://larrydawson.atlassian.net/rest/api/2/universal_avatar/view/type/project/avatar/10554',\n",
       "    '24x24': 'https://larrydawson.atlassian.net/rest/api/2/universal_avatar/view/type/project/avatar/10554?size=small',\n",
       "    '16x16': 'https://larrydawson.atlassian.net/rest/api/2/universal_avatar/view/type/project/avatar/10554?size=xsmall',\n",
       "    '32x32': 'https://larrydawson.atlassian.net/rest/api/2/universal_avatar/view/type/project/avatar/10554?size=medium'}},\n",
       "  'customfield_10032': None,\n",
       "  'fixVersions': [],\n",
       "  'customfield_10033': None,\n",
       "  'customfield_10034': None,\n",
       "  'aggregatetimespent': None,\n",
       "  'resolution': None,\n",
       "  'customfield_10035': None,\n",
       "  'customfield_10036': None,\n",
       "  'customfield_10037': None,\n",
       "  'customfield_10027': None,\n",
       "  'customfield_10028': None,\n",
       "  'customfield_10029': None,\n",
       "  'resolutiondate': None,\n",
       "  'workratio': -1,\n",
       "  'lastViewed': '2024-09-16T19:52:29.638-0400',\n",
       "  'issuerestriction': {'issuerestrictions': {}, 'shouldDisplay': False},\n",
       "  'watches': {'self': 'https://larrydawson.atlassian.net/rest/api/2/issue/FORGE-8/watchers',\n",
       "   'watchCount': 1,\n",
       "   'isWatching': True},\n",
       "  'created': '2024-08-25T15:08:25.758-0400',\n",
       "  'customfield_10020': None,\n",
       "  'customfield_10021': None,\n",
       "  'customfield_10022': None,\n",
       "  'priority': {'self': 'https://larrydawson.atlassian.net/rest/api/2/priority/3',\n",
       "   'iconUrl': 'https://larrydawson.atlassian.net/images/icons/priorities/medium.svg',\n",
       "   'name': 'Medium',\n",
       "   'id': '3'},\n",
       "  'customfield_10023': None,\n",
       "  'customfield_10024': None,\n",
       "  'customfield_10025': None,\n",
       "  'customfield_10026': None,\n",
       "  'labels': [],\n",
       "  'customfield_10016': None,\n",
       "  'customfield_10017': 'dark_green',\n",
       "  'customfield_10018': {'hasEpicLinkFieldDependency': False,\n",
       "   'showField': False,\n",
       "   'nonEditableReason': {'reason': 'PLUGIN_LICENSE_ERROR',\n",
       "    'message': 'The Parent Link is only available to Jira Premium users.'}},\n",
       "  'customfield_10019': '0|i00033:',\n",
       "  'timeestimate': None,\n",
       "  'aggregatetimeoriginalestimate': None,\n",
       "  'versions': [],\n",
       "  'issuelinks': [],\n",
       "  'assignee': {'self': 'https://larrydawson.atlassian.net/rest/api/2/user?accountId=557058%3Adacda580-aec1-475d-89b4-3f7f712533db',\n",
       "   'accountId': '557058:dacda580-aec1-475d-89b4-3f7f712533db',\n",
       "   'emailAddress': 'larry.dawson@gmail.com',\n",
       "   'avatarUrls': {'48x48': 'https://secure.gravatar.com/avatar/709d9a313fcd755826232edf05a1df19?d=https%3A%2F%2Favatar-management--avatars.us-west-2.prod.public.atl-paas.net%2Finitials%2FLD-4.png',\n",
       "    '24x24': 'https://secure.gravatar.com/avatar/709d9a313fcd755826232edf05a1df19?d=https%3A%2F%2Favatar-management--avatars.us-west-2.prod.public.atl-paas.net%2Finitials%2FLD-4.png',\n",
       "    '16x16': 'https://secure.gravatar.com/avatar/709d9a313fcd755826232edf05a1df19?d=https%3A%2F%2Favatar-management--avatars.us-west-2.prod.public.atl-paas.net%2Finitials%2FLD-4.png',\n",
       "    '32x32': 'https://secure.gravatar.com/avatar/709d9a313fcd755826232edf05a1df19?d=https%3A%2F%2Favatar-management--avatars.us-west-2.prod.public.atl-paas.net%2Finitials%2FLD-4.png'},\n",
       "   'displayName': 'Laurence Dawson',\n",
       "   'active': True,\n",
       "   'timeZone': 'America/New_York',\n",
       "   'accountType': 'atlassian'},\n",
       "  'updated': '2024-08-25T15:12:19.962-0400',\n",
       "  'status': {'self': 'https://larrydawson.atlassian.net/rest/api/2/status/10007',\n",
       "   'description': '',\n",
       "   'iconUrl': 'https://larrydawson.atlassian.net/',\n",
       "   'name': 'To Do',\n",
       "   'id': '10007',\n",
       "   'statusCategory': {'self': 'https://larrydawson.atlassian.net/rest/api/2/statuscategory/2',\n",
       "    'id': 2,\n",
       "    'key': 'new',\n",
       "    'colorName': 'blue-gray',\n",
       "    'name': 'To Do'}},\n",
       "  'components': [],\n",
       "  'timeoriginalestimate': None,\n",
       "  'description': 'This can start with Python using the PyCharm IDE and GitHub tooling, using relatively recent packaging technologies, such as poetry and black for syntax checking. See the python subticket for details.',\n",
       "  'customfield_10010': None,\n",
       "  'customfield_10011': None,\n",
       "  'customfield_10012': {'self': 'https://larrydawson.atlassian.net/rest/api/2/customFieldOption/10016',\n",
       "   'value': 'To Do',\n",
       "   'id': '10016'},\n",
       "  'customfield_10013': 'ghx-label-13',\n",
       "  'customfield_10014': None,\n",
       "  'timetracking': {},\n",
       "  'customfield_10015': None,\n",
       "  'customfield_10005': None,\n",
       "  'customfield_10006': None,\n",
       "  'security': None,\n",
       "  'customfield_10007': None,\n",
       "  'customfield_10008': None,\n",
       "  'customfield_10009': None,\n",
       "  'aggregatetimeestimate': None,\n",
       "  'attachment': [],\n",
       "  'summary': 'Determine best practice development setups for different languages',\n",
       "  'creator': {'self': 'https://larrydawson.atlassian.net/rest/api/2/user?accountId=557058%3Adacda580-aec1-475d-89b4-3f7f712533db',\n",
       "   'accountId': '557058:dacda580-aec1-475d-89b4-3f7f712533db',\n",
       "   'emailAddress': 'larry.dawson@gmail.com',\n",
       "   'avatarUrls': {'48x48': 'https://secure.gravatar.com/avatar/709d9a313fcd755826232edf05a1df19?d=https%3A%2F%2Favatar-management--avatars.us-west-2.prod.public.atl-paas.net%2Finitials%2FLD-4.png',\n",
       "    '24x24': 'https://secure.gravatar.com/avatar/709d9a313fcd755826232edf05a1df19?d=https%3A%2F%2Favatar-management--avatars.us-west-2.prod.public.atl-paas.net%2Finitials%2FLD-4.png',\n",
       "    '16x16': 'https://secure.gravatar.com/avatar/709d9a313fcd755826232edf05a1df19?d=https%3A%2F%2Favatar-management--avatars.us-west-2.prod.public.atl-paas.net%2Finitials%2FLD-4.png',\n",
       "    '32x32': 'https://secure.gravatar.com/avatar/709d9a313fcd755826232edf05a1df19?d=https%3A%2F%2Favatar-management--avatars.us-west-2.prod.public.atl-paas.net%2Finitials%2FLD-4.png'},\n",
       "   'displayName': 'Laurence Dawson',\n",
       "   'active': True,\n",
       "   'timeZone': 'America/New_York',\n",
       "   'accountType': 'atlassian'},\n",
       "  'subtasks': [],\n",
       "  'reporter': {'self': 'https://larrydawson.atlassian.net/rest/api/2/user?accountId=557058%3Adacda580-aec1-475d-89b4-3f7f712533db',\n",
       "   'accountId': '557058:dacda580-aec1-475d-89b4-3f7f712533db',\n",
       "   'emailAddress': 'larry.dawson@gmail.com',\n",
       "   'avatarUrls': {'48x48': 'https://secure.gravatar.com/avatar/709d9a313fcd755826232edf05a1df19?d=https%3A%2F%2Favatar-management--avatars.us-west-2.prod.public.atl-paas.net%2Finitials%2FLD-4.png',\n",
       "    '24x24': 'https://secure.gravatar.com/avatar/709d9a313fcd755826232edf05a1df19?d=https%3A%2F%2Favatar-management--avatars.us-west-2.prod.public.atl-paas.net%2Finitials%2FLD-4.png',\n",
       "    '16x16': 'https://secure.gravatar.com/avatar/709d9a313fcd755826232edf05a1df19?d=https%3A%2F%2Favatar-management--avatars.us-west-2.prod.public.atl-paas.net%2Finitials%2FLD-4.png',\n",
       "    '32x32': 'https://secure.gravatar.com/avatar/709d9a313fcd755826232edf05a1df19?d=https%3A%2F%2Favatar-management--avatars.us-west-2.prod.public.atl-paas.net%2Finitials%2FLD-4.png'},\n",
       "   'displayName': 'Laurence Dawson',\n",
       "   'active': True,\n",
       "   'timeZone': 'America/New_York',\n",
       "   'accountType': 'atlassian'},\n",
       "  'aggregateprogress': {'progress': 0, 'total': 0},\n",
       "  'customfield_10000': '{}',\n",
       "  'customfield_10001': None,\n",
       "  'customfield_10002': [],\n",
       "  'customfield_10003': None,\n",
       "  'customfield_10004': None,\n",
       "  'environment': None,\n",
       "  'duedate': None,\n",
       "  'progress': {'progress': 0, 'total': 0},\n",
       "  'votes': {'self': 'https://larrydawson.atlassian.net/rest/api/2/issue/FORGE-8/votes',\n",
       "   'votes': 0,\n",
       "   'hasVoted': False},\n",
       "  'comment': {'comments': [],\n",
       "   'self': 'https://larrydawson.atlassian.net/rest/api/2/issue/10015/comment',\n",
       "   'maxResults': 0,\n",
       "   'total': 0,\n",
       "   'startAt': 0},\n",
       "  'worklog': {'startAt': 0, 'maxResults': 20, 'total': 0, 'worklogs': []}}}"
      ]
     },
     "execution_count": 24,
     "metadata": {},
     "output_type": "execute_result"
    }
   ],
   "execution_count": 24
  },
  {
   "metadata": {
    "ExecuteTime": {
     "end_time": "2024-09-21T03:13:08.067321Z",
     "start_time": "2024-09-21T03:13:08.050196Z"
    }
   },
   "cell_type": "code",
   "source": "issue.raw",
   "id": "2bee2c10070dad61",
   "outputs": [
    {
     "data": {
      "text/plain": [
       "{'expand': 'renderedFields,names,schema,operations,editmeta,changelog,versionedRepresentations,customfield_10010.requestTypePractice',\n",
       " 'id': '10017',\n",
       " 'self': 'https://larrydawson.atlassian.net/rest/api/2/issue/10017',\n",
       " 'key': 'FORGE-10',\n",
       " 'fields': {'statuscategorychangedate': '2024-09-06T00:07:55.687-0400',\n",
       "  'issuetype': {'self': 'https://larrydawson.atlassian.net/rest/api/2/issuetype/10011',\n",
       "   'id': '10011',\n",
       "   'description': 'Stories track functionality or features expressed as user goals.',\n",
       "   'iconUrl': 'https://larrydawson.atlassian.net/rest/api/2/universal_avatar/view/type/issuetype/avatar/10300?size=medium',\n",
       "   'name': 'Story',\n",
       "   'subtask': False,\n",
       "   'avatarId': 10300,\n",
       "   'hierarchyLevel': 0},\n",
       "  'parent': {'id': '10013',\n",
       "   'key': 'FORGE-6',\n",
       "   'self': 'https://larrydawson.atlassian.net/rest/api/2/issue/10013',\n",
       "   'fields': {'summary': 'Implement an execution capacity based on ChatGPT',\n",
       "    'status': {'self': 'https://larrydawson.atlassian.net/rest/api/2/status/10007',\n",
       "     'description': '',\n",
       "     'iconUrl': 'https://larrydawson.atlassian.net/',\n",
       "     'name': 'To Do',\n",
       "     'id': '10007',\n",
       "     'statusCategory': {'self': 'https://larrydawson.atlassian.net/rest/api/2/statuscategory/2',\n",
       "      'id': 2,\n",
       "      'key': 'new',\n",
       "      'colorName': 'blue-gray',\n",
       "      'name': 'To Do'}},\n",
       "    'priority': {'self': 'https://larrydawson.atlassian.net/rest/api/2/priority/3',\n",
       "     'iconUrl': 'https://larrydawson.atlassian.net/images/icons/priorities/medium.svg',\n",
       "     'name': 'Medium',\n",
       "     'id': '3'},\n",
       "    'issuetype': {'self': 'https://larrydawson.atlassian.net/rest/api/2/issuetype/10000',\n",
       "     'id': '10000',\n",
       "     'description': 'A big user story that needs to be broken down. Created by Jira Software - do not edit or delete.',\n",
       "     'iconUrl': 'https://larrydawson.atlassian.net/images/icons/issuetypes/epic.svg',\n",
       "     'name': 'Epic',\n",
       "     'subtask': False,\n",
       "     'hierarchyLevel': 1}}},\n",
       "  'timespent': None,\n",
       "  'customfield_10031': None,\n",
       "  'project': {'self': 'https://larrydawson.atlassian.net/rest/api/2/project/10001',\n",
       "   'id': '10001',\n",
       "   'key': 'FORGE',\n",
       "   'name': 'ForgeMaker',\n",
       "   'projectTypeKey': 'software',\n",
       "   'simplified': False,\n",
       "   'avatarUrls': {'48x48': 'https://larrydawson.atlassian.net/rest/api/2/universal_avatar/view/type/project/avatar/10554',\n",
       "    '24x24': 'https://larrydawson.atlassian.net/rest/api/2/universal_avatar/view/type/project/avatar/10554?size=small',\n",
       "    '16x16': 'https://larrydawson.atlassian.net/rest/api/2/universal_avatar/view/type/project/avatar/10554?size=xsmall',\n",
       "    '32x32': 'https://larrydawson.atlassian.net/rest/api/2/universal_avatar/view/type/project/avatar/10554?size=medium'}},\n",
       "  'customfield_10032': None,\n",
       "  'fixVersions': [],\n",
       "  'customfield_10033': None,\n",
       "  'customfield_10034': None,\n",
       "  'aggregatetimespent': None,\n",
       "  'resolution': None,\n",
       "  'customfield_10035': None,\n",
       "  'customfield_10027': None,\n",
       "  'customfield_10028': None,\n",
       "  'customfield_10029': None,\n",
       "  'resolutiondate': None,\n",
       "  'workratio': -1,\n",
       "  'issuerestriction': {'issuerestrictions': {}, 'shouldDisplay': False},\n",
       "  'lastViewed': '2024-09-20T18:57:46.988-0400',\n",
       "  'watches': {'self': 'https://larrydawson.atlassian.net/rest/api/2/issue/FORGE-10/watchers',\n",
       "   'watchCount': 1,\n",
       "   'isWatching': True},\n",
       "  'created': '2024-09-05T23:05:50.550-0400',\n",
       "  'customfield_10020': None,\n",
       "  'customfield_10021': None,\n",
       "  'customfield_10022': None,\n",
       "  'priority': {'self': 'https://larrydawson.atlassian.net/rest/api/2/priority/3',\n",
       "   'iconUrl': 'https://larrydawson.atlassian.net/images/icons/priorities/medium.svg',\n",
       "   'name': 'Medium',\n",
       "   'id': '3'},\n",
       "  'customfield_10023': None,\n",
       "  'customfield_10024': None,\n",
       "  'customfield_10025': None,\n",
       "  'customfield_10026': None,\n",
       "  'labels': [],\n",
       "  'customfield_10016': None,\n",
       "  'customfield_10017': None,\n",
       "  'customfield_10018': {'hasEpicLinkFieldDependency': False,\n",
       "   'showField': False,\n",
       "   'nonEditableReason': {'reason': 'PLUGIN_LICENSE_ERROR',\n",
       "    'message': 'The Parent Link is only available to Jira Premium users.'}},\n",
       "  'customfield_10019': '0|i0003j:',\n",
       "  'timeestimate': None,\n",
       "  'aggregatetimeoriginalestimate': None,\n",
       "  'versions': [],\n",
       "  'issuelinks': [],\n",
       "  'assignee': {'self': 'https://larrydawson.atlassian.net/rest/api/2/user?accountId=557058%3Adacda580-aec1-475d-89b4-3f7f712533db',\n",
       "   'accountId': '557058:dacda580-aec1-475d-89b4-3f7f712533db',\n",
       "   'emailAddress': 'larry.dawson@gmail.com',\n",
       "   'avatarUrls': {'48x48': 'https://secure.gravatar.com/avatar/709d9a313fcd755826232edf05a1df19?d=https%3A%2F%2Favatar-management--avatars.us-west-2.prod.public.atl-paas.net%2Finitials%2FLD-4.png',\n",
       "    '24x24': 'https://secure.gravatar.com/avatar/709d9a313fcd755826232edf05a1df19?d=https%3A%2F%2Favatar-management--avatars.us-west-2.prod.public.atl-paas.net%2Finitials%2FLD-4.png',\n",
       "    '16x16': 'https://secure.gravatar.com/avatar/709d9a313fcd755826232edf05a1df19?d=https%3A%2F%2Favatar-management--avatars.us-west-2.prod.public.atl-paas.net%2Finitials%2FLD-4.png',\n",
       "    '32x32': 'https://secure.gravatar.com/avatar/709d9a313fcd755826232edf05a1df19?d=https%3A%2F%2Favatar-management--avatars.us-west-2.prod.public.atl-paas.net%2Finitials%2FLD-4.png'},\n",
       "   'displayName': 'Laurence Dawson',\n",
       "   'active': True,\n",
       "   'timeZone': 'America/New_York',\n",
       "   'accountType': 'atlassian'},\n",
       "  'updated': '2024-09-19T12:16:09.521-0400',\n",
       "  'status': {'self': 'https://larrydawson.atlassian.net/rest/api/2/status/3',\n",
       "   'description': 'This issue is being actively worked on at the moment by the assignee.',\n",
       "   'iconUrl': 'https://larrydawson.atlassian.net/images/icons/statuses/inprogress.png',\n",
       "   'name': 'In Progress',\n",
       "   'id': '3',\n",
       "   'statusCategory': {'self': 'https://larrydawson.atlassian.net/rest/api/2/statuscategory/4',\n",
       "    'id': 4,\n",
       "    'key': 'indeterminate',\n",
       "    'colorName': 'yellow',\n",
       "    'name': 'In Progress'}},\n",
       "  'components': [],\n",
       "  'timeoriginalestimate': None,\n",
       "  'description': 'After some discussion with chatgpt, chose the LangChain library for this. Essentially the POC is to read a Jira ticket, extract the requirements, write some code to implement the requirements, add it to a project and check it in to jira.',\n",
       "  'customfield_10010': None,\n",
       "  'customfield_10014': 'FORGE-6',\n",
       "  'timetracking': {},\n",
       "  'customfield_10015': None,\n",
       "  'customfield_10005': None,\n",
       "  'customfield_10006': None,\n",
       "  'security': None,\n",
       "  'customfield_10007': None,\n",
       "  'customfield_10008': None,\n",
       "  'customfield_10009': None,\n",
       "  'aggregatetimeestimate': None,\n",
       "  'attachment': [],\n",
       "  'summary': 'Implement a POC that shows how a jira ticket can be read and a solution checked in for it',\n",
       "  'creator': {'self': 'https://larrydawson.atlassian.net/rest/api/2/user?accountId=557058%3Adacda580-aec1-475d-89b4-3f7f712533db',\n",
       "   'accountId': '557058:dacda580-aec1-475d-89b4-3f7f712533db',\n",
       "   'emailAddress': 'larry.dawson@gmail.com',\n",
       "   'avatarUrls': {'48x48': 'https://secure.gravatar.com/avatar/709d9a313fcd755826232edf05a1df19?d=https%3A%2F%2Favatar-management--avatars.us-west-2.prod.public.atl-paas.net%2Finitials%2FLD-4.png',\n",
       "    '24x24': 'https://secure.gravatar.com/avatar/709d9a313fcd755826232edf05a1df19?d=https%3A%2F%2Favatar-management--avatars.us-west-2.prod.public.atl-paas.net%2Finitials%2FLD-4.png',\n",
       "    '16x16': 'https://secure.gravatar.com/avatar/709d9a313fcd755826232edf05a1df19?d=https%3A%2F%2Favatar-management--avatars.us-west-2.prod.public.atl-paas.net%2Finitials%2FLD-4.png',\n",
       "    '32x32': 'https://secure.gravatar.com/avatar/709d9a313fcd755826232edf05a1df19?d=https%3A%2F%2Favatar-management--avatars.us-west-2.prod.public.atl-paas.net%2Finitials%2FLD-4.png'},\n",
       "   'displayName': 'Laurence Dawson',\n",
       "   'active': True,\n",
       "   'timeZone': 'America/New_York',\n",
       "   'accountType': 'atlassian'},\n",
       "  'subtasks': [],\n",
       "  'reporter': {'self': 'https://larrydawson.atlassian.net/rest/api/2/user?accountId=557058%3Adacda580-aec1-475d-89b4-3f7f712533db',\n",
       "   'accountId': '557058:dacda580-aec1-475d-89b4-3f7f712533db',\n",
       "   'emailAddress': 'larry.dawson@gmail.com',\n",
       "   'avatarUrls': {'48x48': 'https://secure.gravatar.com/avatar/709d9a313fcd755826232edf05a1df19?d=https%3A%2F%2Favatar-management--avatars.us-west-2.prod.public.atl-paas.net%2Finitials%2FLD-4.png',\n",
       "    '24x24': 'https://secure.gravatar.com/avatar/709d9a313fcd755826232edf05a1df19?d=https%3A%2F%2Favatar-management--avatars.us-west-2.prod.public.atl-paas.net%2Finitials%2FLD-4.png',\n",
       "    '16x16': 'https://secure.gravatar.com/avatar/709d9a313fcd755826232edf05a1df19?d=https%3A%2F%2Favatar-management--avatars.us-west-2.prod.public.atl-paas.net%2Finitials%2FLD-4.png',\n",
       "    '32x32': 'https://secure.gravatar.com/avatar/709d9a313fcd755826232edf05a1df19?d=https%3A%2F%2Favatar-management--avatars.us-west-2.prod.public.atl-paas.net%2Finitials%2FLD-4.png'},\n",
       "   'displayName': 'Laurence Dawson',\n",
       "   'active': True,\n",
       "   'timeZone': 'America/New_York',\n",
       "   'accountType': 'atlassian'},\n",
       "  'aggregateprogress': {'progress': 0, 'total': 0},\n",
       "  'customfield_10000': '{}',\n",
       "  'customfield_10001': None,\n",
       "  'customfield_10002': [],\n",
       "  'customfield_10003': None,\n",
       "  'customfield_10004': None,\n",
       "  'environment': None,\n",
       "  'duedate': None,\n",
       "  'progress': {'progress': 0, 'total': 0},\n",
       "  'votes': {'self': 'https://larrydawson.atlassian.net/rest/api/2/issue/FORGE-10/votes',\n",
       "   'votes': 0,\n",
       "   'hasVoted': False},\n",
       "  'comment': {'comments': [{'self': 'https://larrydawson.atlassian.net/rest/api/2/issue/10017/comment/10005',\n",
       "     'id': '10005',\n",
       "     'author': {'self': 'https://larrydawson.atlassian.net/rest/api/2/user?accountId=557058%3Adacda580-aec1-475d-89b4-3f7f712533db',\n",
       "      'accountId': '557058:dacda580-aec1-475d-89b4-3f7f712533db',\n",
       "      'emailAddress': 'larry.dawson@gmail.com',\n",
       "      'avatarUrls': {'48x48': 'https://secure.gravatar.com/avatar/709d9a313fcd755826232edf05a1df19?d=https%3A%2F%2Favatar-management--avatars.us-west-2.prod.public.atl-paas.net%2Finitials%2FLD-4.png',\n",
       "       '24x24': 'https://secure.gravatar.com/avatar/709d9a313fcd755826232edf05a1df19?d=https%3A%2F%2Favatar-management--avatars.us-west-2.prod.public.atl-paas.net%2Finitials%2FLD-4.png',\n",
       "       '16x16': 'https://secure.gravatar.com/avatar/709d9a313fcd755826232edf05a1df19?d=https%3A%2F%2Favatar-management--avatars.us-west-2.prod.public.atl-paas.net%2Finitials%2FLD-4.png',\n",
       "       '32x32': 'https://secure.gravatar.com/avatar/709d9a313fcd755826232edf05a1df19?d=https%3A%2F%2Favatar-management--avatars.us-west-2.prod.public.atl-paas.net%2Finitials%2FLD-4.png'},\n",
       "      'displayName': 'Laurence Dawson',\n",
       "      'active': True,\n",
       "      'timeZone': 'America/New_York',\n",
       "      'accountType': 'atlassian'},\n",
       "     'body': 'Used the init_project.sh script developed in the context of [https://larrydawson.atlassian.net/browse/FORGE-9|https://larrydawson.atlassian.net/browse/FORGE-9|smart-link] to create a new git project for python using poetry. Project is called buildwithai, and can be found here: [https://github.com/dawsonlp/buildwithai|https://github.com/dawsonlp/buildwithai|smart-link] ',\n",
       "     'updateAuthor': {'self': 'https://larrydawson.atlassian.net/rest/api/2/user?accountId=557058%3Adacda580-aec1-475d-89b4-3f7f712533db',\n",
       "      'accountId': '557058:dacda580-aec1-475d-89b4-3f7f712533db',\n",
       "      'emailAddress': 'larry.dawson@gmail.com',\n",
       "      'avatarUrls': {'48x48': 'https://secure.gravatar.com/avatar/709d9a313fcd755826232edf05a1df19?d=https%3A%2F%2Favatar-management--avatars.us-west-2.prod.public.atl-paas.net%2Finitials%2FLD-4.png',\n",
       "       '24x24': 'https://secure.gravatar.com/avatar/709d9a313fcd755826232edf05a1df19?d=https%3A%2F%2Favatar-management--avatars.us-west-2.prod.public.atl-paas.net%2Finitials%2FLD-4.png',\n",
       "       '16x16': 'https://secure.gravatar.com/avatar/709d9a313fcd755826232edf05a1df19?d=https%3A%2F%2Favatar-management--avatars.us-west-2.prod.public.atl-paas.net%2Finitials%2FLD-4.png',\n",
       "       '32x32': 'https://secure.gravatar.com/avatar/709d9a313fcd755826232edf05a1df19?d=https%3A%2F%2Favatar-management--avatars.us-west-2.prod.public.atl-paas.net%2Finitials%2FLD-4.png'},\n",
       "      'displayName': 'Laurence Dawson',\n",
       "      'active': True,\n",
       "      'timeZone': 'America/New_York',\n",
       "      'accountType': 'atlassian'},\n",
       "     'created': '2024-09-05T23:36:37.892-0400',\n",
       "     'updated': '2024-09-05T23:36:37.892-0400',\n",
       "     'jsdPublic': True},\n",
       "    {'self': 'https://larrydawson.atlassian.net/rest/api/2/issue/10017/comment/10006',\n",
       "     'id': '10006',\n",
       "     'author': {'self': 'https://larrydawson.atlassian.net/rest/api/2/user?accountId=557058%3Adacda580-aec1-475d-89b4-3f7f712533db',\n",
       "      'accountId': '557058:dacda580-aec1-475d-89b4-3f7f712533db',\n",
       "      'emailAddress': 'larry.dawson@gmail.com',\n",
       "      'avatarUrls': {'48x48': 'https://secure.gravatar.com/avatar/709d9a313fcd755826232edf05a1df19?d=https%3A%2F%2Favatar-management--avatars.us-west-2.prod.public.atl-paas.net%2Finitials%2FLD-4.png',\n",
       "       '24x24': 'https://secure.gravatar.com/avatar/709d9a313fcd755826232edf05a1df19?d=https%3A%2F%2Favatar-management--avatars.us-west-2.prod.public.atl-paas.net%2Finitials%2FLD-4.png',\n",
       "       '16x16': 'https://secure.gravatar.com/avatar/709d9a313fcd755826232edf05a1df19?d=https%3A%2F%2Favatar-management--avatars.us-west-2.prod.public.atl-paas.net%2Finitials%2FLD-4.png',\n",
       "       '32x32': 'https://secure.gravatar.com/avatar/709d9a313fcd755826232edf05a1df19?d=https%3A%2F%2Favatar-management--avatars.us-west-2.prod.public.atl-paas.net%2Finitials%2FLD-4.png'},\n",
       "      'displayName': 'Laurence Dawson',\n",
       "      'active': True,\n",
       "      'timeZone': 'America/New_York',\n",
       "      'accountType': 'atlassian'},\n",
       "     'body': 'This is partly a duplicate of Forge-7, but I’ll work on this one.',\n",
       "     'updateAuthor': {'self': 'https://larrydawson.atlassian.net/rest/api/2/user?accountId=557058%3Adacda580-aec1-475d-89b4-3f7f712533db',\n",
       "      'accountId': '557058:dacda580-aec1-475d-89b4-3f7f712533db',\n",
       "      'emailAddress': 'larry.dawson@gmail.com',\n",
       "      'avatarUrls': {'48x48': 'https://secure.gravatar.com/avatar/709d9a313fcd755826232edf05a1df19?d=https%3A%2F%2Favatar-management--avatars.us-west-2.prod.public.atl-paas.net%2Finitials%2FLD-4.png',\n",
       "       '24x24': 'https://secure.gravatar.com/avatar/709d9a313fcd755826232edf05a1df19?d=https%3A%2F%2Favatar-management--avatars.us-west-2.prod.public.atl-paas.net%2Finitials%2FLD-4.png',\n",
       "       '16x16': 'https://secure.gravatar.com/avatar/709d9a313fcd755826232edf05a1df19?d=https%3A%2F%2Favatar-management--avatars.us-west-2.prod.public.atl-paas.net%2Finitials%2FLD-4.png',\n",
       "       '32x32': 'https://secure.gravatar.com/avatar/709d9a313fcd755826232edf05a1df19?d=https%3A%2F%2Favatar-management--avatars.us-west-2.prod.public.atl-paas.net%2Finitials%2FLD-4.png'},\n",
       "      'displayName': 'Laurence Dawson',\n",
       "      'active': True,\n",
       "      'timeZone': 'America/New_York',\n",
       "      'accountType': 'atlassian'},\n",
       "     'created': '2024-09-16T19:53:22.956-0400',\n",
       "     'updated': '2024-09-16T19:53:22.956-0400',\n",
       "     'jsdPublic': True},\n",
       "    {'self': 'https://larrydawson.atlassian.net/rest/api/2/issue/10017/comment/10007',\n",
       "     'id': '10007',\n",
       "     'author': {'self': 'https://larrydawson.atlassian.net/rest/api/2/user?accountId=557058%3Adacda580-aec1-475d-89b4-3f7f712533db',\n",
       "      'accountId': '557058:dacda580-aec1-475d-89b4-3f7f712533db',\n",
       "      'emailAddress': 'larry.dawson@gmail.com',\n",
       "      'avatarUrls': {'48x48': 'https://secure.gravatar.com/avatar/709d9a313fcd755826232edf05a1df19?d=https%3A%2F%2Favatar-management--avatars.us-west-2.prod.public.atl-paas.net%2Finitials%2FLD-4.png',\n",
       "       '24x24': 'https://secure.gravatar.com/avatar/709d9a313fcd755826232edf05a1df19?d=https%3A%2F%2Favatar-management--avatars.us-west-2.prod.public.atl-paas.net%2Finitials%2FLD-4.png',\n",
       "       '16x16': 'https://secure.gravatar.com/avatar/709d9a313fcd755826232edf05a1df19?d=https%3A%2F%2Favatar-management--avatars.us-west-2.prod.public.atl-paas.net%2Finitials%2FLD-4.png',\n",
       "       '32x32': 'https://secure.gravatar.com/avatar/709d9a313fcd755826232edf05a1df19?d=https%3A%2F%2Favatar-management--avatars.us-west-2.prod.public.atl-paas.net%2Finitials%2FLD-4.png'},\n",
       "      'displayName': 'Laurence Dawson',\n",
       "      'active': True,\n",
       "      'timeZone': 'America/New_York',\n",
       "      'accountType': 'atlassian'},\n",
       "     'body': 'Starting to get more comfortable with LangChain, but it is becoming a bit of a catch all project, it is not cleanly focussed on building agents, but also includes a workflow engine, when it probably would make more sense to just use one that already exists - there has been a ton of development on workflow engines that it looks like LangChain is trying to duplicate.\\n\\nI think a useful point of comparison would be AirFlow and Prefect. I’ve worked with Luigi before and don’t like it; I found it limiting in it’s execution model and in the way tasks work and are defined.\\n\\nPrefect has introduced a new library called controlflow which it claims is optimized for Agentic workflows using LLMs. \\n\\n\\nI’m also thinking though that Jira is the place for my workflow → I need LLMs to collaborate and document themselves for humans.',\n",
       "     'updateAuthor': {'self': 'https://larrydawson.atlassian.net/rest/api/2/user?accountId=557058%3Adacda580-aec1-475d-89b4-3f7f712533db',\n",
       "      'accountId': '557058:dacda580-aec1-475d-89b4-3f7f712533db',\n",
       "      'emailAddress': 'larry.dawson@gmail.com',\n",
       "      'avatarUrls': {'48x48': 'https://secure.gravatar.com/avatar/709d9a313fcd755826232edf05a1df19?d=https%3A%2F%2Favatar-management--avatars.us-west-2.prod.public.atl-paas.net%2Finitials%2FLD-4.png',\n",
       "       '24x24': 'https://secure.gravatar.com/avatar/709d9a313fcd755826232edf05a1df19?d=https%3A%2F%2Favatar-management--avatars.us-west-2.prod.public.atl-paas.net%2Finitials%2FLD-4.png',\n",
       "       '16x16': 'https://secure.gravatar.com/avatar/709d9a313fcd755826232edf05a1df19?d=https%3A%2F%2Favatar-management--avatars.us-west-2.prod.public.atl-paas.net%2Finitials%2FLD-4.png',\n",
       "       '32x32': 'https://secure.gravatar.com/avatar/709d9a313fcd755826232edf05a1df19?d=https%3A%2F%2Favatar-management--avatars.us-west-2.prod.public.atl-paas.net%2Finitials%2FLD-4.png'},\n",
       "      'displayName': 'Laurence Dawson',\n",
       "      'active': True,\n",
       "      'timeZone': 'America/New_York',\n",
       "      'accountType': 'atlassian'},\n",
       "     'created': '2024-09-19T12:16:09.521-0400',\n",
       "     'updated': '2024-09-19T12:16:09.521-0400',\n",
       "     'jsdPublic': True}],\n",
       "   'self': 'https://larrydawson.atlassian.net/rest/api/2/issue/10017/comment',\n",
       "   'maxResults': 3,\n",
       "   'total': 3,\n",
       "   'startAt': 0},\n",
       "  'worklog': {'startAt': 0, 'maxResults': 20, 'total': 0, 'worklogs': []}}}"
      ]
     },
     "execution_count": 51,
     "metadata": {},
     "output_type": "execute_result"
    }
   ],
   "execution_count": 51
  },
  {
   "metadata": {
    "ExecuteTime": {
     "end_time": "2024-09-23T19:59:21.817034Z",
     "start_time": "2024-09-23T19:59:21.810828Z"
    }
   },
   "cell_type": "code",
   "source": [
    "for e in epics:\n",
    "    print(e.raw)"
   ],
   "id": "2a7b64117d207e97",
   "outputs": [
    {
     "name": "stdout",
     "output_type": "stream",
     "text": [
      "{'expand': 'operations,versionedRepresentations,editmeta,changelog,customfield_10010.requestTypePractice,renderedFields', 'id': '10015', 'self': 'https://larrydawson.atlassian.net/rest/api/2/issue/10015', 'key': 'FORGE-8', 'fields': {'statuscategorychangedate': '2024-08-25T15:08:26.386-0400', 'issuetype': {'self': 'https://larrydawson.atlassian.net/rest/api/2/issuetype/10000', 'id': '10000', 'description': 'A big user story that needs to be broken down. Created by Jira Software - do not edit or delete.', 'iconUrl': 'https://larrydawson.atlassian.net/images/icons/issuetypes/epic.svg', 'name': 'Epic', 'subtask': False, 'hierarchyLevel': 1}, 'timespent': None, 'customfield_10031': None, 'project': {'self': 'https://larrydawson.atlassian.net/rest/api/2/project/10001', 'id': '10001', 'key': 'FORGE', 'name': 'ForgeMaker', 'projectTypeKey': 'software', 'simplified': False, 'avatarUrls': {'48x48': 'https://larrydawson.atlassian.net/rest/api/2/universal_avatar/view/type/project/avatar/10554', '24x24': 'https://larrydawson.atlassian.net/rest/api/2/universal_avatar/view/type/project/avatar/10554?size=small', '16x16': 'https://larrydawson.atlassian.net/rest/api/2/universal_avatar/view/type/project/avatar/10554?size=xsmall', '32x32': 'https://larrydawson.atlassian.net/rest/api/2/universal_avatar/view/type/project/avatar/10554?size=medium'}}, 'customfield_10032': None, 'fixVersions': [], 'customfield_10033': None, 'customfield_10034': None, 'aggregatetimespent': None, 'resolution': None, 'customfield_10035': None, 'customfield_10036': None, 'customfield_10037': None, 'customfield_10027': None, 'customfield_10028': None, 'customfield_10029': None, 'resolutiondate': None, 'workratio': -1, 'lastViewed': '2024-09-16T19:52:29.638-0400', 'issuerestriction': {'issuerestrictions': {}, 'shouldDisplay': False}, 'watches': {'self': 'https://larrydawson.atlassian.net/rest/api/2/issue/FORGE-8/watchers', 'watchCount': 1, 'isWatching': True}, 'created': '2024-08-25T15:08:25.758-0400', 'customfield_10020': None, 'customfield_10021': None, 'customfield_10022': None, 'priority': {'self': 'https://larrydawson.atlassian.net/rest/api/2/priority/3', 'iconUrl': 'https://larrydawson.atlassian.net/images/icons/priorities/medium.svg', 'name': 'Medium', 'id': '3'}, 'customfield_10023': None, 'customfield_10024': None, 'customfield_10025': None, 'customfield_10026': None, 'labels': [], 'customfield_10016': None, 'customfield_10017': 'dark_green', 'customfield_10018': {'hasEpicLinkFieldDependency': False, 'showField': False, 'nonEditableReason': {'reason': 'PLUGIN_LICENSE_ERROR', 'message': 'The Parent Link is only available to Jira Premium users.'}}, 'customfield_10019': '0|i00033:', 'timeestimate': None, 'aggregatetimeoriginalestimate': None, 'versions': [], 'issuelinks': [], 'assignee': {'self': 'https://larrydawson.atlassian.net/rest/api/2/user?accountId=557058%3Adacda580-aec1-475d-89b4-3f7f712533db', 'accountId': '557058:dacda580-aec1-475d-89b4-3f7f712533db', 'emailAddress': 'larry.dawson@gmail.com', 'avatarUrls': {'48x48': 'https://secure.gravatar.com/avatar/709d9a313fcd755826232edf05a1df19?d=https%3A%2F%2Favatar-management--avatars.us-west-2.prod.public.atl-paas.net%2Finitials%2FLD-4.png', '24x24': 'https://secure.gravatar.com/avatar/709d9a313fcd755826232edf05a1df19?d=https%3A%2F%2Favatar-management--avatars.us-west-2.prod.public.atl-paas.net%2Finitials%2FLD-4.png', '16x16': 'https://secure.gravatar.com/avatar/709d9a313fcd755826232edf05a1df19?d=https%3A%2F%2Favatar-management--avatars.us-west-2.prod.public.atl-paas.net%2Finitials%2FLD-4.png', '32x32': 'https://secure.gravatar.com/avatar/709d9a313fcd755826232edf05a1df19?d=https%3A%2F%2Favatar-management--avatars.us-west-2.prod.public.atl-paas.net%2Finitials%2FLD-4.png'}, 'displayName': 'Laurence Dawson', 'active': True, 'timeZone': 'America/New_York', 'accountType': 'atlassian'}, 'updated': '2024-08-25T15:12:19.962-0400', 'status': {'self': 'https://larrydawson.atlassian.net/rest/api/2/status/10007', 'description': '', 'iconUrl': 'https://larrydawson.atlassian.net/', 'name': 'To Do', 'id': '10007', 'statusCategory': {'self': 'https://larrydawson.atlassian.net/rest/api/2/statuscategory/2', 'id': 2, 'key': 'new', 'colorName': 'blue-gray', 'name': 'To Do'}}, 'components': [], 'timeoriginalestimate': None, 'description': 'This can start with Python using the PyCharm IDE and GitHub tooling, using relatively recent packaging technologies, such as poetry and black for syntax checking. See the python subticket for details.', 'customfield_10010': None, 'customfield_10011': None, 'customfield_10012': {'self': 'https://larrydawson.atlassian.net/rest/api/2/customFieldOption/10016', 'value': 'To Do', 'id': '10016'}, 'customfield_10013': 'ghx-label-13', 'customfield_10014': None, 'timetracking': {}, 'customfield_10015': None, 'customfield_10005': None, 'customfield_10006': None, 'security': None, 'customfield_10007': None, 'customfield_10008': None, 'customfield_10009': None, 'aggregatetimeestimate': None, 'attachment': [], 'summary': 'Determine best practice development setups for different languages', 'creator': {'self': 'https://larrydawson.atlassian.net/rest/api/2/user?accountId=557058%3Adacda580-aec1-475d-89b4-3f7f712533db', 'accountId': '557058:dacda580-aec1-475d-89b4-3f7f712533db', 'emailAddress': 'larry.dawson@gmail.com', 'avatarUrls': {'48x48': 'https://secure.gravatar.com/avatar/709d9a313fcd755826232edf05a1df19?d=https%3A%2F%2Favatar-management--avatars.us-west-2.prod.public.atl-paas.net%2Finitials%2FLD-4.png', '24x24': 'https://secure.gravatar.com/avatar/709d9a313fcd755826232edf05a1df19?d=https%3A%2F%2Favatar-management--avatars.us-west-2.prod.public.atl-paas.net%2Finitials%2FLD-4.png', '16x16': 'https://secure.gravatar.com/avatar/709d9a313fcd755826232edf05a1df19?d=https%3A%2F%2Favatar-management--avatars.us-west-2.prod.public.atl-paas.net%2Finitials%2FLD-4.png', '32x32': 'https://secure.gravatar.com/avatar/709d9a313fcd755826232edf05a1df19?d=https%3A%2F%2Favatar-management--avatars.us-west-2.prod.public.atl-paas.net%2Finitials%2FLD-4.png'}, 'displayName': 'Laurence Dawson', 'active': True, 'timeZone': 'America/New_York', 'accountType': 'atlassian'}, 'subtasks': [], 'reporter': {'self': 'https://larrydawson.atlassian.net/rest/api/2/user?accountId=557058%3Adacda580-aec1-475d-89b4-3f7f712533db', 'accountId': '557058:dacda580-aec1-475d-89b4-3f7f712533db', 'emailAddress': 'larry.dawson@gmail.com', 'avatarUrls': {'48x48': 'https://secure.gravatar.com/avatar/709d9a313fcd755826232edf05a1df19?d=https%3A%2F%2Favatar-management--avatars.us-west-2.prod.public.atl-paas.net%2Finitials%2FLD-4.png', '24x24': 'https://secure.gravatar.com/avatar/709d9a313fcd755826232edf05a1df19?d=https%3A%2F%2Favatar-management--avatars.us-west-2.prod.public.atl-paas.net%2Finitials%2FLD-4.png', '16x16': 'https://secure.gravatar.com/avatar/709d9a313fcd755826232edf05a1df19?d=https%3A%2F%2Favatar-management--avatars.us-west-2.prod.public.atl-paas.net%2Finitials%2FLD-4.png', '32x32': 'https://secure.gravatar.com/avatar/709d9a313fcd755826232edf05a1df19?d=https%3A%2F%2Favatar-management--avatars.us-west-2.prod.public.atl-paas.net%2Finitials%2FLD-4.png'}, 'displayName': 'Laurence Dawson', 'active': True, 'timeZone': 'America/New_York', 'accountType': 'atlassian'}, 'aggregateprogress': {'progress': 0, 'total': 0}, 'customfield_10000': '{}', 'customfield_10001': None, 'customfield_10002': [], 'customfield_10003': None, 'customfield_10004': None, 'environment': None, 'duedate': None, 'progress': {'progress': 0, 'total': 0}, 'votes': {'self': 'https://larrydawson.atlassian.net/rest/api/2/issue/FORGE-8/votes', 'votes': 0, 'hasVoted': False}, 'comment': {'comments': [], 'self': 'https://larrydawson.atlassian.net/rest/api/2/issue/10015/comment', 'maxResults': 0, 'total': 0, 'startAt': 0}, 'worklog': {'startAt': 0, 'maxResults': 20, 'total': 0, 'worklogs': []}}}\n",
      "{'expand': 'operations,versionedRepresentations,editmeta,changelog,customfield_10010.requestTypePractice,renderedFields', 'id': '10014', 'self': 'https://larrydawson.atlassian.net/rest/api/2/issue/10014', 'key': 'FORGE-7', 'fields': {'statuscategorychangedate': '2024-04-23T12:26:06.520-0400', 'issuetype': {'self': 'https://larrydawson.atlassian.net/rest/api/2/issuetype/10000', 'id': '10000', 'description': 'A big user story that needs to be broken down. Created by Jira Software - do not edit or delete.', 'iconUrl': 'https://larrydawson.atlassian.net/images/icons/issuetypes/epic.svg', 'name': 'Epic', 'subtask': False, 'hierarchyLevel': 1}, 'timespent': None, 'customfield_10031': None, 'project': {'self': 'https://larrydawson.atlassian.net/rest/api/2/project/10001', 'id': '10001', 'key': 'FORGE', 'name': 'ForgeMaker', 'projectTypeKey': 'software', 'simplified': False, 'avatarUrls': {'48x48': 'https://larrydawson.atlassian.net/rest/api/2/universal_avatar/view/type/project/avatar/10554', '24x24': 'https://larrydawson.atlassian.net/rest/api/2/universal_avatar/view/type/project/avatar/10554?size=small', '16x16': 'https://larrydawson.atlassian.net/rest/api/2/universal_avatar/view/type/project/avatar/10554?size=xsmall', '32x32': 'https://larrydawson.atlassian.net/rest/api/2/universal_avatar/view/type/project/avatar/10554?size=medium'}}, 'customfield_10032': None, 'fixVersions': [], 'customfield_10033': None, 'customfield_10034': None, 'aggregatetimespent': None, 'resolution': None, 'customfield_10035': None, 'customfield_10036': None, 'customfield_10037': None, 'customfield_10027': None, 'customfield_10028': None, 'customfield_10029': None, 'resolutiondate': None, 'workratio': -1, 'issuerestriction': {'issuerestrictions': {}, 'shouldDisplay': False}, 'watches': {'self': 'https://larrydawson.atlassian.net/rest/api/2/issue/FORGE-7/watchers', 'watchCount': 1, 'isWatching': True}, 'lastViewed': '2024-09-16T19:51:46.071-0400', 'created': '2024-04-23T12:26:05.606-0400', 'customfield_10020': None, 'customfield_10021': None, 'customfield_10022': None, 'priority': {'self': 'https://larrydawson.atlassian.net/rest/api/2/priority/3', 'iconUrl': 'https://larrydawson.atlassian.net/images/icons/priorities/medium.svg', 'name': 'Medium', 'id': '3'}, 'customfield_10023': None, 'customfield_10024': None, 'customfield_10025': None, 'customfield_10026': None, 'labels': [], 'customfield_10016': None, 'customfield_10017': 'grey', 'customfield_10018': {'hasEpicLinkFieldDependency': False, 'showField': False, 'nonEditableReason': {'reason': 'PLUGIN_LICENSE_ERROR', 'message': 'The Parent Link is only available to Jira Premium users.'}}, 'customfield_10019': '0|i0002v:', 'timeestimate': None, 'aggregatetimeoriginalestimate': None, 'versions': [], 'issuelinks': [], 'assignee': {'self': 'https://larrydawson.atlassian.net/rest/api/2/user?accountId=557058%3Adacda580-aec1-475d-89b4-3f7f712533db', 'accountId': '557058:dacda580-aec1-475d-89b4-3f7f712533db', 'emailAddress': 'larry.dawson@gmail.com', 'avatarUrls': {'48x48': 'https://secure.gravatar.com/avatar/709d9a313fcd755826232edf05a1df19?d=https%3A%2F%2Favatar-management--avatars.us-west-2.prod.public.atl-paas.net%2Finitials%2FLD-4.png', '24x24': 'https://secure.gravatar.com/avatar/709d9a313fcd755826232edf05a1df19?d=https%3A%2F%2Favatar-management--avatars.us-west-2.prod.public.atl-paas.net%2Finitials%2FLD-4.png', '16x16': 'https://secure.gravatar.com/avatar/709d9a313fcd755826232edf05a1df19?d=https%3A%2F%2Favatar-management--avatars.us-west-2.prod.public.atl-paas.net%2Finitials%2FLD-4.png', '32x32': 'https://secure.gravatar.com/avatar/709d9a313fcd755826232edf05a1df19?d=https%3A%2F%2Favatar-management--avatars.us-west-2.prod.public.atl-paas.net%2Finitials%2FLD-4.png'}, 'displayName': 'Laurence Dawson', 'active': True, 'timeZone': 'America/New_York', 'accountType': 'atlassian'}, 'updated': '2024-05-06T09:18:23.943-0400', 'status': {'self': 'https://larrydawson.atlassian.net/rest/api/2/status/10007', 'description': '', 'iconUrl': 'https://larrydawson.atlassian.net/', 'name': 'To Do', 'id': '10007', 'statusCategory': {'self': 'https://larrydawson.atlassian.net/rest/api/2/statuscategory/2', 'id': 2, 'key': 'new', 'colorName': 'blue-gray', 'name': 'To Do'}}, 'components': [], 'timeoriginalestimate': None, 'description': 'This epic aims to design and develop a robust framework for agents that will automate complex tasks across various domains such as finance, human resources, and management. The design will focus on ensuring high security, role-based access control, and compliance with industry standards. Key areas will include:\\n- Developing a base agent class that defines common functionalities and security protocols.\\n- Implementing specialized agents such as FinanceAgent, ManagerAgent, and HrAgent with specific capabilities and access controls.\\n- Ensuring secure communication protocols between agents and integration points.\\n- Establishing a monitoring system for agent activities and anomaly detection.\\n- Defining human oversight mechanisms for critical actions.\\nThe outcome will be a scalable and secure agent framework that can be adapted to multiple operational needs within the organization.', 'customfield_10010': None, 'customfield_10011': None, 'customfield_10012': {'self': 'https://larrydawson.atlassian.net/rest/api/2/customFieldOption/10016', 'value': 'To Do', 'id': '10016'}, 'customfield_10013': 'ghx-label-12', 'customfield_10014': None, 'timetracking': {}, 'customfield_10015': None, 'customfield_10005': None, 'customfield_10006': None, 'security': None, 'customfield_10007': None, 'customfield_10008': None, 'customfield_10009': None, 'aggregatetimeestimate': None, 'attachment': [], 'summary': 'Agent Design for Automated Systems', 'creator': {'self': 'https://larrydawson.atlassian.net/rest/api/2/user?accountId=557058%3Adacda580-aec1-475d-89b4-3f7f712533db', 'accountId': '557058:dacda580-aec1-475d-89b4-3f7f712533db', 'emailAddress': 'larry.dawson@gmail.com', 'avatarUrls': {'48x48': 'https://secure.gravatar.com/avatar/709d9a313fcd755826232edf05a1df19?d=https%3A%2F%2Favatar-management--avatars.us-west-2.prod.public.atl-paas.net%2Finitials%2FLD-4.png', '24x24': 'https://secure.gravatar.com/avatar/709d9a313fcd755826232edf05a1df19?d=https%3A%2F%2Favatar-management--avatars.us-west-2.prod.public.atl-paas.net%2Finitials%2FLD-4.png', '16x16': 'https://secure.gravatar.com/avatar/709d9a313fcd755826232edf05a1df19?d=https%3A%2F%2Favatar-management--avatars.us-west-2.prod.public.atl-paas.net%2Finitials%2FLD-4.png', '32x32': 'https://secure.gravatar.com/avatar/709d9a313fcd755826232edf05a1df19?d=https%3A%2F%2Favatar-management--avatars.us-west-2.prod.public.atl-paas.net%2Finitials%2FLD-4.png'}, 'displayName': 'Laurence Dawson', 'active': True, 'timeZone': 'America/New_York', 'accountType': 'atlassian'}, 'subtasks': [], 'reporter': {'self': 'https://larrydawson.atlassian.net/rest/api/2/user?accountId=557058%3Adacda580-aec1-475d-89b4-3f7f712533db', 'accountId': '557058:dacda580-aec1-475d-89b4-3f7f712533db', 'emailAddress': 'larry.dawson@gmail.com', 'avatarUrls': {'48x48': 'https://secure.gravatar.com/avatar/709d9a313fcd755826232edf05a1df19?d=https%3A%2F%2Favatar-management--avatars.us-west-2.prod.public.atl-paas.net%2Finitials%2FLD-4.png', '24x24': 'https://secure.gravatar.com/avatar/709d9a313fcd755826232edf05a1df19?d=https%3A%2F%2Favatar-management--avatars.us-west-2.prod.public.atl-paas.net%2Finitials%2FLD-4.png', '16x16': 'https://secure.gravatar.com/avatar/709d9a313fcd755826232edf05a1df19?d=https%3A%2F%2Favatar-management--avatars.us-west-2.prod.public.atl-paas.net%2Finitials%2FLD-4.png', '32x32': 'https://secure.gravatar.com/avatar/709d9a313fcd755826232edf05a1df19?d=https%3A%2F%2Favatar-management--avatars.us-west-2.prod.public.atl-paas.net%2Finitials%2FLD-4.png'}, 'displayName': 'Laurence Dawson', 'active': True, 'timeZone': 'America/New_York', 'accountType': 'atlassian'}, 'aggregateprogress': {'progress': 0, 'total': 0}, 'customfield_10000': '{}', 'customfield_10001': None, 'customfield_10002': [], 'customfield_10003': None, 'customfield_10004': None, 'environment': None, 'duedate': None, 'progress': {'progress': 0, 'total': 0}, 'votes': {'self': 'https://larrydawson.atlassian.net/rest/api/2/issue/FORGE-7/votes', 'votes': 0, 'hasVoted': False}, 'comment': {'comments': [{'self': 'https://larrydawson.atlassian.net/rest/api/2/issue/10014/comment/10000', 'id': '10000', 'author': {'self': 'https://larrydawson.atlassian.net/rest/api/2/user?accountId=557058%3Adacda580-aec1-475d-89b4-3f7f712533db', 'accountId': '557058:dacda580-aec1-475d-89b4-3f7f712533db', 'emailAddress': 'larry.dawson@gmail.com', 'avatarUrls': {'48x48': 'https://secure.gravatar.com/avatar/709d9a313fcd755826232edf05a1df19?d=https%3A%2F%2Favatar-management--avatars.us-west-2.prod.public.atl-paas.net%2Finitials%2FLD-4.png', '24x24': 'https://secure.gravatar.com/avatar/709d9a313fcd755826232edf05a1df19?d=https%3A%2F%2Favatar-management--avatars.us-west-2.prod.public.atl-paas.net%2Finitials%2FLD-4.png', '16x16': 'https://secure.gravatar.com/avatar/709d9a313fcd755826232edf05a1df19?d=https%3A%2F%2Favatar-management--avatars.us-west-2.prod.public.atl-paas.net%2Finitials%2FLD-4.png', '32x32': 'https://secure.gravatar.com/avatar/709d9a313fcd755826232edf05a1df19?d=https%3A%2F%2Favatar-management--avatars.us-west-2.prod.public.atl-paas.net%2Finitials%2FLD-4.png'}, 'displayName': 'Laurence Dawson', 'active': True, 'timeZone': 'America/New_York', 'accountType': 'atlassian'}, 'body': 'I am going to start this by implementing a very simple agent that is responsible for reading a request from a Jira ticket for a python script, implementing the script and printing instructions on how to run it. \\nIt will take the key for a Jira ticket and read the details, then compose the code and save it to disk for running. Initial dev step is just to build the integration from jira. I think I may need to build a standard set of functionality that builds a program. Requires some research and coding to test. \\nItems that need handling \\n\\nTask 1 - given a chatgpt code snippet returned, extract and run it. (Deal with security implications later - sandboxing and testing)\\nTask 2 - interacting with chatgpt to pull information, being able to refine and pull out the piece of code to be used.\\nTask 3 - how to get the code containerized (maybe this is actually task 0, it would make security easier.', 'updateAuthor': {'self': 'https://larrydawson.atlassian.net/rest/api/2/user?accountId=557058%3Adacda580-aec1-475d-89b4-3f7f712533db', 'accountId': '557058:dacda580-aec1-475d-89b4-3f7f712533db', 'emailAddress': 'larry.dawson@gmail.com', 'avatarUrls': {'48x48': 'https://secure.gravatar.com/avatar/709d9a313fcd755826232edf05a1df19?d=https%3A%2F%2Favatar-management--avatars.us-west-2.prod.public.atl-paas.net%2Finitials%2FLD-4.png', '24x24': 'https://secure.gravatar.com/avatar/709d9a313fcd755826232edf05a1df19?d=https%3A%2F%2Favatar-management--avatars.us-west-2.prod.public.atl-paas.net%2Finitials%2FLD-4.png', '16x16': 'https://secure.gravatar.com/avatar/709d9a313fcd755826232edf05a1df19?d=https%3A%2F%2Favatar-management--avatars.us-west-2.prod.public.atl-paas.net%2Finitials%2FLD-4.png', '32x32': 'https://secure.gravatar.com/avatar/709d9a313fcd755826232edf05a1df19?d=https%3A%2F%2Favatar-management--avatars.us-west-2.prod.public.atl-paas.net%2Finitials%2FLD-4.png'}, 'displayName': 'Laurence Dawson', 'active': True, 'timeZone': 'America/New_York', 'accountType': 'atlassian'}, 'created': '2024-05-06T09:18:23.943-0400', 'updated': '2024-05-06T09:18:23.943-0400', 'jsdPublic': True}], 'self': 'https://larrydawson.atlassian.net/rest/api/2/issue/10014/comment', 'maxResults': 1, 'total': 1, 'startAt': 0}, 'worklog': {'startAt': 0, 'maxResults': 20, 'total': 0, 'worklogs': []}}}\n",
      "{'expand': 'operations,versionedRepresentations,editmeta,changelog,customfield_10010.requestTypePractice,renderedFields', 'id': '10013', 'self': 'https://larrydawson.atlassian.net/rest/api/2/issue/10013', 'key': 'FORGE-6', 'fields': {'statuscategorychangedate': '2024-03-24T13:47:51.539-0400', 'issuetype': {'self': 'https://larrydawson.atlassian.net/rest/api/2/issuetype/10000', 'id': '10000', 'description': 'A big user story that needs to be broken down. Created by Jira Software - do not edit or delete.', 'iconUrl': 'https://larrydawson.atlassian.net/images/icons/issuetypes/epic.svg', 'name': 'Epic', 'subtask': False, 'hierarchyLevel': 1}, 'timespent': None, 'customfield_10031': None, 'project': {'self': 'https://larrydawson.atlassian.net/rest/api/2/project/10001', 'id': '10001', 'key': 'FORGE', 'name': 'ForgeMaker', 'projectTypeKey': 'software', 'simplified': False, 'avatarUrls': {'48x48': 'https://larrydawson.atlassian.net/rest/api/2/universal_avatar/view/type/project/avatar/10554', '24x24': 'https://larrydawson.atlassian.net/rest/api/2/universal_avatar/view/type/project/avatar/10554?size=small', '16x16': 'https://larrydawson.atlassian.net/rest/api/2/universal_avatar/view/type/project/avatar/10554?size=xsmall', '32x32': 'https://larrydawson.atlassian.net/rest/api/2/universal_avatar/view/type/project/avatar/10554?size=medium'}}, 'customfield_10032': None, 'fixVersions': [], 'customfield_10033': None, 'customfield_10034': None, 'aggregatetimespent': None, 'resolution': None, 'customfield_10035': None, 'customfield_10036': None, 'customfield_10037': None, 'customfield_10027': None, 'customfield_10028': None, 'customfield_10029': None, 'resolutiondate': None, 'workratio': -1, 'lastViewed': '2024-09-05T23:04:59.526-0400', 'issuerestriction': {'issuerestrictions': {}, 'shouldDisplay': False}, 'watches': {'self': 'https://larrydawson.atlassian.net/rest/api/2/issue/FORGE-6/watchers', 'watchCount': 1, 'isWatching': True}, 'created': '2024-03-24T13:47:51.116-0400', 'customfield_10020': None, 'customfield_10021': None, 'customfield_10022': None, 'priority': {'self': 'https://larrydawson.atlassian.net/rest/api/2/priority/3', 'iconUrl': 'https://larrydawson.atlassian.net/images/icons/priorities/medium.svg', 'name': 'Medium', 'id': '3'}, 'customfield_10023': None, 'customfield_10024': None, 'customfield_10025': None, 'customfield_10026': None, 'labels': [], 'customfield_10016': None, 'customfield_10017': 'dark_purple', 'customfield_10018': {'hasEpicLinkFieldDependency': False, 'showField': False, 'nonEditableReason': {'reason': 'PLUGIN_LICENSE_ERROR', 'message': 'The Parent Link is only available to Jira Premium users.'}}, 'customfield_10019': '0|i0002n:', 'timeestimate': None, 'aggregatetimeoriginalestimate': None, 'versions': [], 'issuelinks': [], 'assignee': {'self': 'https://larrydawson.atlassian.net/rest/api/2/user?accountId=557058%3Adacda580-aec1-475d-89b4-3f7f712533db', 'accountId': '557058:dacda580-aec1-475d-89b4-3f7f712533db', 'emailAddress': 'larry.dawson@gmail.com', 'avatarUrls': {'48x48': 'https://secure.gravatar.com/avatar/709d9a313fcd755826232edf05a1df19?d=https%3A%2F%2Favatar-management--avatars.us-west-2.prod.public.atl-paas.net%2Finitials%2FLD-4.png', '24x24': 'https://secure.gravatar.com/avatar/709d9a313fcd755826232edf05a1df19?d=https%3A%2F%2Favatar-management--avatars.us-west-2.prod.public.atl-paas.net%2Finitials%2FLD-4.png', '16x16': 'https://secure.gravatar.com/avatar/709d9a313fcd755826232edf05a1df19?d=https%3A%2F%2Favatar-management--avatars.us-west-2.prod.public.atl-paas.net%2Finitials%2FLD-4.png', '32x32': 'https://secure.gravatar.com/avatar/709d9a313fcd755826232edf05a1df19?d=https%3A%2F%2Favatar-management--avatars.us-west-2.prod.public.atl-paas.net%2Finitials%2FLD-4.png'}, 'displayName': 'Laurence Dawson', 'active': True, 'timeZone': 'America/New_York', 'accountType': 'atlassian'}, 'updated': '2024-09-05T23:05:50.595-0400', 'status': {'self': 'https://larrydawson.atlassian.net/rest/api/2/status/10007', 'description': '', 'iconUrl': 'https://larrydawson.atlassian.net/', 'name': 'To Do', 'id': '10007', 'statusCategory': {'self': 'https://larrydawson.atlassian.net/rest/api/2/statuscategory/2', 'id': 2, 'key': 'new', 'colorName': 'blue-gray', 'name': 'To Do'}}, 'components': [], 'timeoriginalestimate': None, 'description': \"Reasoning: The user interface for ChatGPT, and other LLMs allows you to ask it for it's reasoning, ideas, analysis and generally thoughts, but it can't actually get anything done. This epic is requesting a method of adding to this capability by providing actions in response to ChatGPTs output. For example, a SofwareEngineeer would use ChatGPT as it's brain, and would in reaction to ChatGPTs responses write an actual .py file that is runnable and a second .py file that forms a test, it would then get chatgpt to write a reasonable panel of tests, working iteratively until the test was satisfactory, when the code passes the test, check in all of the code and do a PR to have it merged to Dev. \\nOther possible executors or engineers that might be needed would be a PurchasingAgent for instance which would manage the purchase of services or goods from merchants in the market place (Amazon? Consultancies?), or perhaps a PublicRelationsAgent that would be responsible for managing the reputation of the project in the wild using posts to social media accounts, or even using a PurchasingAgent to purchase consulting help from a PR firm. \\n\\nSteps:\\n1. Analyze the needs of a Company, in general, and deliver a list of potential Agents\\n2. Build, test, and deploy a SoftwareEngineer that can read a jira ticket and cause a usable artifact to be deployed on public infrastructure (Start with Amazon AWS, but use Terraform to enable it, so that later it can easily be migrated to other vendors)\\n3. Build detailed Stories to allow the SoftwareEngineer to build out the other use cases. The order can be priortized, but if the SoftwareEngineer is effective, there may be no need to!\\n4. Build a LegalForge that can try to identify when an agent is doing something that is questionable from a legal perspective\\n5. Integrate the PhilosophyForge into the creation workflow\", 'customfield_10010': None, 'customfield_10011': None, 'customfield_10012': {'self': 'https://larrydawson.atlassian.net/rest/api/2/customFieldOption/10016', 'value': 'To Do', 'id': '10016'}, 'customfield_10013': 'ghx-label-8', 'customfield_10014': None, 'timetracking': {}, 'customfield_10015': None, 'customfield_10005': None, 'customfield_10006': None, 'security': None, 'customfield_10007': None, 'customfield_10008': None, 'customfield_10009': None, 'aggregatetimeestimate': None, 'attachment': [], 'summary': 'Implement an execution capacity based on ChatGPT', 'creator': {'self': 'https://larrydawson.atlassian.net/rest/api/2/user?accountId=557058%3Adacda580-aec1-475d-89b4-3f7f712533db', 'accountId': '557058:dacda580-aec1-475d-89b4-3f7f712533db', 'emailAddress': 'larry.dawson@gmail.com', 'avatarUrls': {'48x48': 'https://secure.gravatar.com/avatar/709d9a313fcd755826232edf05a1df19?d=https%3A%2F%2Favatar-management--avatars.us-west-2.prod.public.atl-paas.net%2Finitials%2FLD-4.png', '24x24': 'https://secure.gravatar.com/avatar/709d9a313fcd755826232edf05a1df19?d=https%3A%2F%2Favatar-management--avatars.us-west-2.prod.public.atl-paas.net%2Finitials%2FLD-4.png', '16x16': 'https://secure.gravatar.com/avatar/709d9a313fcd755826232edf05a1df19?d=https%3A%2F%2Favatar-management--avatars.us-west-2.prod.public.atl-paas.net%2Finitials%2FLD-4.png', '32x32': 'https://secure.gravatar.com/avatar/709d9a313fcd755826232edf05a1df19?d=https%3A%2F%2Favatar-management--avatars.us-west-2.prod.public.atl-paas.net%2Finitials%2FLD-4.png'}, 'displayName': 'Laurence Dawson', 'active': True, 'timeZone': 'America/New_York', 'accountType': 'atlassian'}, 'subtasks': [], 'reporter': {'self': 'https://larrydawson.atlassian.net/rest/api/2/user?accountId=557058%3Adacda580-aec1-475d-89b4-3f7f712533db', 'accountId': '557058:dacda580-aec1-475d-89b4-3f7f712533db', 'emailAddress': 'larry.dawson@gmail.com', 'avatarUrls': {'48x48': 'https://secure.gravatar.com/avatar/709d9a313fcd755826232edf05a1df19?d=https%3A%2F%2Favatar-management--avatars.us-west-2.prod.public.atl-paas.net%2Finitials%2FLD-4.png', '24x24': 'https://secure.gravatar.com/avatar/709d9a313fcd755826232edf05a1df19?d=https%3A%2F%2Favatar-management--avatars.us-west-2.prod.public.atl-paas.net%2Finitials%2FLD-4.png', '16x16': 'https://secure.gravatar.com/avatar/709d9a313fcd755826232edf05a1df19?d=https%3A%2F%2Favatar-management--avatars.us-west-2.prod.public.atl-paas.net%2Finitials%2FLD-4.png', '32x32': 'https://secure.gravatar.com/avatar/709d9a313fcd755826232edf05a1df19?d=https%3A%2F%2Favatar-management--avatars.us-west-2.prod.public.atl-paas.net%2Finitials%2FLD-4.png'}, 'displayName': 'Laurence Dawson', 'active': True, 'timeZone': 'America/New_York', 'accountType': 'atlassian'}, 'aggregateprogress': {'progress': 0, 'total': 0}, 'customfield_10000': '{}', 'customfield_10001': None, 'customfield_10002': [], 'customfield_10003': None, 'customfield_10004': None, 'environment': None, 'duedate': None, 'progress': {'progress': 0, 'total': 0}, 'comment': {'comments': [], 'self': 'https://larrydawson.atlassian.net/rest/api/2/issue/10013/comment', 'maxResults': 0, 'total': 0, 'startAt': 0}, 'votes': {'self': 'https://larrydawson.atlassian.net/rest/api/2/issue/FORGE-6/votes', 'votes': 0, 'hasVoted': False}, 'worklog': {'startAt': 0, 'maxResults': 20, 'total': 0, 'worklogs': []}}}\n",
      "{'expand': 'operations,versionedRepresentations,editmeta,changelog,customfield_10010.requestTypePractice,renderedFields', 'id': '10008', 'self': 'https://larrydawson.atlassian.net/rest/api/2/issue/10008', 'key': 'FORGE-2', 'fields': {'statuscategorychangedate': '2024-03-23T10:37:50.068-0400', 'issuetype': {'self': 'https://larrydawson.atlassian.net/rest/api/2/issuetype/10000', 'id': '10000', 'description': 'A big user story that needs to be broken down. Created by Jira Software - do not edit or delete.', 'iconUrl': 'https://larrydawson.atlassian.net/images/icons/issuetypes/epic.svg', 'name': 'Epic', 'subtask': False, 'hierarchyLevel': 1}, 'timespent': None, 'customfield_10031': None, 'project': {'self': 'https://larrydawson.atlassian.net/rest/api/2/project/10001', 'id': '10001', 'key': 'FORGE', 'name': 'ForgeMaker', 'projectTypeKey': 'software', 'simplified': False, 'avatarUrls': {'48x48': 'https://larrydawson.atlassian.net/rest/api/2/universal_avatar/view/type/project/avatar/10554', '24x24': 'https://larrydawson.atlassian.net/rest/api/2/universal_avatar/view/type/project/avatar/10554?size=small', '16x16': 'https://larrydawson.atlassian.net/rest/api/2/universal_avatar/view/type/project/avatar/10554?size=xsmall', '32x32': 'https://larrydawson.atlassian.net/rest/api/2/universal_avatar/view/type/project/avatar/10554?size=medium'}}, 'customfield_10032': None, 'fixVersions': [], 'customfield_10033': None, 'customfield_10034': None, 'aggregatetimespent': None, 'resolution': None, 'customfield_10035': None, 'customfield_10036': None, 'customfield_10037': None, 'customfield_10027': None, 'customfield_10028': None, 'customfield_10029': None, 'resolutiondate': None, 'workratio': -1, 'issuerestriction': {'issuerestrictions': {}, 'shouldDisplay': False}, 'lastViewed': None, 'watches': {'self': 'https://larrydawson.atlassian.net/rest/api/2/issue/FORGE-2/watchers', 'watchCount': 1, 'isWatching': True}, 'created': '2024-03-23T10:37:49.609-0400', 'customfield_10020': None, 'customfield_10021': None, 'customfield_10022': None, 'priority': {'self': 'https://larrydawson.atlassian.net/rest/api/2/priority/3', 'iconUrl': 'https://larrydawson.atlassian.net/images/icons/priorities/medium.svg', 'name': 'Medium', 'id': '3'}, 'customfield_10023': None, 'customfield_10024': None, 'customfield_10025': None, 'customfield_10026': None, 'labels': [], 'customfield_10016': None, 'customfield_10017': 'dark_teal', 'customfield_10018': {'hasEpicLinkFieldDependency': False, 'showField': False, 'nonEditableReason': {'reason': 'PLUGIN_LICENSE_ERROR', 'message': 'The Parent Link is only available to Jira Premium users.'}}, 'customfield_10019': '0|i0001r:', 'timeestimate': None, 'aggregatetimeoriginalestimate': None, 'versions': [], 'issuelinks': [], 'assignee': {'self': 'https://larrydawson.atlassian.net/rest/api/2/user?accountId=557058%3Adacda580-aec1-475d-89b4-3f7f712533db', 'accountId': '557058:dacda580-aec1-475d-89b4-3f7f712533db', 'emailAddress': 'larry.dawson@gmail.com', 'avatarUrls': {'48x48': 'https://secure.gravatar.com/avatar/709d9a313fcd755826232edf05a1df19?d=https%3A%2F%2Favatar-management--avatars.us-west-2.prod.public.atl-paas.net%2Finitials%2FLD-4.png', '24x24': 'https://secure.gravatar.com/avatar/709d9a313fcd755826232edf05a1df19?d=https%3A%2F%2Favatar-management--avatars.us-west-2.prod.public.atl-paas.net%2Finitials%2FLD-4.png', '16x16': 'https://secure.gravatar.com/avatar/709d9a313fcd755826232edf05a1df19?d=https%3A%2F%2Favatar-management--avatars.us-west-2.prod.public.atl-paas.net%2Finitials%2FLD-4.png', '32x32': 'https://secure.gravatar.com/avatar/709d9a313fcd755826232edf05a1df19?d=https%3A%2F%2Favatar-management--avatars.us-west-2.prod.public.atl-paas.net%2Finitials%2FLD-4.png'}, 'displayName': 'Laurence Dawson', 'active': True, 'timeZone': 'America/New_York', 'accountType': 'atlassian'}, 'updated': '2024-03-23T11:20:59.668-0400', 'status': {'self': 'https://larrydawson.atlassian.net/rest/api/2/status/10007', 'description': '', 'iconUrl': 'https://larrydawson.atlassian.net/', 'name': 'To Do', 'id': '10007', 'statusCategory': {'self': 'https://larrydawson.atlassian.net/rest/api/2/statuscategory/2', 'id': 2, 'key': 'new', 'colorName': 'blue-gray', 'name': 'To Do'}}, 'components': [], 'timeoriginalestimate': None, 'description': \"ProjectForge is conceived as a comprehensive orchestration tool aimed at enhancing the initiation, setup, and ongoing management of software development projects. Its design integrates deep philosophical inquiry with precise technical execution to ensure projects are not only efficiently realized but also align with broader visions and values. The following steps outline the primary responsibilities and strategic needs ProjectForge will address:\\n\\n1. **Philosophical and Technical Requirements Gathering**: Engage with project stakeholders to gather both philosophical motivations and technical requirements. This dual-faceted approach ensures the project's foundation is robust, encompassing the 'why' along with the 'what' and 'how'.\\n\\n2. **Repository Setup**: Automate the creation of source code repositories on GitHub. This includes setting repository names, descriptions, and initial privacy configurations to match project needs.\\n\\n3. **Jira Project Configuration**: Automate the setup of corresponding projects in Jira. This task covers project creation, basic configuration, and alignment with the project's technical and philosophical underpinnings.\\n\\n4. **Jira to Repository Integration**: Establish a bidirectional link between Jira projects and GitHub repositories. This integration is crucial for tracking commits, pull requests, and branches directly within Jira, enhancing visibility and traceability.\\n\\n5. **CI/CD Pipeline Creation**: Design and implement Continuous Integration/Continuous Deployment pipelines tailored to the project's requirements. This setup will support automated testing, building, and deployment practices, crucial for maintaining high-quality codebases and facilitating rapid iteration.\\n\\n6. **Philosophical Alignment in Documentation**: Ensure that all project documentation, including READMEs, contributing guidelines, and wikis, reflect the philosophical ethos and technical specifications of the project. This approach promotes coherence and fidelity to the project's core principles.\\n\\n7. **Initial Code Scaffolding**: Generate foundational code templates or scaffolding to kick-start development efforts. This step may leverage ChatGptForge for generating code snippets that adhere to the project's philosophical and technical frameworks.\\n\\n8. **Strategic Project Initiatives**: Identify and document other strategic needs specific to the project initiation phase. This could include setting up monitoring and analytics, defining data storage solutions, or establishing communication channels and workflows for the development team.\\n\\nBy systematically addressing these areas, ProjectForge aims to provide a holistic framework for project initiation, marrying philosophical depth with technical excellence. Each step will be detailed further in its own Jira story, allowing for granular tracking, discussion, and execution.\", 'customfield_10010': None, 'customfield_10011': None, 'customfield_10012': {'self': 'https://larrydawson.atlassian.net/rest/api/2/customFieldOption/10016', 'value': 'To Do', 'id': '10016'}, 'customfield_10013': 'ghx-label-5', 'customfield_10014': None, 'timetracking': {}, 'customfield_10015': None, 'customfield_10005': None, 'customfield_10006': None, 'security': None, 'customfield_10007': None, 'customfield_10008': None, 'customfield_10009': None, 'aggregatetimeestimate': None, 'attachment': [], 'summary': 'Implement ProjectForge', 'creator': {'self': 'https://larrydawson.atlassian.net/rest/api/2/user?accountId=557058%3Adacda580-aec1-475d-89b4-3f7f712533db', 'accountId': '557058:dacda580-aec1-475d-89b4-3f7f712533db', 'emailAddress': 'larry.dawson@gmail.com', 'avatarUrls': {'48x48': 'https://secure.gravatar.com/avatar/709d9a313fcd755826232edf05a1df19?d=https%3A%2F%2Favatar-management--avatars.us-west-2.prod.public.atl-paas.net%2Finitials%2FLD-4.png', '24x24': 'https://secure.gravatar.com/avatar/709d9a313fcd755826232edf05a1df19?d=https%3A%2F%2Favatar-management--avatars.us-west-2.prod.public.atl-paas.net%2Finitials%2FLD-4.png', '16x16': 'https://secure.gravatar.com/avatar/709d9a313fcd755826232edf05a1df19?d=https%3A%2F%2Favatar-management--avatars.us-west-2.prod.public.atl-paas.net%2Finitials%2FLD-4.png', '32x32': 'https://secure.gravatar.com/avatar/709d9a313fcd755826232edf05a1df19?d=https%3A%2F%2Favatar-management--avatars.us-west-2.prod.public.atl-paas.net%2Finitials%2FLD-4.png'}, 'displayName': 'Laurence Dawson', 'active': True, 'timeZone': 'America/New_York', 'accountType': 'atlassian'}, 'subtasks': [], 'reporter': {'self': 'https://larrydawson.atlassian.net/rest/api/2/user?accountId=557058%3Adacda580-aec1-475d-89b4-3f7f712533db', 'accountId': '557058:dacda580-aec1-475d-89b4-3f7f712533db', 'emailAddress': 'larry.dawson@gmail.com', 'avatarUrls': {'48x48': 'https://secure.gravatar.com/avatar/709d9a313fcd755826232edf05a1df19?d=https%3A%2F%2Favatar-management--avatars.us-west-2.prod.public.atl-paas.net%2Finitials%2FLD-4.png', '24x24': 'https://secure.gravatar.com/avatar/709d9a313fcd755826232edf05a1df19?d=https%3A%2F%2Favatar-management--avatars.us-west-2.prod.public.atl-paas.net%2Finitials%2FLD-4.png', '16x16': 'https://secure.gravatar.com/avatar/709d9a313fcd755826232edf05a1df19?d=https%3A%2F%2Favatar-management--avatars.us-west-2.prod.public.atl-paas.net%2Finitials%2FLD-4.png', '32x32': 'https://secure.gravatar.com/avatar/709d9a313fcd755826232edf05a1df19?d=https%3A%2F%2Favatar-management--avatars.us-west-2.prod.public.atl-paas.net%2Finitials%2FLD-4.png'}, 'displayName': 'Laurence Dawson', 'active': True, 'timeZone': 'America/New_York', 'accountType': 'atlassian'}, 'aggregateprogress': {'progress': 0, 'total': 0}, 'customfield_10000': '{}', 'customfield_10001': None, 'customfield_10002': [], 'customfield_10003': None, 'customfield_10004': None, 'environment': None, 'duedate': None, 'progress': {'progress': 0, 'total': 0}, 'votes': {'self': 'https://larrydawson.atlassian.net/rest/api/2/issue/FORGE-2/votes', 'votes': 0, 'hasVoted': False}, 'comment': {'comments': [], 'self': 'https://larrydawson.atlassian.net/rest/api/2/issue/10008/comment', 'maxResults': 0, 'total': 0, 'startAt': 0}, 'worklog': {'startAt': 0, 'maxResults': 20, 'total': 0, 'worklogs': []}}}\n",
      "{'expand': 'operations,versionedRepresentations,editmeta,changelog,customfield_10010.requestTypePractice,renderedFields', 'id': '10007', 'self': 'https://larrydawson.atlassian.net/rest/api/2/issue/10007', 'key': 'FORGE-1', 'fields': {'statuscategorychangedate': '2024-03-23T00:22:06.327-0400', 'issuetype': {'self': 'https://larrydawson.atlassian.net/rest/api/2/issuetype/10000', 'id': '10000', 'description': 'A big user story that needs to be broken down. Created by Jira Software - do not edit or delete.', 'iconUrl': 'https://larrydawson.atlassian.net/images/icons/issuetypes/epic.svg', 'name': 'Epic', 'subtask': False, 'hierarchyLevel': 1}, 'timespent': None, 'customfield_10031': None, 'project': {'self': 'https://larrydawson.atlassian.net/rest/api/2/project/10001', 'id': '10001', 'key': 'FORGE', 'name': 'ForgeMaker', 'projectTypeKey': 'software', 'simplified': False, 'avatarUrls': {'48x48': 'https://larrydawson.atlassian.net/rest/api/2/universal_avatar/view/type/project/avatar/10554', '24x24': 'https://larrydawson.atlassian.net/rest/api/2/universal_avatar/view/type/project/avatar/10554?size=small', '16x16': 'https://larrydawson.atlassian.net/rest/api/2/universal_avatar/view/type/project/avatar/10554?size=xsmall', '32x32': 'https://larrydawson.atlassian.net/rest/api/2/universal_avatar/view/type/project/avatar/10554?size=medium'}}, 'customfield_10032': None, 'fixVersions': [], 'customfield_10033': None, 'customfield_10034': None, 'aggregatetimespent': None, 'resolution': None, 'customfield_10035': None, 'customfield_10036': None, 'customfield_10037': None, 'customfield_10027': None, 'customfield_10028': None, 'customfield_10029': None, 'resolutiondate': None, 'workratio': -1, 'issuerestriction': {'issuerestrictions': {}, 'shouldDisplay': False}, 'lastViewed': None, 'watches': {'self': 'https://larrydawson.atlassian.net/rest/api/2/issue/FORGE-1/watchers', 'watchCount': 1, 'isWatching': True}, 'created': '2024-03-23T00:22:05.841-0400', 'customfield_10020': None, 'customfield_10021': None, 'customfield_10022': None, 'priority': {'self': 'https://larrydawson.atlassian.net/rest/api/2/priority/3', 'iconUrl': 'https://larrydawson.atlassian.net/images/icons/priorities/medium.svg', 'name': 'Medium', 'id': '3'}, 'customfield_10023': None, 'customfield_10024': None, 'customfield_10025': None, 'customfield_10026': None, 'labels': [], 'customfield_10016': None, 'customfield_10017': 'dark_grey', 'customfield_10018': {'hasEpicLinkFieldDependency': False, 'showField': False, 'nonEditableReason': {'reason': 'PLUGIN_LICENSE_ERROR', 'message': 'The Parent Link is only available to Jira Premium users.'}}, 'customfield_10019': '0|i0001j:', 'timeestimate': None, 'aggregatetimeoriginalestimate': None, 'versions': [], 'issuelinks': [], 'assignee': {'self': 'https://larrydawson.atlassian.net/rest/api/2/user?accountId=557058%3Adacda580-aec1-475d-89b4-3f7f712533db', 'accountId': '557058:dacda580-aec1-475d-89b4-3f7f712533db', 'emailAddress': 'larry.dawson@gmail.com', 'avatarUrls': {'48x48': 'https://secure.gravatar.com/avatar/709d9a313fcd755826232edf05a1df19?d=https%3A%2F%2Favatar-management--avatars.us-west-2.prod.public.atl-paas.net%2Finitials%2FLD-4.png', '24x24': 'https://secure.gravatar.com/avatar/709d9a313fcd755826232edf05a1df19?d=https%3A%2F%2Favatar-management--avatars.us-west-2.prod.public.atl-paas.net%2Finitials%2FLD-4.png', '16x16': 'https://secure.gravatar.com/avatar/709d9a313fcd755826232edf05a1df19?d=https%3A%2F%2Favatar-management--avatars.us-west-2.prod.public.atl-paas.net%2Finitials%2FLD-4.png', '32x32': 'https://secure.gravatar.com/avatar/709d9a313fcd755826232edf05a1df19?d=https%3A%2F%2Favatar-management--avatars.us-west-2.prod.public.atl-paas.net%2Finitials%2FLD-4.png'}, 'displayName': 'Laurence Dawson', 'active': True, 'timeZone': 'America/New_York', 'accountType': 'atlassian'}, 'updated': '2024-03-23T19:50:27.725-0400', 'status': {'self': 'https://larrydawson.atlassian.net/rest/api/2/status/10007', 'description': '', 'iconUrl': 'https://larrydawson.atlassian.net/', 'name': 'To Do', 'id': '10007', 'statusCategory': {'self': 'https://larrydawson.atlassian.net/rest/api/2/statuscategory/2', 'id': 2, 'key': 'new', 'colorName': 'blue-gray', 'name': 'To Do'}}, 'components': [], 'timeoriginalestimate': None, 'description': 'Set up all of the components for ForgeMaker,\\nthis includes Jira epics and stories, also possibly tasks, but the goal is to have the full environment described\\nin Jira and implemented in the tools.\\n1. There should be a repository setup\\n2. The repository should be set up to be tested on merges, and any build instructions also run on merge\\n3. There should be stories under this main epic that describe all of the development components needed\\n4. Basic files including a .gitignore, some basic source code, a readme.md file should be created and checked in to the repo\\n5. The detailed requirements for the project, including the underlying philosophy should be documented', 'customfield_10010': None, 'customfield_10011': None, 'customfield_10012': {'self': 'https://larrydawson.atlassian.net/rest/api/2/customFieldOption/10016', 'value': 'To Do', 'id': '10016'}, 'customfield_10013': 'ghx-label-1', 'customfield_10014': None, 'timetracking': {}, 'customfield_10015': None, 'customfield_10005': None, 'customfield_10006': None, 'security': None, 'customfield_10007': None, 'customfield_10008': None, 'customfield_10009': None, 'aggregatetimeestimate': None, 'attachment': [], 'summary': 'Development environment setup', 'creator': {'self': 'https://larrydawson.atlassian.net/rest/api/2/user?accountId=557058%3Adacda580-aec1-475d-89b4-3f7f712533db', 'accountId': '557058:dacda580-aec1-475d-89b4-3f7f712533db', 'emailAddress': 'larry.dawson@gmail.com', 'avatarUrls': {'48x48': 'https://secure.gravatar.com/avatar/709d9a313fcd755826232edf05a1df19?d=https%3A%2F%2Favatar-management--avatars.us-west-2.prod.public.atl-paas.net%2Finitials%2FLD-4.png', '24x24': 'https://secure.gravatar.com/avatar/709d9a313fcd755826232edf05a1df19?d=https%3A%2F%2Favatar-management--avatars.us-west-2.prod.public.atl-paas.net%2Finitials%2FLD-4.png', '16x16': 'https://secure.gravatar.com/avatar/709d9a313fcd755826232edf05a1df19?d=https%3A%2F%2Favatar-management--avatars.us-west-2.prod.public.atl-paas.net%2Finitials%2FLD-4.png', '32x32': 'https://secure.gravatar.com/avatar/709d9a313fcd755826232edf05a1df19?d=https%3A%2F%2Favatar-management--avatars.us-west-2.prod.public.atl-paas.net%2Finitials%2FLD-4.png'}, 'displayName': 'Laurence Dawson', 'active': True, 'timeZone': 'America/New_York', 'accountType': 'atlassian'}, 'subtasks': [], 'reporter': {'self': 'https://larrydawson.atlassian.net/rest/api/2/user?accountId=557058%3Adacda580-aec1-475d-89b4-3f7f712533db', 'accountId': '557058:dacda580-aec1-475d-89b4-3f7f712533db', 'emailAddress': 'larry.dawson@gmail.com', 'avatarUrls': {'48x48': 'https://secure.gravatar.com/avatar/709d9a313fcd755826232edf05a1df19?d=https%3A%2F%2Favatar-management--avatars.us-west-2.prod.public.atl-paas.net%2Finitials%2FLD-4.png', '24x24': 'https://secure.gravatar.com/avatar/709d9a313fcd755826232edf05a1df19?d=https%3A%2F%2Favatar-management--avatars.us-west-2.prod.public.atl-paas.net%2Finitials%2FLD-4.png', '16x16': 'https://secure.gravatar.com/avatar/709d9a313fcd755826232edf05a1df19?d=https%3A%2F%2Favatar-management--avatars.us-west-2.prod.public.atl-paas.net%2Finitials%2FLD-4.png', '32x32': 'https://secure.gravatar.com/avatar/709d9a313fcd755826232edf05a1df19?d=https%3A%2F%2Favatar-management--avatars.us-west-2.prod.public.atl-paas.net%2Finitials%2FLD-4.png'}, 'displayName': 'Laurence Dawson', 'active': True, 'timeZone': 'America/New_York', 'accountType': 'atlassian'}, 'aggregateprogress': {'progress': 0, 'total': 0}, 'customfield_10000': '{}', 'customfield_10001': None, 'customfield_10002': [], 'customfield_10003': None, 'customfield_10004': None, 'environment': None, 'duedate': None, 'progress': {'progress': 0, 'total': 0}, 'votes': {'self': 'https://larrydawson.atlassian.net/rest/api/2/issue/FORGE-1/votes', 'votes': 0, 'hasVoted': False}, 'comment': {'comments': [], 'self': 'https://larrydawson.atlassian.net/rest/api/2/issue/10007/comment', 'maxResults': 0, 'total': 0, 'startAt': 0}, 'worklog': {'startAt': 0, 'maxResults': 20, 'total': 0, 'worklogs': []}}}\n"
     ]
    }
   ],
   "execution_count": 25
  },
  {
   "metadata": {
    "ExecuteTime": {
     "end_time": "2024-09-21T03:12:54.414952Z",
     "start_time": "2024-09-21T03:12:54.408051Z"
    }
   },
   "cell_type": "code",
   "source": "print(dir(issue))",
   "id": "c30d5020719b6f6d",
   "outputs": [
    {
     "name": "stdout",
     "output_type": "stream",
     "text": [
      "['JIRA_BASE_URL', '_HASH_IDS', '_IssueFields', '_READABLE_IDS', '__class__', '__delattr__', '__dict__', '__dir__', '__doc__', '__eq__', '__format__', '__ge__', '__getattr__', '__getattribute__', '__getstate__', '__gt__', '__hash__', '__init__', '__init_subclass__', '__le__', '__lt__', '__module__', '__ne__', '__new__', '__reduce__', '__reduce_ex__', '__repr__', '__setattr__', '__setstate__', '__sizeof__', '__str__', '__subclasshook__', '__weakref__', '_base_url', '_default_headers', '_find_by_url', '_get_url', '_load', '_options', '_parse_raw', '_resource', '_session', 'add_field_value', 'delete', 'expand', 'fields', 'find', 'get_field', 'id', 'key', 'permalink', 'raw', 'self', 'update']\n"
     ]
    }
   ],
   "execution_count": 50
  },
  {
   "metadata": {
    "ExecuteTime": {
     "end_time": "2024-09-23T20:27:37.924542Z",
     "start_time": "2024-09-23T20:27:37.918552Z"
    }
   },
   "cell_type": "code",
   "source": [
    "from langchain.prompts import ChatPromptTemplate\n",
    "cpt = ChatPromptTemplate.from_template(\"Can you tell me some basic information about {searchterm}?\")"
   ],
   "id": "547d5e52920155b",
   "outputs": [],
   "execution_count": 29
  },
  {
   "metadata": {
    "ExecuteTime": {
     "end_time": "2024-09-23T20:27:57.199124Z",
     "start_time": "2024-09-23T20:27:57.194438Z"
    }
   },
   "cell_type": "code",
   "source": "cpt.pretty_print()",
   "id": "16272fd1fb241511",
   "outputs": [
    {
     "name": "stdout",
     "output_type": "stream",
     "text": [
      "================================\u001B[1m Human Message \u001B[0m=================================\n",
      "\n",
      "Can you tell me some basic information about \u001B[33;1m\u001B[1;3m{searchterm}\u001B[0m?\n"
     ]
    }
   ],
   "execution_count": 30
  },
  {
   "metadata": {
    "ExecuteTime": {
     "end_time": "2024-09-23T20:29:49.037983Z",
     "start_time": "2024-09-23T20:29:48.928871Z"
    }
   },
   "cell_type": "code",
   "source": "test = cpt.invoke(input = {'searchterm' : \"Paris\"}) | gpt_4o",
   "id": "93771cc584dbfc6e",
   "outputs": [
    {
     "ename": "TypeError",
     "evalue": "Expected a Runnable, callable or dict.Instead got an unsupported type: <class 'langchain_core.prompt_values.ChatPromptValue'>",
     "output_type": "error",
     "traceback": [
      "\u001B[0;31m---------------------------------------------------------------------------\u001B[0m",
      "\u001B[0;31mTypeError\u001B[0m                                 Traceback (most recent call last)",
      "Cell \u001B[0;32mIn[35], line 1\u001B[0m\n\u001B[0;32m----> 1\u001B[0m test \u001B[38;5;241m=\u001B[39m \u001B[43mcpt\u001B[49m\u001B[38;5;241;43m.\u001B[39;49m\u001B[43minvoke\u001B[49m\u001B[43m(\u001B[49m\u001B[38;5;28;43minput\u001B[39;49m\u001B[43m \u001B[49m\u001B[38;5;241;43m=\u001B[39;49m\u001B[43m \u001B[49m\u001B[43m{\u001B[49m\u001B[38;5;124;43m'\u001B[39;49m\u001B[38;5;124;43msearchterm\u001B[39;49m\u001B[38;5;124;43m'\u001B[39;49m\u001B[43m \u001B[49m\u001B[43m:\u001B[49m\u001B[43m \u001B[49m\u001B[38;5;124;43m\"\u001B[39;49m\u001B[38;5;124;43mParis\u001B[39;49m\u001B[38;5;124;43m\"\u001B[39;49m\u001B[43m}\u001B[49m\u001B[43m)\u001B[49m\u001B[43m \u001B[49m\u001B[38;5;241;43m|\u001B[39;49m\u001B[43m \u001B[49m\u001B[43mgpt_4o\u001B[49m\n",
      "File \u001B[0;32m~/repos/buildwithai/.venv/lib/python3.11/site-packages/langchain_core/runnables/base.py:586\u001B[0m, in \u001B[0;36mRunnable.__ror__\u001B[0;34m(self, other)\u001B[0m\n\u001B[1;32m    576\u001B[0m \u001B[38;5;28;01mdef\u001B[39;00m \u001B[38;5;21m__ror__\u001B[39m(\n\u001B[1;32m    577\u001B[0m     \u001B[38;5;28mself\u001B[39m,\n\u001B[1;32m    578\u001B[0m     other: Union[\n\u001B[0;32m   (...)\u001B[0m\n\u001B[1;32m    583\u001B[0m     ],\n\u001B[1;32m    584\u001B[0m ) \u001B[38;5;241m-\u001B[39m\u001B[38;5;241m>\u001B[39m RunnableSerializable[Other, Output]:\n\u001B[1;32m    585\u001B[0m \u001B[38;5;250m    \u001B[39m\u001B[38;5;124;03m\"\"\"Compose this Runnable with another object to create a RunnableSequence.\"\"\"\u001B[39;00m\n\u001B[0;32m--> 586\u001B[0m     \u001B[38;5;28;01mreturn\u001B[39;00m RunnableSequence(\u001B[43mcoerce_to_runnable\u001B[49m\u001B[43m(\u001B[49m\u001B[43mother\u001B[49m\u001B[43m)\u001B[49m, \u001B[38;5;28mself\u001B[39m)\n",
      "File \u001B[0;32m~/repos/buildwithai/.venv/lib/python3.11/site-packages/langchain_core/runnables/base.py:5828\u001B[0m, in \u001B[0;36mcoerce_to_runnable\u001B[0;34m(thing)\u001B[0m\n\u001B[1;32m   5826\u001B[0m     \u001B[38;5;28;01mreturn\u001B[39;00m cast(Runnable[Input, Output], RunnableParallel(thing))\n\u001B[1;32m   5827\u001B[0m \u001B[38;5;28;01melse\u001B[39;00m:\n\u001B[0;32m-> 5828\u001B[0m     \u001B[38;5;28;01mraise\u001B[39;00m \u001B[38;5;167;01mTypeError\u001B[39;00m(\n\u001B[1;32m   5829\u001B[0m         \u001B[38;5;124mf\u001B[39m\u001B[38;5;124m\"\u001B[39m\u001B[38;5;124mExpected a Runnable, callable or dict.\u001B[39m\u001B[38;5;124m\"\u001B[39m\n\u001B[1;32m   5830\u001B[0m         \u001B[38;5;124mf\u001B[39m\u001B[38;5;124m\"\u001B[39m\u001B[38;5;124mInstead got an unsupported type: \u001B[39m\u001B[38;5;132;01m{\u001B[39;00m\u001B[38;5;28mtype\u001B[39m(thing)\u001B[38;5;132;01m}\u001B[39;00m\u001B[38;5;124m\"\u001B[39m\n\u001B[1;32m   5831\u001B[0m     )\n",
      "\u001B[0;31mTypeError\u001B[0m: Expected a Runnable, callable or dict.Instead got an unsupported type: <class 'langchain_core.prompt_values.ChatPromptValue'>"
     ]
    }
   ],
   "execution_count": 35
  },
  {
   "metadata": {
    "ExecuteTime": {
     "end_time": "2024-09-21T03:11:40.266027Z",
     "start_time": "2024-09-21T03:11:40.261233Z"
    }
   },
   "cell_type": "code",
   "source": [
    "print(issue.fields.summary)\n",
    "print(issue.fields.description)\n",
    "   "
   ],
   "id": "2da62f32b7ed4f7d",
   "outputs": [
    {
     "name": "stdout",
     "output_type": "stream",
     "text": [
      "Implement a POC that shows how a jira ticket can be read and a solution checked in for it\n",
      "After some discussion with chatgpt, chose the LangChain library for this. Essentially the POC is to read a Jira ticket, extract the requirements, write some code to implement the requirements, add it to a project and check it in to jira.\n"
     ]
    }
   ],
   "execution_count": 49
  },
  {
   "metadata": {
    "ExecuteTime": {
     "end_time": "2024-09-21T02:58:26.886048Z",
     "start_time": "2024-09-21T02:58:26.879673Z"
    }
   },
   "cell_type": "code",
   "source": [
    "dir(issue)\n",
    "comments = issue.fields.comment.comments\n",
    "c = comments[0]\n",
    "dir(c)"
   ],
   "id": "a54870d9b87c38e9",
   "outputs": [
    {
     "data": {
      "text/plain": [
       "['JIRA_BASE_URL',\n",
       " '_HASH_IDS',\n",
       " '_READABLE_IDS',\n",
       " '__class__',\n",
       " '__delattr__',\n",
       " '__dict__',\n",
       " '__dir__',\n",
       " '__doc__',\n",
       " '__eq__',\n",
       " '__format__',\n",
       " '__ge__',\n",
       " '__getattr__',\n",
       " '__getattribute__',\n",
       " '__getstate__',\n",
       " '__gt__',\n",
       " '__hash__',\n",
       " '__init__',\n",
       " '__init_subclass__',\n",
       " '__le__',\n",
       " '__lt__',\n",
       " '__module__',\n",
       " '__ne__',\n",
       " '__new__',\n",
       " '__reduce__',\n",
       " '__reduce_ex__',\n",
       " '__repr__',\n",
       " '__setattr__',\n",
       " '__setstate__',\n",
       " '__sizeof__',\n",
       " '__str__',\n",
       " '__subclasshook__',\n",
       " '__weakref__',\n",
       " '_base_url',\n",
       " '_default_headers',\n",
       " '_find_by_url',\n",
       " '_get_url',\n",
       " '_load',\n",
       " '_options',\n",
       " '_parse_raw',\n",
       " '_resource',\n",
       " '_session',\n",
       " 'author',\n",
       " 'body',\n",
       " 'created',\n",
       " 'delete',\n",
       " 'find',\n",
       " 'id',\n",
       " 'jsdPublic',\n",
       " 'raw',\n",
       " 'self',\n",
       " 'update',\n",
       " 'updateAuthor',\n",
       " 'updated']"
      ]
     },
     "execution_count": 42,
     "metadata": {},
     "output_type": "execute_result"
    }
   ],
   "execution_count": 42
  },
  {
   "metadata": {
    "ExecuteTime": {
     "end_time": "2024-09-21T02:58:54.110246Z",
     "start_time": "2024-09-21T02:58:54.104757Z"
    }
   },
   "cell_type": "code",
   "source": [
    "for c in comments:\n",
    "    print(c.body, c.author, c.created, c.updated, c.updateAuthor)"
   ],
   "id": "57d81f4668e3d09d",
   "outputs": [
    {
     "name": "stdout",
     "output_type": "stream",
     "text": [
      "Used the init_project.sh script developed in the context of [https://larrydawson.atlassian.net/browse/FORGE-9|https://larrydawson.atlassian.net/browse/FORGE-9|smart-link] to create a new git project for python using poetry. Project is called buildwithai, and can be found here: [https://github.com/dawsonlp/buildwithai|https://github.com/dawsonlp/buildwithai|smart-link]  Laurence Dawson 2024-09-05T23:36:37.892-0400 2024-09-05T23:36:37.892-0400\n",
      "This is partly a duplicate of Forge-7, but I’ll work on this one. Laurence Dawson 2024-09-16T19:53:22.956-0400 2024-09-16T19:53:22.956-0400\n",
      "Starting to get more comfortable with LangChain, but it is becoming a bit of a catch all project, it is not cleanly focussed on building agents, but also includes a workflow engine, when it probably would make more sense to just use one that already exists - there has been a ton of development on workflow engines that it looks like LangChain is trying to duplicate.\n",
      "\n",
      "I think a useful point of comparison would be AirFlow and Prefect. I’ve worked with Luigi before and don’t like it; I found it limiting in it’s execution model and in the way tasks work and are defined.\n",
      "\n",
      "Prefect has introduced a new library called controlflow which it claims is optimized for Agentic workflows using LLMs. \n",
      "\n",
      "\n",
      "I’m also thinking though that Jira is the place for my workflow → I need LLMs to collaborate and document themselves for humans. Laurence Dawson 2024-09-19T12:16:09.521-0400 2024-09-19T12:16:09.521-0400\n"
     ]
    }
   ],
   "execution_count": 43
  },
  {
   "cell_type": "code",
   "id": "b5fdd408d7c6bf83",
   "metadata": {
    "ExecuteTime": {
     "end_time": "2024-09-20T23:14:33.794251Z",
     "start_time": "2024-09-20T23:14:33.692001Z"
    }
   },
   "source": [
    "#Now set up a langchain chain that takes a string asking for a result and chooses between two tools to get the result\n",
    "\n",
    "from langchain.chains import LLMChain\n",
    "\n",
    "tool = get_ticket_description\n",
    "tool2  = generate_code\n",
    "chain = LLMChain([tool, tool2])\n",
    "chain.execute(\"can you get me the description of FORGE-6?\")"
   ],
   "outputs": [
    {
     "name": "stderr",
     "output_type": "stream",
     "text": [
      "/var/folders/wc/4xnvpv5s7tjd807525gff95m0000gp/T/ipykernel_33360/1613256095.py:7: LangChainDeprecationWarning: The class `LLMChain` was deprecated in LangChain 0.1.17 and will be removed in 1.0. Use :meth:`~RunnableSequence, e.g., `prompt | llm`` instead.\n",
      "  chain = LLMChain([tool, tool2])\n"
     ]
    },
    {
     "ename": "TypeError",
     "evalue": "BaseModel.__init__() takes 1 positional argument but 2 were given",
     "output_type": "error",
     "traceback": [
      "\u001B[0;31m---------------------------------------------------------------------------\u001B[0m",
      "\u001B[0;31mTypeError\u001B[0m                                 Traceback (most recent call last)",
      "Cell \u001B[0;32mIn[12], line 7\u001B[0m\n\u001B[1;32m      5\u001B[0m tool \u001B[38;5;241m=\u001B[39m get_ticket_description\n\u001B[1;32m      6\u001B[0m tool2  \u001B[38;5;241m=\u001B[39m generate_code\n\u001B[0;32m----> 7\u001B[0m chain \u001B[38;5;241m=\u001B[39m \u001B[43mLLMChain\u001B[49m\u001B[43m(\u001B[49m\u001B[43m[\u001B[49m\u001B[43mtool\u001B[49m\u001B[43m,\u001B[49m\u001B[43m \u001B[49m\u001B[43mtool2\u001B[49m\u001B[43m]\u001B[49m\u001B[43m)\u001B[49m\n\u001B[1;32m      8\u001B[0m chain\u001B[38;5;241m.\u001B[39mexecute(\u001B[38;5;124m\"\u001B[39m\u001B[38;5;124mcan you get me the description of FORGE-6?\u001B[39m\u001B[38;5;124m\"\u001B[39m)\n",
      "File \u001B[0;32m~/repos/buildwithai/.venv/lib/python3.11/site-packages/langchain_core/_api/deprecation.py:214\u001B[0m, in \u001B[0;36mdeprecated.<locals>.deprecate.<locals>.finalize.<locals>.warn_if_direct_instance\u001B[0;34m(self, *args, **kwargs)\u001B[0m\n\u001B[1;32m    212\u001B[0m     warned \u001B[38;5;241m=\u001B[39m \u001B[38;5;28;01mTrue\u001B[39;00m\n\u001B[1;32m    213\u001B[0m     emit_warning()\n\u001B[0;32m--> 214\u001B[0m \u001B[38;5;28;01mreturn\u001B[39;00m \u001B[43mwrapped\u001B[49m\u001B[43m(\u001B[49m\u001B[38;5;28;43mself\u001B[39;49m\u001B[43m,\u001B[49m\u001B[43m \u001B[49m\u001B[38;5;241;43m*\u001B[39;49m\u001B[43margs\u001B[49m\u001B[43m,\u001B[49m\u001B[43m \u001B[49m\u001B[38;5;241;43m*\u001B[39;49m\u001B[38;5;241;43m*\u001B[39;49m\u001B[43mkwargs\u001B[49m\u001B[43m)\u001B[49m\n",
      "File \u001B[0;32m~/repos/buildwithai/.venv/lib/python3.11/site-packages/langchain_core/load/serializable.py:110\u001B[0m, in \u001B[0;36mSerializable.__init__\u001B[0;34m(self, *args, **kwargs)\u001B[0m\n\u001B[1;32m    108\u001B[0m \u001B[38;5;28;01mdef\u001B[39;00m \u001B[38;5;21m__init__\u001B[39m(\u001B[38;5;28mself\u001B[39m, \u001B[38;5;241m*\u001B[39margs: Any, \u001B[38;5;241m*\u001B[39m\u001B[38;5;241m*\u001B[39mkwargs: Any) \u001B[38;5;241m-\u001B[39m\u001B[38;5;241m>\u001B[39m \u001B[38;5;28;01mNone\u001B[39;00m:\n\u001B[1;32m    109\u001B[0m \u001B[38;5;250m    \u001B[39m\u001B[38;5;124;03m\"\"\"\"\"\"\u001B[39;00m\n\u001B[0;32m--> 110\u001B[0m     \u001B[38;5;28;43msuper\u001B[39;49m\u001B[43m(\u001B[49m\u001B[43m)\u001B[49m\u001B[38;5;241;43m.\u001B[39;49m\u001B[38;5;21;43m__init__\u001B[39;49m\u001B[43m(\u001B[49m\u001B[38;5;241;43m*\u001B[39;49m\u001B[43margs\u001B[49m\u001B[43m,\u001B[49m\u001B[43m \u001B[49m\u001B[38;5;241;43m*\u001B[39;49m\u001B[38;5;241;43m*\u001B[39;49m\u001B[43mkwargs\u001B[49m\u001B[43m)\u001B[49m\n",
      "\u001B[0;31mTypeError\u001B[0m: BaseModel.__init__() takes 1 positional argument but 2 were given"
     ]
    }
   ],
   "execution_count": 12
  },
  {
   "metadata": {},
   "cell_type": "code",
   "outputs": [],
   "execution_count": null,
   "source": "",
   "id": "22d444f1f196c40f"
  },
  {
   "metadata": {},
   "cell_type": "code",
   "outputs": [],
   "execution_count": null,
   "source": [
    "@tool\n",
    "def ticket_summarizer(ticket_id: str)->str:\n",
    "    issue = jira.issue(ticket_id)\n",
    "    return issue.fields.summary"
   ],
   "id": "dfdd84832c2fa07"
  },
  {
   "cell_type": "code",
   "id": "1c42ef6e515769a7",
   "metadata": {
    "ExecuteTime": {
     "end_time": "2024-09-23T22:04:23.435224Z",
     "start_time": "2024-09-23T22:04:23.433388Z"
    }
   },
   "source": [
    "from buildwithai.langchain_tools import get_summarized_jira_issue\n",
    "tool = get_summarized_jira_issue\n",
    "\n"
   ],
   "outputs": [],
   "execution_count": 37
  },
  {
   "cell_type": "code",
   "id": "23c1273259022ffe",
   "metadata": {
    "ExecuteTime": {
     "end_time": "2024-09-23T22:11:16.898856Z",
     "start_time": "2024-09-23T22:11:16.848179Z"
    }
   },
   "source": [
    "from typing import Literal\n",
    "from langchain_core.prompts import ChatPromptTemplate\n",
    "from typing_extensions import TypedDict\n",
    "\n",
    "llm = init_chat_model(\"gpt-4o\", model_provider=\"openai\", temperature=0, api_key = chatgptkey)\n",
    "\n",
    "route_system = \"Route the user's query to either a summarizer or an implementer function.\"\n",
    "route_prompt = ChatPromptTemplate.from_messages([(\"system\", route_system),\n",
    "        (\"human\", \"{input}\")])\n",
    "\n",
    "\n",
    "# Define schema for output:\n",
    "class RouteQuery(TypedDict):\n",
    "    \"\"\"Route query to destination expert.\"\"\"\n",
    "    destination: Literal[\"summarizer\", \"implement\"]\n",
    "    issue_key: str\n",
    "\n",
    "# Instead of writing formatting instructions into the prompt, we\n",
    "# leverage .with_structured_output to coerce the output into a simple\n",
    "# schema.\n",
    "chain = route_prompt | llm.with_structured_output(RouteQuery) | tool"
   ],
   "outputs": [],
   "execution_count": 47
  },
  {
   "metadata": {
    "ExecuteTime": {
     "end_time": "2024-09-23T22:07:46.609598Z",
     "start_time": "2024-09-23T22:07:46.603181Z"
    }
   },
   "cell_type": "code",
   "source": "route_prompt.format_messages(input = \"Can you tell me about the Forge-10 ticket?\")",
   "id": "4a59da5437d7029f",
   "outputs": [
    {
     "data": {
      "text/plain": [
       "[SystemMessage(content=\"Route the user's query to either a summarizer or an implementer function.\", additional_kwargs={}, response_metadata={}),\n",
       " HumanMessage(content='Can you tell me about the Forge-10 ticket?', additional_kwargs={}, response_metadata={})]"
      ]
     },
     "execution_count": 44,
     "metadata": {},
     "output_type": "execute_result"
    }
   ],
   "execution_count": 44
  },
  {
   "cell_type": "code",
   "id": "92cdcd96997e4114",
   "metadata": {
    "ExecuteTime": {
     "end_time": "2024-09-23T22:11:42.030307Z",
     "start_time": "2024-09-23T22:11:40.851006Z"
    }
   },
   "source": "res = chain.invoke(input = \"Can you tell me about the ticket Forge-10?\")\n",
   "outputs": [],
   "execution_count": 49
  },
  {
   "metadata": {
    "ExecuteTime": {
     "end_time": "2024-09-23T22:12:17.229805Z",
     "start_time": "2024-09-23T22:12:17.227519Z"
    }
   },
   "cell_type": "code",
   "source": "print(res.keys())",
   "id": "ab7d840e5ae75e68",
   "outputs": [
    {
     "name": "stdout",
     "output_type": "stream",
     "text": [
      "dict_keys(['summary', 'description', 'status', 'comments'])\n"
     ]
    }
   ],
   "execution_count": 52
  },
  {
   "metadata": {
    "ExecuteTime": {
     "end_time": "2024-09-21T02:29:59.669671Z",
     "start_time": "2024-09-21T02:29:59.663216Z"
    }
   },
   "cell_type": "code",
   "source": "route_prompt",
   "id": "8cec2d575f277edd",
   "outputs": [
    {
     "data": {
      "text/plain": [
       "ChatPromptTemplate(input_variables=['input'], input_types={}, partial_variables={}, messages=[SystemMessagePromptTemplate(prompt=PromptTemplate(input_variables=[], input_types={}, partial_variables={}, template=\"Route the user's query to either a summarizer or an implementer function.\"), additional_kwargs={}), HumanMessagePromptTemplate(prompt=PromptTemplate(input_variables=['input'], input_types={}, partial_variables={}, template='{input}'), additional_kwargs={})])"
      ]
     },
     "execution_count": 20,
     "metadata": {},
     "output_type": "execute_result"
    }
   ],
   "execution_count": 20
  },
  {
   "metadata": {
    "ExecuteTime": {
     "end_time": "2024-09-21T02:30:43.447598Z",
     "start_time": "2024-09-21T02:30:43.442476Z"
    }
   },
   "cell_type": "code",
   "source": "route_prompt.pretty_print()",
   "id": "354aeac2e971fe02",
   "outputs": [
    {
     "name": "stdout",
     "output_type": "stream",
     "text": [
      "================================\u001B[1m System Message \u001B[0m================================\n",
      "\n",
      "Route the user's query to either a summarizer or an implementer function.\n",
      "\n",
      "================================\u001B[1m Human Message \u001B[0m=================================\n",
      "\n",
      "\u001B[33;1m\u001B[1;3m{input}\u001B[0m\n"
     ]
    }
   ],
   "execution_count": 21
  }
 ],
 "metadata": {
  "kernelspec": {
   "display_name": "Python 3 (ipykernel)",
   "language": "python",
   "name": "python3"
  },
  "language_info": {
   "codemirror_mode": {
    "name": "ipython",
    "version": 3
   },
   "file_extension": ".py",
   "mimetype": "text/x-python",
   "name": "python",
   "nbconvert_exporter": "python",
   "pygments_lexer": "ipython3",
   "version": "3.11.9"
  }
 },
 "nbformat": 4,
 "nbformat_minor": 5
}
