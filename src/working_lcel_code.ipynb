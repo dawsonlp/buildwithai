{
 "cells": [
  {
   "cell_type": "code",
   "id": "initial_id",
   "metadata": {
    "collapsed": true,
    "ExecuteTime": {
     "end_time": "2024-09-27T21:21:36.987420Z",
     "start_time": "2024-09-27T21:21:36.977937Z"
    }
   },
   "source": [
    "import os\n",
    "from typing import Literal\n",
    "\n",
    "import langchain\n",
    "from dotenv import load_dotenv\n",
    "from langchain.chat_models import init_chat_model\n",
    "from langchain.tools import tool\n",
    "from langchain_core.prompts import ChatPromptTemplate\n",
    "from typing_extensions import TypedDict\n",
    "\n",
    "from buildwithai.langchain_tools import get_summarized_jira_issue, get_ticket_description, set_jira_service, JiraService\n",
    "\n",
    "print(f\"Running with langchain version {langchain.__version__}\")\n",
    "\n",
    "load_dotenv()\n",
    "\n",
    "chatgptkey = os.getenv(\"CHATGPT_API_KEY\")\n",
    "\n",
    "s7_jira_user = os.getenv(\"SIGMA7_JIRA_USER\")\n",
    "s7_jira_token = os.getenv(\"SIGMA7_JIRA_TOKEN\")\n",
    "s7_jira_url = os.getenv(\"SIGMA7_JIRA_URL\")\n",
    "\n",
    "jira_user = os.getenv(\"JIRA_USER\")\n",
    "jira_token = os.getenv(\"JIRA_API_TOKEN\")\n",
    "jira_url = os.getenv(\"JIRA_URL\")\n",
    "\n",
    "larry_dawson_jiraservice= JiraService(jira_url, jira_user, jira_token)\n",
    "sigma7_jiraservice = JiraService(s7_jira_url, s7_jira_user, s7_jira_token)\n",
    "\n",
    "\n",
    "set_jira_service(larry_dawson_jiraservice)\n"
   ],
   "outputs": [
    {
     "name": "stdout",
     "output_type": "stream",
     "text": [
      "Running with langchain version 0.3.1\n"
     ]
    }
   ],
   "execution_count": 5
  },
  {
   "metadata": {
    "ExecuteTime": {
     "end_time": "2024-09-27T21:21:43.735358Z",
     "start_time": "2024-09-27T21:21:43.728134Z"
    }
   },
   "cell_type": "code",
   "source": [
    "# Define schema for output:\n",
    "class RouteQuery(TypedDict):\n",
    "    \"\"\"Route query to destination expert.\"\"\"\n",
    "    destination: Literal[\"summarizer\", \"implement\"]\n",
    "    issue_key: str\n",
    "\n",
    "@tool\n",
    "def route_to_jira_function(destination: str, issue_key: str) -> str:\n",
    "    \"\"\"Route the user's query to either a summarizer or an implementer function.\"\"\"\n",
    "    print(destination)\n",
    "    if destination == \"summarizer\":\n",
    "        print(\"Summarizing JIRA issue\")\n",
    "        return get_summarized_jira_issue(issue_key)\n",
    "    else:\n",
    "        print(\"Getting description of JIRA issue\")\n",
    "        return get_ticket_description(issue_key)"
   ],
   "id": "18d4a1e57168291b",
   "outputs": [],
   "execution_count": 6
  },
  {
   "metadata": {
    "ExecuteTime": {
     "end_time": "2024-09-27T21:21:48.673546Z",
     "start_time": "2024-09-27T21:21:48.633448Z"
    }
   },
   "cell_type": "code",
   "source": [
    "\n",
    "llm = init_chat_model(\"gpt-4o\", model_provider=\"openai\", temperature=0, api_key = chatgptkey)\n",
    "\n",
    "route_system = \"Route the user's query to either a summarizer or description function.\"\n",
    "route_prompt = ChatPromptTemplate.from_messages([(\"system\", route_system),\n",
    "        (\"human\", \"{input}\")])\n",
    "\n",
    "# Instead of writing formatting instructions into the prompt, we\n",
    "# leverage .with_structured_output to coerce the output into a simple\n",
    "# schema.\n",
    "chain = route_prompt | llm.with_structured_output(RouteQuery) | route_to_jira_function\n",
    "\n",
    "#chain1 = route_prompt | llm.with_structured_output(RouteQuery)\n",
    "#chain2 = route_to_jira_function\n",
    "#chain3 = chain1 | chain2 #Yup, this works.\n"
   ],
   "id": "ab19e0722146347",
   "outputs": [],
   "execution_count": 7
  },
  {
   "metadata": {
    "ExecuteTime": {
     "end_time": "2024-09-27T21:21:57.082457Z",
     "start_time": "2024-09-27T21:21:55.243283Z"
    }
   },
   "cell_type": "code",
   "source": [
    "res2 = chain.invoke(\"summarize JIRA issue FORGE-7\")\n",
    "res2"
   ],
   "id": "c930bb15dfbe6c1f",
   "outputs": [
    {
     "name": "stdout",
     "output_type": "stream",
     "text": [
      "summarizer\n",
      "Summarizing JIRA issue\n"
     ]
    },
    {
     "data": {
      "text/plain": [
       "{'summary': 'Agent Design for Automated Systems',\n",
       " 'description': 'This epic aims to design and develop a robust framework for agents that will automate complex tasks across various domains such as finance, human resources, and management. The design will focus on ensuring high security, role-based access control, and compliance with industry standards. Key areas will include:\\n- Developing a base agent class that defines common functionalities and security protocols.\\n- Implementing specialized agents such as FinanceAgent, ManagerAgent, and HrAgent with specific capabilities and access controls.\\n- Ensuring secure communication protocols between agents and integration points.\\n- Establishing a monitoring system for agent activities and anomaly detection.\\n- Defining human oversight mechanisms for critical actions.\\nThe outcome will be a scalable and secure agent framework that can be adapted to multiple operational needs within the organization.',\n",
       " 'status': 'To Do',\n",
       " 'comments': [{'author': 'Laurence Dawson',\n",
       "   'body': 'I am going to start this by implementing a very simple agent that is responsible for reading a request from a Jira ticket for a python script, implementing the script and printing instructions on how to run it. \\nIt will take the key for a Jira ticket and read the details, then compose the code and save it to disk for running. Initial dev step is just to build the integration from jira. I think I may need to build a standard set of functionality that builds a program. Requires some research and coding to test. \\nItems that need handling \\n\\nTask 1 - given a chatgpt code snippet returned, extract and run it. (Deal with security implications later - sandboxing and testing)\\nTask 2 - interacting with chatgpt to pull information, being able to refine and pull out the piece of code to be used.\\nTask 3 - how to get the code containerized (maybe this is actually task 0, it would make security easier.',\n",
       "   'created': '2024-05-06T09:18:23.943-0400'}]}"
      ]
     },
     "execution_count": 8,
     "metadata": {},
     "output_type": "execute_result"
    }
   ],
   "execution_count": 8
  },
  {
   "metadata": {
    "ExecuteTime": {
     "end_time": "2024-09-27T21:22:27.715108Z",
     "start_time": "2024-09-27T21:22:27.069954Z"
    }
   },
   "cell_type": "code",
   "source": [
    "res3 = chain.invoke(\"get description of JIRA issue FORGE-7\")\n",
    "res3"
   ],
   "id": "ede67598386c4b76",
   "outputs": [
    {
     "name": "stdout",
     "output_type": "stream",
     "text": [
      "implement\n",
      "Getting description of JIRA issue\n"
     ]
    },
    {
     "ename": "NameError",
     "evalue": "name 'jira' is not defined",
     "output_type": "error",
     "traceback": [
      "\u001B[0;31m---------------------------------------------------------------------------\u001B[0m",
      "\u001B[0;31mNameError\u001B[0m                                 Traceback (most recent call last)",
      "Cell \u001B[0;32mIn[9], line 1\u001B[0m\n\u001B[0;32m----> 1\u001B[0m res3 \u001B[38;5;241m=\u001B[39m \u001B[43mchain\u001B[49m\u001B[38;5;241;43m.\u001B[39;49m\u001B[43minvoke\u001B[49m\u001B[43m(\u001B[49m\u001B[38;5;124;43m\"\u001B[39;49m\u001B[38;5;124;43mget description of JIRA issue FORGE-7\u001B[39;49m\u001B[38;5;124;43m\"\u001B[39;49m\u001B[43m)\u001B[49m\n\u001B[1;32m      2\u001B[0m res3\n",
      "File \u001B[0;32m~/repos/buildwithai/.venv/lib/python3.11/site-packages/langchain_core/runnables/base.py:3022\u001B[0m, in \u001B[0;36mRunnableSequence.invoke\u001B[0;34m(self, input, config, **kwargs)\u001B[0m\n\u001B[1;32m   3020\u001B[0m             \u001B[38;5;28minput\u001B[39m \u001B[38;5;241m=\u001B[39m context\u001B[38;5;241m.\u001B[39mrun(step\u001B[38;5;241m.\u001B[39minvoke, \u001B[38;5;28minput\u001B[39m, config, \u001B[38;5;241m*\u001B[39m\u001B[38;5;241m*\u001B[39mkwargs)\n\u001B[1;32m   3021\u001B[0m         \u001B[38;5;28;01melse\u001B[39;00m:\n\u001B[0;32m-> 3022\u001B[0m             \u001B[38;5;28minput\u001B[39m \u001B[38;5;241m=\u001B[39m context\u001B[38;5;241m.\u001B[39mrun(step\u001B[38;5;241m.\u001B[39minvoke, \u001B[38;5;28minput\u001B[39m, config)\n\u001B[1;32m   3023\u001B[0m \u001B[38;5;66;03m# finish the root run\u001B[39;00m\n\u001B[1;32m   3024\u001B[0m \u001B[38;5;28;01mexcept\u001B[39;00m \u001B[38;5;167;01mBaseException\u001B[39;00m \u001B[38;5;28;01mas\u001B[39;00m e:\n",
      "File \u001B[0;32m~/repos/buildwithai/.venv/lib/python3.11/site-packages/langchain_core/tools/base.py:485\u001B[0m, in \u001B[0;36mBaseTool.invoke\u001B[0;34m(self, input, config, **kwargs)\u001B[0m\n\u001B[1;32m    478\u001B[0m \u001B[38;5;28;01mdef\u001B[39;00m \u001B[38;5;21minvoke\u001B[39m(\n\u001B[1;32m    479\u001B[0m     \u001B[38;5;28mself\u001B[39m,\n\u001B[1;32m    480\u001B[0m     \u001B[38;5;28minput\u001B[39m: Union[\u001B[38;5;28mstr\u001B[39m, \u001B[38;5;28mdict\u001B[39m, ToolCall],\n\u001B[1;32m    481\u001B[0m     config: Optional[RunnableConfig] \u001B[38;5;241m=\u001B[39m \u001B[38;5;28;01mNone\u001B[39;00m,\n\u001B[1;32m    482\u001B[0m     \u001B[38;5;241m*\u001B[39m\u001B[38;5;241m*\u001B[39mkwargs: Any,\n\u001B[1;32m    483\u001B[0m ) \u001B[38;5;241m-\u001B[39m\u001B[38;5;241m>\u001B[39m Any:\n\u001B[1;32m    484\u001B[0m     tool_input, kwargs \u001B[38;5;241m=\u001B[39m _prep_run_args(\u001B[38;5;28minput\u001B[39m, config, \u001B[38;5;241m*\u001B[39m\u001B[38;5;241m*\u001B[39mkwargs)\n\u001B[0;32m--> 485\u001B[0m     \u001B[38;5;28;01mreturn\u001B[39;00m \u001B[38;5;28;43mself\u001B[39;49m\u001B[38;5;241;43m.\u001B[39;49m\u001B[43mrun\u001B[49m\u001B[43m(\u001B[49m\u001B[43mtool_input\u001B[49m\u001B[43m,\u001B[49m\u001B[43m \u001B[49m\u001B[38;5;241;43m*\u001B[39;49m\u001B[38;5;241;43m*\u001B[39;49m\u001B[43mkwargs\u001B[49m\u001B[43m)\u001B[49m\n",
      "File \u001B[0;32m~/repos/buildwithai/.venv/lib/python3.11/site-packages/langchain_core/tools/base.py:688\u001B[0m, in \u001B[0;36mBaseTool.run\u001B[0;34m(self, tool_input, verbose, start_color, color, callbacks, tags, metadata, run_name, run_id, config, tool_call_id, **kwargs)\u001B[0m\n\u001B[1;32m    686\u001B[0m \u001B[38;5;28;01mif\u001B[39;00m error_to_raise:\n\u001B[1;32m    687\u001B[0m     run_manager\u001B[38;5;241m.\u001B[39mon_tool_error(error_to_raise)\n\u001B[0;32m--> 688\u001B[0m     \u001B[38;5;28;01mraise\u001B[39;00m error_to_raise\n\u001B[1;32m    689\u001B[0m output \u001B[38;5;241m=\u001B[39m _format_output(content, artifact, tool_call_id, \u001B[38;5;28mself\u001B[39m\u001B[38;5;241m.\u001B[39mname, status)\n\u001B[1;32m    690\u001B[0m run_manager\u001B[38;5;241m.\u001B[39mon_tool_end(output, color\u001B[38;5;241m=\u001B[39mcolor, name\u001B[38;5;241m=\u001B[39m\u001B[38;5;28mself\u001B[39m\u001B[38;5;241m.\u001B[39mname, \u001B[38;5;241m*\u001B[39m\u001B[38;5;241m*\u001B[39mkwargs)\n",
      "File \u001B[0;32m~/repos/buildwithai/.venv/lib/python3.11/site-packages/langchain_core/tools/base.py:657\u001B[0m, in \u001B[0;36mBaseTool.run\u001B[0;34m(self, tool_input, verbose, start_color, color, callbacks, tags, metadata, run_name, run_id, config, tool_call_id, **kwargs)\u001B[0m\n\u001B[1;32m    655\u001B[0m \u001B[38;5;28;01mif\u001B[39;00m config_param \u001B[38;5;241m:=\u001B[39m _get_runnable_config_param(\u001B[38;5;28mself\u001B[39m\u001B[38;5;241m.\u001B[39m_run):\n\u001B[1;32m    656\u001B[0m     tool_kwargs[config_param] \u001B[38;5;241m=\u001B[39m config\n\u001B[0;32m--> 657\u001B[0m response \u001B[38;5;241m=\u001B[39m \u001B[43mcontext\u001B[49m\u001B[38;5;241;43m.\u001B[39;49m\u001B[43mrun\u001B[49m\u001B[43m(\u001B[49m\u001B[38;5;28;43mself\u001B[39;49m\u001B[38;5;241;43m.\u001B[39;49m\u001B[43m_run\u001B[49m\u001B[43m,\u001B[49m\u001B[43m \u001B[49m\u001B[38;5;241;43m*\u001B[39;49m\u001B[43mtool_args\u001B[49m\u001B[43m,\u001B[49m\u001B[43m \u001B[49m\u001B[38;5;241;43m*\u001B[39;49m\u001B[38;5;241;43m*\u001B[39;49m\u001B[43mtool_kwargs\u001B[49m\u001B[43m)\u001B[49m\n\u001B[1;32m    658\u001B[0m \u001B[38;5;28;01mif\u001B[39;00m \u001B[38;5;28mself\u001B[39m\u001B[38;5;241m.\u001B[39mresponse_format \u001B[38;5;241m==\u001B[39m \u001B[38;5;124m\"\u001B[39m\u001B[38;5;124mcontent_and_artifact\u001B[39m\u001B[38;5;124m\"\u001B[39m:\n\u001B[1;32m    659\u001B[0m     \u001B[38;5;28;01mif\u001B[39;00m \u001B[38;5;129;01mnot\u001B[39;00m \u001B[38;5;28misinstance\u001B[39m(response, \u001B[38;5;28mtuple\u001B[39m) \u001B[38;5;129;01mor\u001B[39;00m \u001B[38;5;28mlen\u001B[39m(response) \u001B[38;5;241m!=\u001B[39m \u001B[38;5;241m2\u001B[39m:\n",
      "File \u001B[0;32m~/repos/buildwithai/.venv/lib/python3.11/site-packages/langchain_core/tools/structured.py:80\u001B[0m, in \u001B[0;36mStructuredTool._run\u001B[0;34m(self, config, run_manager, *args, **kwargs)\u001B[0m\n\u001B[1;32m     78\u001B[0m     \u001B[38;5;28;01mif\u001B[39;00m config_param \u001B[38;5;241m:=\u001B[39m _get_runnable_config_param(\u001B[38;5;28mself\u001B[39m\u001B[38;5;241m.\u001B[39mfunc):\n\u001B[1;32m     79\u001B[0m         kwargs[config_param] \u001B[38;5;241m=\u001B[39m config\n\u001B[0;32m---> 80\u001B[0m     \u001B[38;5;28;01mreturn\u001B[39;00m \u001B[38;5;28;43mself\u001B[39;49m\u001B[38;5;241;43m.\u001B[39;49m\u001B[43mfunc\u001B[49m\u001B[43m(\u001B[49m\u001B[38;5;241;43m*\u001B[39;49m\u001B[43margs\u001B[49m\u001B[43m,\u001B[49m\u001B[43m \u001B[49m\u001B[38;5;241;43m*\u001B[39;49m\u001B[38;5;241;43m*\u001B[39;49m\u001B[43mkwargs\u001B[49m\u001B[43m)\u001B[49m\n\u001B[1;32m     81\u001B[0m \u001B[38;5;28;01mraise\u001B[39;00m \u001B[38;5;167;01mNotImplementedError\u001B[39;00m(\u001B[38;5;124m\"\u001B[39m\u001B[38;5;124mStructuredTool does not support sync invocation.\u001B[39m\u001B[38;5;124m\"\u001B[39m)\n",
      "Cell \u001B[0;32mIn[6], line 16\u001B[0m, in \u001B[0;36mroute_to_jira_function\u001B[0;34m(destination, issue_key)\u001B[0m\n\u001B[1;32m     14\u001B[0m \u001B[38;5;28;01melse\u001B[39;00m:\n\u001B[1;32m     15\u001B[0m     \u001B[38;5;28mprint\u001B[39m(\u001B[38;5;124m\"\u001B[39m\u001B[38;5;124mGetting description of JIRA issue\u001B[39m\u001B[38;5;124m\"\u001B[39m)\n\u001B[0;32m---> 16\u001B[0m     \u001B[38;5;28;01mreturn\u001B[39;00m \u001B[43mget_ticket_description\u001B[49m\u001B[43m(\u001B[49m\u001B[43missue_key\u001B[49m\u001B[43m)\u001B[49m\n",
      "File \u001B[0;32m~/repos/buildwithai/.venv/lib/python3.11/site-packages/langchain_core/_api/deprecation.py:179\u001B[0m, in \u001B[0;36mdeprecated.<locals>.deprecate.<locals>.warning_emitting_wrapper\u001B[0;34m(*args, **kwargs)\u001B[0m\n\u001B[1;32m    177\u001B[0m     warned \u001B[38;5;241m=\u001B[39m \u001B[38;5;28;01mTrue\u001B[39;00m\n\u001B[1;32m    178\u001B[0m     emit_warning()\n\u001B[0;32m--> 179\u001B[0m \u001B[38;5;28;01mreturn\u001B[39;00m \u001B[43mwrapped\u001B[49m\u001B[43m(\u001B[49m\u001B[38;5;241;43m*\u001B[39;49m\u001B[43margs\u001B[49m\u001B[43m,\u001B[49m\u001B[43m \u001B[49m\u001B[38;5;241;43m*\u001B[39;49m\u001B[38;5;241;43m*\u001B[39;49m\u001B[43mkwargs\u001B[49m\u001B[43m)\u001B[49m\n",
      "File \u001B[0;32m~/repos/buildwithai/.venv/lib/python3.11/site-packages/langchain_core/tools/base.py:813\u001B[0m, in \u001B[0;36mBaseTool.__call__\u001B[0;34m(self, tool_input, callbacks)\u001B[0m\n\u001B[1;32m    810\u001B[0m \u001B[38;5;129m@deprecated\u001B[39m(\u001B[38;5;124m\"\u001B[39m\u001B[38;5;124m0.1.47\u001B[39m\u001B[38;5;124m\"\u001B[39m, alternative\u001B[38;5;241m=\u001B[39m\u001B[38;5;124m\"\u001B[39m\u001B[38;5;124minvoke\u001B[39m\u001B[38;5;124m\"\u001B[39m, removal\u001B[38;5;241m=\u001B[39m\u001B[38;5;124m\"\u001B[39m\u001B[38;5;124m1.0\u001B[39m\u001B[38;5;124m\"\u001B[39m)\n\u001B[1;32m    811\u001B[0m \u001B[38;5;28;01mdef\u001B[39;00m \u001B[38;5;21m__call__\u001B[39m(\u001B[38;5;28mself\u001B[39m, tool_input: \u001B[38;5;28mstr\u001B[39m, callbacks: Callbacks \u001B[38;5;241m=\u001B[39m \u001B[38;5;28;01mNone\u001B[39;00m) \u001B[38;5;241m-\u001B[39m\u001B[38;5;241m>\u001B[39m \u001B[38;5;28mstr\u001B[39m:\n\u001B[1;32m    812\u001B[0m \u001B[38;5;250m    \u001B[39m\u001B[38;5;124;03m\"\"\"Make tool callable.\"\"\"\u001B[39;00m\n\u001B[0;32m--> 813\u001B[0m     \u001B[38;5;28;01mreturn\u001B[39;00m \u001B[38;5;28;43mself\u001B[39;49m\u001B[38;5;241;43m.\u001B[39;49m\u001B[43mrun\u001B[49m\u001B[43m(\u001B[49m\u001B[43mtool_input\u001B[49m\u001B[43m,\u001B[49m\u001B[43m \u001B[49m\u001B[43mcallbacks\u001B[49m\u001B[38;5;241;43m=\u001B[39;49m\u001B[43mcallbacks\u001B[49m\u001B[43m)\u001B[49m\n",
      "File \u001B[0;32m~/repos/buildwithai/.venv/lib/python3.11/site-packages/langchain_core/tools/base.py:688\u001B[0m, in \u001B[0;36mBaseTool.run\u001B[0;34m(self, tool_input, verbose, start_color, color, callbacks, tags, metadata, run_name, run_id, config, tool_call_id, **kwargs)\u001B[0m\n\u001B[1;32m    686\u001B[0m \u001B[38;5;28;01mif\u001B[39;00m error_to_raise:\n\u001B[1;32m    687\u001B[0m     run_manager\u001B[38;5;241m.\u001B[39mon_tool_error(error_to_raise)\n\u001B[0;32m--> 688\u001B[0m     \u001B[38;5;28;01mraise\u001B[39;00m error_to_raise\n\u001B[1;32m    689\u001B[0m output \u001B[38;5;241m=\u001B[39m _format_output(content, artifact, tool_call_id, \u001B[38;5;28mself\u001B[39m\u001B[38;5;241m.\u001B[39mname, status)\n\u001B[1;32m    690\u001B[0m run_manager\u001B[38;5;241m.\u001B[39mon_tool_end(output, color\u001B[38;5;241m=\u001B[39mcolor, name\u001B[38;5;241m=\u001B[39m\u001B[38;5;28mself\u001B[39m\u001B[38;5;241m.\u001B[39mname, \u001B[38;5;241m*\u001B[39m\u001B[38;5;241m*\u001B[39mkwargs)\n",
      "File \u001B[0;32m~/repos/buildwithai/.venv/lib/python3.11/site-packages/langchain_core/tools/base.py:657\u001B[0m, in \u001B[0;36mBaseTool.run\u001B[0;34m(self, tool_input, verbose, start_color, color, callbacks, tags, metadata, run_name, run_id, config, tool_call_id, **kwargs)\u001B[0m\n\u001B[1;32m    655\u001B[0m \u001B[38;5;28;01mif\u001B[39;00m config_param \u001B[38;5;241m:=\u001B[39m _get_runnable_config_param(\u001B[38;5;28mself\u001B[39m\u001B[38;5;241m.\u001B[39m_run):\n\u001B[1;32m    656\u001B[0m     tool_kwargs[config_param] \u001B[38;5;241m=\u001B[39m config\n\u001B[0;32m--> 657\u001B[0m response \u001B[38;5;241m=\u001B[39m \u001B[43mcontext\u001B[49m\u001B[38;5;241;43m.\u001B[39;49m\u001B[43mrun\u001B[49m\u001B[43m(\u001B[49m\u001B[38;5;28;43mself\u001B[39;49m\u001B[38;5;241;43m.\u001B[39;49m\u001B[43m_run\u001B[49m\u001B[43m,\u001B[49m\u001B[43m \u001B[49m\u001B[38;5;241;43m*\u001B[39;49m\u001B[43mtool_args\u001B[49m\u001B[43m,\u001B[49m\u001B[43m \u001B[49m\u001B[38;5;241;43m*\u001B[39;49m\u001B[38;5;241;43m*\u001B[39;49m\u001B[43mtool_kwargs\u001B[49m\u001B[43m)\u001B[49m\n\u001B[1;32m    658\u001B[0m \u001B[38;5;28;01mif\u001B[39;00m \u001B[38;5;28mself\u001B[39m\u001B[38;5;241m.\u001B[39mresponse_format \u001B[38;5;241m==\u001B[39m \u001B[38;5;124m\"\u001B[39m\u001B[38;5;124mcontent_and_artifact\u001B[39m\u001B[38;5;124m\"\u001B[39m:\n\u001B[1;32m    659\u001B[0m     \u001B[38;5;28;01mif\u001B[39;00m \u001B[38;5;129;01mnot\u001B[39;00m \u001B[38;5;28misinstance\u001B[39m(response, \u001B[38;5;28mtuple\u001B[39m) \u001B[38;5;129;01mor\u001B[39;00m \u001B[38;5;28mlen\u001B[39m(response) \u001B[38;5;241m!=\u001B[39m \u001B[38;5;241m2\u001B[39m:\n",
      "File \u001B[0;32m~/repos/buildwithai/.venv/lib/python3.11/site-packages/langchain_core/tools/structured.py:80\u001B[0m, in \u001B[0;36mStructuredTool._run\u001B[0;34m(self, config, run_manager, *args, **kwargs)\u001B[0m\n\u001B[1;32m     78\u001B[0m     \u001B[38;5;28;01mif\u001B[39;00m config_param \u001B[38;5;241m:=\u001B[39m _get_runnable_config_param(\u001B[38;5;28mself\u001B[39m\u001B[38;5;241m.\u001B[39mfunc):\n\u001B[1;32m     79\u001B[0m         kwargs[config_param] \u001B[38;5;241m=\u001B[39m config\n\u001B[0;32m---> 80\u001B[0m     \u001B[38;5;28;01mreturn\u001B[39;00m \u001B[38;5;28;43mself\u001B[39;49m\u001B[38;5;241;43m.\u001B[39;49m\u001B[43mfunc\u001B[49m\u001B[43m(\u001B[49m\u001B[38;5;241;43m*\u001B[39;49m\u001B[43margs\u001B[49m\u001B[43m,\u001B[49m\u001B[43m \u001B[49m\u001B[38;5;241;43m*\u001B[39;49m\u001B[38;5;241;43m*\u001B[39;49m\u001B[43mkwargs\u001B[49m\u001B[43m)\u001B[49m\n\u001B[1;32m     81\u001B[0m \u001B[38;5;28;01mraise\u001B[39;00m \u001B[38;5;167;01mNotImplementedError\u001B[39;00m(\u001B[38;5;124m\"\u001B[39m\u001B[38;5;124mStructuredTool does not support sync invocation.\u001B[39m\u001B[38;5;124m\"\u001B[39m)\n",
      "File \u001B[0;32m~/repos/buildwithai/src/buildwithai/langchain_tools.py:88\u001B[0m, in \u001B[0;36mget_ticket_description\u001B[0;34m(ticket_id)\u001B[0m\n\u001B[1;32m     85\u001B[0m \u001B[38;5;129m@tool\u001B[39m\n\u001B[1;32m     86\u001B[0m \u001B[38;5;28;01mdef\u001B[39;00m \u001B[38;5;21mget_ticket_description\u001B[39m(ticket_id: \u001B[38;5;28mstr\u001B[39m) \u001B[38;5;241m-\u001B[39m\u001B[38;5;241m>\u001B[39m \u001B[38;5;28mstr\u001B[39m:\n\u001B[1;32m     87\u001B[0m \u001B[38;5;250m    \u001B[39m\u001B[38;5;124;03m\"\"\"Fetches just the description field of a Jira ticket.\"\"\"\u001B[39;00m\n\u001B[0;32m---> 88\u001B[0m     \u001B[38;5;28;01mreturn\u001B[39;00m \u001B[43mjira_service\u001B[49m\u001B[38;5;241;43m.\u001B[39;49m\u001B[43mget_ticket_description\u001B[49m\u001B[43m(\u001B[49m\u001B[43mticket_id\u001B[49m\u001B[43m)\u001B[49m\n",
      "File \u001B[0;32m~/repos/buildwithai/src/buildwithai/langchain_tools.py:50\u001B[0m, in \u001B[0;36mJiraService.get_ticket_description\u001B[0;34m(self, ticket_id)\u001B[0m\n\u001B[1;32m     47\u001B[0m     issue \u001B[38;5;241m=\u001B[39m jira\u001B[38;5;241m.\u001B[39missue(ticket_id)\n\u001B[1;32m     48\u001B[0m     \u001B[38;5;28;01mreturn\u001B[39;00m \u001B[38;5;28mstr\u001B[39m(issue\u001B[38;5;241m.\u001B[39mfields\u001B[38;5;241m.\u001B[39mdescription)\n\u001B[0;32m---> 50\u001B[0m \u001B[38;5;28;01mreturn\u001B[39;00m \u001B[38;5;28;43mself\u001B[39;49m\u001B[38;5;241;43m.\u001B[39;49m\u001B[43mconnector\u001B[49m\u001B[38;5;241;43m.\u001B[39;49m\u001B[43mhandle_request_with_retries\u001B[49m\u001B[43m(\u001B[49m\u001B[43mrequest\u001B[49m\u001B[43m)\u001B[49m\n",
      "File \u001B[0;32m~/repos/buildwithai/src/connections/connector.py:57\u001B[0m, in \u001B[0;36mBaseServiceClient.handle_request_with_retries\u001B[0;34m(self, request_func, *args, **kwargs)\u001B[0m\n\u001B[1;32m     55\u001B[0m     \u001B[38;5;28;01mreturn\u001B[39;00m request_func(\u001B[38;5;241m*\u001B[39margs, \u001B[38;5;241m*\u001B[39m\u001B[38;5;241m*\u001B[39mkwargs)  \u001B[38;5;66;03m# Retry after reconnection\u001B[39;00m\n\u001B[1;32m     56\u001B[0m \u001B[38;5;28;01melse\u001B[39;00m:\n\u001B[0;32m---> 57\u001B[0m     \u001B[38;5;28;01mraise\u001B[39;00m e\n",
      "File \u001B[0;32m~/repos/buildwithai/src/connections/connector.py:51\u001B[0m, in \u001B[0;36mBaseServiceClient.handle_request_with_retries\u001B[0;34m(self, request_func, *args, **kwargs)\u001B[0m\n\u001B[1;32m     49\u001B[0m \u001B[38;5;28;01mtry\u001B[39;00m:\n\u001B[1;32m     50\u001B[0m     \u001B[38;5;28mself\u001B[39m\u001B[38;5;241m.\u001B[39mensure_connection()\n\u001B[0;32m---> 51\u001B[0m     \u001B[38;5;28;01mreturn\u001B[39;00m \u001B[43mrequest_func\u001B[49m\u001B[43m(\u001B[49m\u001B[38;5;241;43m*\u001B[39;49m\u001B[43margs\u001B[49m\u001B[43m,\u001B[49m\u001B[43m \u001B[49m\u001B[38;5;241;43m*\u001B[39;49m\u001B[38;5;241;43m*\u001B[39;49m\u001B[43mkwargs\u001B[49m\u001B[43m)\u001B[49m\n\u001B[1;32m     52\u001B[0m \u001B[38;5;28;01mexcept\u001B[39;00m \u001B[38;5;167;01mException\u001B[39;00m \u001B[38;5;28;01mas\u001B[39;00m e:\n\u001B[1;32m     53\u001B[0m     \u001B[38;5;28;01mif\u001B[39;00m \u001B[38;5;28mself\u001B[39m\u001B[38;5;241m.\u001B[39mis_token_expired(e):\n",
      "File \u001B[0;32m~/repos/buildwithai/src/buildwithai/langchain_tools.py:47\u001B[0m, in \u001B[0;36mJiraService.get_ticket_description.<locals>.request\u001B[0;34m()\u001B[0m\n\u001B[1;32m     46\u001B[0m \u001B[38;5;28;01mdef\u001B[39;00m \u001B[38;5;21mrequest\u001B[39m():\n\u001B[0;32m---> 47\u001B[0m     issue \u001B[38;5;241m=\u001B[39m \u001B[43mjira\u001B[49m\u001B[38;5;241m.\u001B[39missue(ticket_id)\n\u001B[1;32m     48\u001B[0m     \u001B[38;5;28;01mreturn\u001B[39;00m \u001B[38;5;28mstr\u001B[39m(issue\u001B[38;5;241m.\u001B[39mfields\u001B[38;5;241m.\u001B[39mdescription)\n",
      "\u001B[0;31mNameError\u001B[0m: name 'jira' is not defined"
     ]
    }
   ],
   "execution_count": 9
  },
  {
   "metadata": {
    "ExecuteTime": {
     "end_time": "2024-09-23T22:40:27.211519Z",
     "start_time": "2024-09-23T22:40:27.206936Z"
    }
   },
   "cell_type": "code",
   "source": [
    "req = f\"\"\"who has worked on the ticket with all the detail below:\n",
    "{res2}\n",
    "\"\"\""
   ],
   "id": "1062a2d6666c8adb",
   "outputs": [],
   "execution_count": 44
  },
  {
   "metadata": {
    "ExecuteTime": {
     "end_time": "2024-09-23T22:40:30.558014Z",
     "start_time": "2024-09-23T22:40:30.553777Z"
    }
   },
   "cell_type": "code",
   "source": "req",
   "id": "312aa472dc05464b",
   "outputs": [
    {
     "data": {
      "text/plain": [
       "\"who has worked on the ticket with all the detail below:\\n{'summary': 'Agent Design for Automated Systems', 'description': 'This epic aims to design and develop a robust framework for agents that will automate complex tasks across various domains such as finance, human resources, and management. The design will focus on ensuring high security, role-based access control, and compliance with industry standards. Key areas will include:\\\\n- Developing a base agent class that defines common functionalities and security protocols.\\\\n- Implementing specialized agents such as FinanceAgent, ManagerAgent, and HrAgent with specific capabilities and access controls.\\\\n- Ensuring secure communication protocols between agents and integration points.\\\\n- Establishing a monitoring system for agent activities and anomaly detection.\\\\n- Defining human oversight mechanisms for critical actions.\\\\nThe outcome will be a scalable and secure agent framework that can be adapted to multiple operational needs within the organization.', 'status': 'To Do', 'comments': [{'author': 'Laurence Dawson', 'body': 'I am going to start this by implementing a very simple agent that is responsible for reading a request from a Jira ticket for a python script, implementing the script and printing instructions on how to run it. \\\\nIt will take the key for a Jira ticket and read the details, then compose the code and save it to disk for running. Initial dev step is just to build the integration from jira. I think I may need to build a standard set of functionality that builds a program. Requires some research and coding to test. \\\\nItems that need handling \\\\n\\\\nTask 1 - given a chatgpt code snippet returned, extract and run it. (Deal with security implications later - sandboxing and testing)\\\\nTask 2 - interacting with chatgpt to pull information, being able to refine and pull out the piece of code to be used.\\\\nTask 3 - how to get the code containerized (maybe this is actually task 0, it would make security easier.', 'created': '2024-05-06T09:18:23.943-0400'}]}\\n\""
      ]
     },
     "execution_count": 45,
     "metadata": {},
     "output_type": "execute_result"
    }
   ],
   "execution_count": 45
  },
  {
   "metadata": {
    "ExecuteTime": {
     "end_time": "2024-09-23T22:40:49.963688Z",
     "start_time": "2024-09-23T22:40:48.387337Z"
    }
   },
   "cell_type": "code",
   "source": "who = llm(req)",
   "id": "21d450d0598d1af3",
   "outputs": [
    {
     "name": "stderr",
     "output_type": "stream",
     "text": [
      "/var/folders/wc/4xnvpv5s7tjd807525gff95m0000gp/T/ipykernel_56196/398874262.py:1: LangChainDeprecationWarning: The method `BaseChatModel.__call__` was deprecated in langchain-core 0.1.7 and will be removed in 1.0. Use :meth:`~invoke` instead.\n",
      "  who = llm(req)\n"
     ]
    }
   ],
   "execution_count": 46
  },
  {
   "metadata": {
    "ExecuteTime": {
     "end_time": "2024-09-24T00:30:27.613158Z",
     "start_time": "2024-09-24T00:30:27.597645Z"
    }
   },
   "cell_type": "code",
   "source": "who.content",
   "id": "f5df1693ef3ee4c9",
   "outputs": [
    {
     "data": {
      "text/plain": [
       "'The ticket with the summary \"Agent Design for Automated Systems\" and the detailed description provided has been commented on by Laurence Dawson. Laurence Dawson mentioned that they are planning to start by implementing a simple agent responsible for reading a request from a Jira ticket for a Python script, implementing the script, and printing instructions on how to run it. The comment was created on 2024-05-06 at 09:18:23.943-0400.'"
      ]
     },
     "execution_count": 62,
     "metadata": {},
     "output_type": "execute_result"
    }
   ],
   "execution_count": 62
  },
  {
   "metadata": {},
   "cell_type": "code",
   "outputs": [],
   "execution_count": null,
   "source": "#SequentialChain has functionality for chaining multiple functions together. Look at that next.",
   "id": "f037b6745ae9d154"
  }
 ],
 "metadata": {
  "kernelspec": {
   "display_name": "Python 3",
   "language": "python",
   "name": "python3"
  },
  "language_info": {
   "codemirror_mode": {
    "name": "ipython",
    "version": 2
   },
   "file_extension": ".py",
   "mimetype": "text/x-python",
   "name": "python",
   "nbconvert_exporter": "python",
   "pygments_lexer": "ipython2",
   "version": "2.7.6"
  }
 },
 "nbformat": 4,
 "nbformat_minor": 5
}
