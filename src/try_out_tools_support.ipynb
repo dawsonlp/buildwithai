{
 "cells": [
  {
   "cell_type": "code",
   "id": "initial_id",
   "metadata": {
    "collapsed": true,
    "ExecuteTime": {
     "end_time": "2024-09-27T21:47:40.016041Z",
     "start_time": "2024-09-27T21:47:39.390560Z"
    }
   },
   "source": [
    "import os\n",
    "\n",
    "import langchain\n",
    "from langchain.tools import tool, StructuredTool\n",
    "\n",
    "print(f\"Running with langchain version {langchain.__version__}\")\n",
    "from dotenv import load_dotenv\n",
    "\n",
    "load_dotenv()\n",
    "\n",
    "chatgptkey = os.getenv(\"CHATGPT_API_KEY\")"
   ],
   "outputs": [
    {
     "name": "stdout",
     "output_type": "stream",
     "text": [
      "Running with langchain version 0.3.1\n"
     ]
    }
   ],
   "execution_count": 1
  },
  {
   "metadata": {
    "ExecuteTime": {
     "end_time": "2024-09-27T21:53:45.850395Z",
     "start_time": "2024-09-27T21:53:45.844355Z"
    }
   },
   "cell_type": "code",
   "source": [
    "@tool\n",
    "def simple_test_tool(who: str, times: str) -> str:\n",
    "    \"\"\"Just a simple test tool, takes a string representing a name and returns a greeting\"\"\"\n",
    "    t = int(times)\n",
    "    return f\"{who}, hello from the simple test tool, {t} times\"\n",
    "\n",
    "simple_test_tool.invoke(input={'who':\"world\", 'times':\"3\"})"
   ],
   "id": "4518335e1975db4f",
   "outputs": [
    {
     "data": {
      "text/plain": [
       "'world, hello from the simple test tool, 3 times'"
      ]
     },
     "execution_count": 8,
     "metadata": {},
     "output_type": "execute_result"
    }
   ],
   "execution_count": 8
  },
  {
   "metadata": {
    "ExecuteTime": {
     "end_time": "2024-09-27T22:08:55.873846Z",
     "start_time": "2024-09-27T22:08:55.868050Z"
    }
   },
   "cell_type": "code",
   "source": [
    "\n",
    "def try_structuredtool_simple():\n",
    "    \n",
    "    \n"
   ],
   "id": "aa87008ab5783e62",
   "outputs": [],
   "execution_count": 12
  },
  {
   "metadata": {
    "ExecuteTime": {
     "end_time": "2024-09-27T22:10:21.088052Z",
     "start_time": "2024-09-27T22:10:21.083640Z"
    }
   },
   "cell_type": "code",
   "source": [
    "from typing import Awaitable\n",
    "\n",
    "\n",
    "class TestToolChest:\n",
    "    \n",
    "    def __init__(self, name: str):\n",
    "        self.name = name\n",
    "    \n",
    "    def greet(self, who: str) -> str:\n",
    "        return f\"Hello, {who}, from {self.name}!\"\n",
    "    \n",
    "    def greet_async(self, who: str) -> Awaitable[str]:\n",
    "        return f\"Hello, {who}, from {self.name}!\"\n",
    "    \n",
    "    def greet_with_times(self, who: str, times: int) -> str:\n",
    "        return f\"Hello, {who}, from {self.name}! \" * times\n",
    "    \n",
    "    def greet_with_times_async(self, who: str, times: int) -> Awaitable[str]:\n",
    "        return f\"Hello, {who}, from {self.name}! \" * times\n",
    "    \n"
   ],
   "id": "a03d878dc3b64764",
   "outputs": [],
   "execution_count": 13
  },
  {
   "metadata": {
    "ExecuteTime": {
     "end_time": "2024-09-27T22:11:49.635354Z",
     "start_time": "2024-09-27T22:11:49.613454Z"
    }
   },
   "cell_type": "code",
   "source": "",
   "id": "c0fc0f175a5762e6",
   "outputs": [
    {
     "ename": "ValidationError",
     "evalue": "2 validation errors for MethodTool\ninstance\n  Field required [type=missing, input_value={'func': <bound method Te....<locals>.DummySchema'>}, input_type=dict]\n    For further information visit https://errors.pydantic.dev/2.9/v/missing\nmethod_name\n  Field required [type=missing, input_value={'func': <bound method Te....<locals>.DummySchema'>}, input_type=dict]\n    For further information visit https://errors.pydantic.dev/2.9/v/missing",
     "output_type": "error",
     "traceback": [
      "\u001B[0;31m---------------------------------------------------------------------------\u001B[0m",
      "\u001B[0;31mValidationError\u001B[0m                           Traceback (most recent call last)",
      "Cell \u001B[0;32mIn[15], line 3\u001B[0m\n\u001B[1;32m      1\u001B[0m ttc1  \u001B[38;5;241m=\u001B[39m TestToolChest(\u001B[38;5;124m\"\u001B[39m\u001B[38;5;124mttc1\u001B[39m\u001B[38;5;124m\"\u001B[39m)\n\u001B[0;32m----> 3\u001B[0m greet_tool \u001B[38;5;241m=\u001B[39m \u001B[43mMethodTool\u001B[49m\u001B[43m(\u001B[49m\u001B[43mttc1\u001B[49m\u001B[43m,\u001B[49m\u001B[43m \u001B[49m\u001B[38;5;124;43m\"\u001B[39;49m\u001B[38;5;124;43mgreet\u001B[39;49m\u001B[38;5;124;43m\"\u001B[39;49m\u001B[43m)\u001B[49m\n\u001B[1;32m      4\u001B[0m greet_tool\u001B[38;5;241m.\u001B[39minvoke(\u001B[38;5;28minput\u001B[39m\u001B[38;5;241m=\u001B[39m{\u001B[38;5;124m'\u001B[39m\u001B[38;5;124mself\u001B[39m\u001B[38;5;124m'\u001B[39m: ttc1, \u001B[38;5;124m'\u001B[39m\u001B[38;5;124mwho\u001B[39m\u001B[38;5;124m'\u001B[39m:\u001B[38;5;124m\"\u001B[39m\u001B[38;5;124mworld\u001B[39m\u001B[38;5;124m\"\u001B[39m})\n",
      "Cell \u001B[0;32mIn[12], line 18\u001B[0m, in \u001B[0;36mMethodTool.__init__\u001B[0;34m(self, instance, method_name, *args, **kwargs)\u001B[0m\n\u001B[1;32m     16\u001B[0m description \u001B[38;5;241m=\u001B[39m method\u001B[38;5;241m.\u001B[39m\u001B[38;5;18m__doc__\u001B[39m \u001B[38;5;129;01mor\u001B[39;00m \u001B[38;5;124mf\u001B[39m\u001B[38;5;124m\"\u001B[39m\u001B[38;5;132;01m{\u001B[39;00mmethod_name\u001B[38;5;132;01m}\u001B[39;00m\u001B[38;5;124m method\u001B[39m\u001B[38;5;124m\"\u001B[39m\n\u001B[1;32m     17\u001B[0m schema \u001B[38;5;241m=\u001B[39m \u001B[38;5;28mself\u001B[39m\u001B[38;5;241m.\u001B[39m_infer_schema(method)\n\u001B[0;32m---> 18\u001B[0m \u001B[38;5;28;43msuper\u001B[39;49m\u001B[43m(\u001B[49m\u001B[43m)\u001B[49m\u001B[38;5;241;43m.\u001B[39;49m\u001B[38;5;21;43m__init__\u001B[39;49m\u001B[43m(\u001B[49m\n\u001B[1;32m     19\u001B[0m \u001B[43m    \u001B[49m\u001B[43mfunc\u001B[49m\u001B[38;5;241;43m=\u001B[39;49m\u001B[43mmethod\u001B[49m\u001B[43m,\u001B[49m\n\u001B[1;32m     20\u001B[0m \u001B[43m    \u001B[49m\u001B[43mname\u001B[49m\u001B[38;5;241;43m=\u001B[39;49m\u001B[43mmethod_name\u001B[49m\u001B[43m,\u001B[49m\n\u001B[1;32m     21\u001B[0m \u001B[43m    \u001B[49m\u001B[43mdescription\u001B[49m\u001B[38;5;241;43m=\u001B[39;49m\u001B[43mdescription\u001B[49m\u001B[43m,\u001B[49m\n\u001B[1;32m     22\u001B[0m \u001B[43m    \u001B[49m\u001B[43margs_schema\u001B[49m\u001B[38;5;241;43m=\u001B[39;49m\u001B[43mschema\u001B[49m\u001B[43m,\u001B[49m\n\u001B[1;32m     23\u001B[0m \u001B[43m    \u001B[49m\u001B[38;5;241;43m*\u001B[39;49m\u001B[43margs\u001B[49m\u001B[43m,\u001B[49m\n\u001B[1;32m     24\u001B[0m \u001B[43m    \u001B[49m\u001B[38;5;241;43m*\u001B[39;49m\u001B[38;5;241;43m*\u001B[39;49m\u001B[43mkwargs\u001B[49m\n\u001B[1;32m     25\u001B[0m \u001B[43m\u001B[49m\u001B[43m)\u001B[49m\n",
      "File \u001B[0;32m~/repos/buildwithai/.venv/lib/python3.11/site-packages/langchain_core/tools/base.py:433\u001B[0m, in \u001B[0;36mBaseTool.__init__\u001B[0;34m(self, **kwargs)\u001B[0m\n\u001B[1;32m    428\u001B[0m     \u001B[38;5;28;01mif\u001B[39;00m \u001B[38;5;129;01mnot\u001B[39;00m is_basemodel_subclass(kwargs[\u001B[38;5;124m\"\u001B[39m\u001B[38;5;124margs_schema\u001B[39m\u001B[38;5;124m\"\u001B[39m]):\n\u001B[1;32m    429\u001B[0m         \u001B[38;5;28;01mraise\u001B[39;00m \u001B[38;5;167;01mTypeError\u001B[39;00m(\n\u001B[1;32m    430\u001B[0m             \u001B[38;5;124mf\u001B[39m\u001B[38;5;124m\"\u001B[39m\u001B[38;5;124margs_schema must be a subclass of pydantic BaseModel. \u001B[39m\u001B[38;5;124m\"\u001B[39m\n\u001B[1;32m    431\u001B[0m             \u001B[38;5;124mf\u001B[39m\u001B[38;5;124m\"\u001B[39m\u001B[38;5;124mGot: \u001B[39m\u001B[38;5;132;01m{\u001B[39;00mkwargs[\u001B[38;5;124m'\u001B[39m\u001B[38;5;124margs_schema\u001B[39m\u001B[38;5;124m'\u001B[39m]\u001B[38;5;132;01m}\u001B[39;00m\u001B[38;5;124m.\u001B[39m\u001B[38;5;124m\"\u001B[39m\n\u001B[1;32m    432\u001B[0m         )\n\u001B[0;32m--> 433\u001B[0m \u001B[38;5;28;43msuper\u001B[39;49m\u001B[43m(\u001B[49m\u001B[43m)\u001B[49m\u001B[38;5;241;43m.\u001B[39;49m\u001B[38;5;21;43m__init__\u001B[39;49m\u001B[43m(\u001B[49m\u001B[38;5;241;43m*\u001B[39;49m\u001B[38;5;241;43m*\u001B[39;49m\u001B[43mkwargs\u001B[49m\u001B[43m)\u001B[49m\n",
      "File \u001B[0;32m~/repos/buildwithai/.venv/lib/python3.11/site-packages/langchain_core/load/serializable.py:110\u001B[0m, in \u001B[0;36mSerializable.__init__\u001B[0;34m(self, *args, **kwargs)\u001B[0m\n\u001B[1;32m    108\u001B[0m \u001B[38;5;28;01mdef\u001B[39;00m \u001B[38;5;21m__init__\u001B[39m(\u001B[38;5;28mself\u001B[39m, \u001B[38;5;241m*\u001B[39margs: Any, \u001B[38;5;241m*\u001B[39m\u001B[38;5;241m*\u001B[39mkwargs: Any) \u001B[38;5;241m-\u001B[39m\u001B[38;5;241m>\u001B[39m \u001B[38;5;28;01mNone\u001B[39;00m:\n\u001B[1;32m    109\u001B[0m \u001B[38;5;250m    \u001B[39m\u001B[38;5;124;03m\"\"\"\"\"\"\u001B[39;00m\n\u001B[0;32m--> 110\u001B[0m     \u001B[38;5;28;43msuper\u001B[39;49m\u001B[43m(\u001B[49m\u001B[43m)\u001B[49m\u001B[38;5;241;43m.\u001B[39;49m\u001B[38;5;21;43m__init__\u001B[39;49m\u001B[43m(\u001B[49m\u001B[38;5;241;43m*\u001B[39;49m\u001B[43margs\u001B[49m\u001B[43m,\u001B[49m\u001B[43m \u001B[49m\u001B[38;5;241;43m*\u001B[39;49m\u001B[38;5;241;43m*\u001B[39;49m\u001B[43mkwargs\u001B[49m\u001B[43m)\u001B[49m\n",
      "File \u001B[0;32m~/repos/buildwithai/.venv/lib/python3.11/site-packages/pydantic/main.py:212\u001B[0m, in \u001B[0;36mBaseModel.__init__\u001B[0;34m(self, **data)\u001B[0m\n\u001B[1;32m    210\u001B[0m \u001B[38;5;66;03m# `__tracebackhide__` tells pytest and some other tools to omit this function from tracebacks\u001B[39;00m\n\u001B[1;32m    211\u001B[0m __tracebackhide__ \u001B[38;5;241m=\u001B[39m \u001B[38;5;28;01mTrue\u001B[39;00m\n\u001B[0;32m--> 212\u001B[0m validated_self \u001B[38;5;241m=\u001B[39m \u001B[38;5;28;43mself\u001B[39;49m\u001B[38;5;241;43m.\u001B[39;49m\u001B[43m__pydantic_validator__\u001B[49m\u001B[38;5;241;43m.\u001B[39;49m\u001B[43mvalidate_python\u001B[49m\u001B[43m(\u001B[49m\u001B[43mdata\u001B[49m\u001B[43m,\u001B[49m\u001B[43m \u001B[49m\u001B[43mself_instance\u001B[49m\u001B[38;5;241;43m=\u001B[39;49m\u001B[38;5;28;43mself\u001B[39;49m\u001B[43m)\u001B[49m\n\u001B[1;32m    213\u001B[0m \u001B[38;5;28;01mif\u001B[39;00m \u001B[38;5;28mself\u001B[39m \u001B[38;5;129;01mis\u001B[39;00m \u001B[38;5;129;01mnot\u001B[39;00m validated_self:\n\u001B[1;32m    214\u001B[0m     warnings\u001B[38;5;241m.\u001B[39mwarn(\n\u001B[1;32m    215\u001B[0m         \u001B[38;5;124m'\u001B[39m\u001B[38;5;124mA custom validator is returning a value other than `self`.\u001B[39m\u001B[38;5;130;01m\\n\u001B[39;00m\u001B[38;5;124m'\u001B[39m\n\u001B[1;32m    216\u001B[0m         \u001B[38;5;124m\"\u001B[39m\u001B[38;5;124mReturning anything other than `self` from a top level model validator isn\u001B[39m\u001B[38;5;124m'\u001B[39m\u001B[38;5;124mt supported when validating via `__init__`.\u001B[39m\u001B[38;5;130;01m\\n\u001B[39;00m\u001B[38;5;124m\"\u001B[39m\n\u001B[1;32m    217\u001B[0m         \u001B[38;5;124m'\u001B[39m\u001B[38;5;124mSee the `model_validator` docs (https://docs.pydantic.dev/latest/concepts/validators/#model-validators) for more details.\u001B[39m\u001B[38;5;124m'\u001B[39m,\n\u001B[1;32m    218\u001B[0m         category\u001B[38;5;241m=\u001B[39m\u001B[38;5;28;01mNone\u001B[39;00m,\n\u001B[1;32m    219\u001B[0m     )\n",
      "\u001B[0;31mValidationError\u001B[0m: 2 validation errors for MethodTool\ninstance\n  Field required [type=missing, input_value={'func': <bound method Te....<locals>.DummySchema'>}, input_type=dict]\n    For further information visit https://errors.pydantic.dev/2.9/v/missing\nmethod_name\n  Field required [type=missing, input_value={'func': <bound method Te....<locals>.DummySchema'>}, input_type=dict]\n    For further information visit https://errors.pydantic.dev/2.9/v/missing"
     ]
    }
   ],
   "execution_count": 15
  },
  {
   "metadata": {
    "ExecuteTime": {
     "end_time": "2024-09-27T22:41:23.019342Z",
     "start_time": "2024-09-27T22:41:23.010779Z"
    }
   },
   "cell_type": "code",
   "source": [
    "from dataclasses import dataclass, field\n",
    "from typing import Callable, Any, Awaitable\n",
    "\n",
    "\n",
    "@dataclass\n",
    "class MethodTool:\n",
    "    \"\"\"A tool that wraps a method of a class instance.\"\"\"\n",
    "    \n",
    "    instance: Any\n",
    "    method_name: str\n",
    "    func: Callable = field(init=False)\n",
    "    \n",
    "    def __post_init__(self):\n",
    "        # Get the method from the instance\n",
    "        self.func = getattr(self.instance, self.method_name)\n",
    "\n",
    "    def invoke(self, input: dict) -> Any:\n",
    "        # Unpack input and call the method\n",
    "        return self.func(**input)\n",
    "\n",
    "\n",
    "class TestToolChest:\n",
    "    \n",
    "    def __init__(self, name: str):\n",
    "        self.name = name\n",
    "    \n",
    "    def greet(self, who: str) -> str:\n",
    "        \"\"\"Greet a person.\"\"\"\n",
    "        return f\"Hello, {who}, from {self.name}!\"\n",
    "    \n",
    "    def greet_async(self, who: str) -> Awaitable[str]:\n",
    "        \"\"\"Greet a person asynchronously.\"\"\"\n",
    "        return f\"Hello, {who}, from {self.name}!\"\n",
    "    \n",
    "    def greet_with_times(self, who: str, times: int) -> str:\n",
    "        \"\"\"Greet a person multiple times.\"\"\"\n",
    "        return f\"Hello, {who}, from {self.name}! \" * times\n",
    "    \n",
    "    def greet_with_times_async(self, who: str, times: int) -> Awaitable[str]:\n",
    "        \"\"\"Greet a person multiple times asynchronously.\"\"\"\n",
    "        return f\"Hello, {who}, from {self.name}! \" * times\n",
    "\n",
    "\n",
    "# Create an instance of TestToolChest\n",
    "ttc1 = TestToolChest(\"ttc1\")\n",
    "\n",
    "# Create a tool from the greet method\n",
    "greet_tool = MethodTool(instance=ttc1, method_name=\"greet\")\n",
    "\n",
    "# Invoke the tool\n",
    "result = greet_tool.invoke(input={'who': \"world\"})\n",
    "print(result)\n"
   ],
   "id": "234fdb60c17a24a7",
   "outputs": [
    {
     "name": "stdout",
     "output_type": "stream",
     "text": [
      "Hello, world, from ttc1!\n"
     ]
    }
   ],
   "execution_count": 25
  },
  {
   "metadata": {
    "ExecuteTime": {
     "end_time": "2024-09-28T00:25:41.738573Z",
     "start_time": "2024-09-28T00:25:41.720299Z"
    }
   },
   "cell_type": "code",
   "source": "ttc1",
   "id": "58403ba58ff683f7",
   "outputs": [
    {
     "data": {
      "text/plain": [
       "<__main__.TestToolChest at 0x12629e950>"
      ]
     },
     "execution_count": 26,
     "metadata": {},
     "output_type": "execute_result"
    }
   ],
   "execution_count": 26
  },
  {
   "metadata": {
    "ExecuteTime": {
     "end_time": "2024-09-28T00:25:57.667753Z",
     "start_time": "2024-09-28T00:25:57.664539Z"
    }
   },
   "cell_type": "code",
   "source": "import functools\n",
   "id": "28d3f168e4e4a89e",
   "outputs": [],
   "execution_count": 27
  },
  {
   "metadata": {
    "ExecuteTime": {
     "end_time": "2024-09-28T00:26:24.126306Z",
     "start_time": "2024-09-28T00:26:24.122844Z"
    }
   },
   "cell_type": "code",
   "source": "myfn = functools.partial(ttc1.greet, self = ttc1)",
   "id": "5fb6edd8d96f5641",
   "outputs": [],
   "execution_count": 28
  },
  {
   "metadata": {
    "ExecuteTime": {
     "end_time": "2024-09-28T00:26:28.507469Z",
     "start_time": "2024-09-28T00:26:28.483075Z"
    }
   },
   "cell_type": "code",
   "source": "myfn(\"world\")",
   "id": "ede2dc9142193038",
   "outputs": [
    {
     "ename": "TypeError",
     "evalue": "TestToolChest.greet() got multiple values for argument 'self'",
     "output_type": "error",
     "traceback": [
      "\u001B[0;31m---------------------------------------------------------------------------\u001B[0m",
      "\u001B[0;31mTypeError\u001B[0m                                 Traceback (most recent call last)",
      "Cell \u001B[0;32mIn[29], line 1\u001B[0m\n\u001B[0;32m----> 1\u001B[0m \u001B[43mmyfn\u001B[49m\u001B[43m(\u001B[49m\u001B[38;5;124;43m\"\u001B[39;49m\u001B[38;5;124;43mworld\u001B[39;49m\u001B[38;5;124;43m\"\u001B[39;49m\u001B[43m)\u001B[49m\n",
      "\u001B[0;31mTypeError\u001B[0m: TestToolChest.greet() got multiple values for argument 'self'"
     ]
    }
   ],
   "execution_count": 29
  },
  {
   "metadata": {
    "ExecuteTime": {
     "end_time": "2024-09-28T00:27:09.422458Z",
     "start_time": "2024-09-28T00:27:09.419519Z"
    }
   },
   "cell_type": "code",
   "source": [
    "myfn = ttc1.greet\n",
    "\n"
   ],
   "id": "5bee5e710c30528b",
   "outputs": [],
   "execution_count": 31
  },
  {
   "metadata": {
    "ExecuteTime": {
     "end_time": "2024-09-28T02:11:32.649406Z",
     "start_time": "2024-09-28T02:11:32.644582Z"
    }
   },
   "cell_type": "code",
   "source": "myfn(\"world\")",
   "id": "7bc0cf852d78f953",
   "outputs": [
    {
     "data": {
      "text/plain": [
       "'Hello, world, from New name for ttc1!'"
      ]
     },
     "execution_count": 36,
     "metadata": {},
     "output_type": "execute_result"
    }
   ],
   "execution_count": 36
  },
  {
   "metadata": {
    "ExecuteTime": {
     "end_time": "2024-09-28T00:27:53.400626Z",
     "start_time": "2024-09-28T00:27:53.389635Z"
    }
   },
   "cell_type": "code",
   "source": "testtool = StructuredTool.from_function(ttc1.greet)",
   "id": "bc2aa99c9f8a335f",
   "outputs": [],
   "execution_count": 33
  },
  {
   "metadata": {
    "ExecuteTime": {
     "end_time": "2024-09-28T00:28:00.688154Z",
     "start_time": "2024-09-28T00:28:00.683390Z"
    }
   },
   "cell_type": "code",
   "source": "testtool.invoke(input={'who': \"world\"})",
   "id": "92a88cf6213377d2",
   "outputs": [
    {
     "data": {
      "text/plain": [
       "'Hello, world, from ttc1!'"
      ]
     },
     "execution_count": 34,
     "metadata": {},
     "output_type": "execute_result"
    }
   ],
   "execution_count": 34
  },
  {
   "metadata": {
    "ExecuteTime": {
     "end_time": "2024-09-28T02:11:25.681616Z",
     "start_time": "2024-09-28T02:11:25.670668Z"
    }
   },
   "cell_type": "code",
   "source": "ttc1.name = \"New name for ttc1\"\n",
   "id": "c1aea5fe38d91b74",
   "outputs": [],
   "execution_count": 35
  },
  {
   "metadata": {
    "ExecuteTime": {
     "end_time": "2024-09-28T02:12:33.541928Z",
     "start_time": "2024-09-28T02:12:33.532942Z"
    }
   },
   "cell_type": "code",
   "source": [
    "import os\n",
    "import langchain\n",
    "from langchain_core.prompts import ChatPromptTemplate\n",
    "from typing_extensions import TypedDict\n",
    "from langchain.tools import StructuredTool\n",
    "print(f\"Running with langchain version {langchain.__version__}\")\n",
    "from langchain.chat_models import init_chat_model \n",
    "from dotenv import load_dotenv\n",
    "\n",
    "from buildwithai.langchain_tools import get_summarized_jira_issue, get_ticket_description\n",
    "\n",
    "load_dotenv()\n",
    "\n",
    "chatgptkey = os.getenv(\"CHATGPT_API_KEY\")"
   ],
   "id": "bf6a9833f6abbf9d",
   "outputs": [
    {
     "name": "stdout",
     "output_type": "stream",
     "text": [
      "Running with langchain version 0.3.1\n"
     ]
    }
   ],
   "execution_count": 37
  },
  {
   "metadata": {
    "ExecuteTime": {
     "end_time": "2024-09-28T02:44:16.350393Z",
     "start_time": "2024-09-28T02:44:15.703848Z"
    }
   },
   "cell_type": "code",
   "source": [
    "class TestInput(TypedDict):\n",
    "    \"\"\"Provide the correct values to the function. THe function must take parameters by these exact names.\n",
    "    However it is not entirely necessary to do it like this, you can get the structured output using the tool or the underlying function as below in chain and chain3.\"\"\"\n",
    "    \n",
    "    who: str\n",
    "    \n",
    "llm = init_chat_model(\"gpt-4o-mini\", model_provider=\"openai\", api_key = chatgptkey)\n",
    "findthename = \"Extract the name from the input after analyzing it carefully.\"\n",
    "theprompt = ChatPromptTemplate.from_messages([(\"system\", findthename), (\"human\", \"{input}\")])\n",
    "testtool = StructuredTool.from_function(ttc1.greet)  #This will build the tool from the method greet in the TestToolChest class.\n",
    "\n",
    "\n",
    "chain1 = theprompt | llm.with_structured_output(TestInput) | testtool\n",
    "chain = theprompt | llm.with_structured_output(testtool) | testtool  #In example code this was given as a class, like TestInput above, but this seems to work fine, and its' param names are always going to match!\n",
    "# I think that perhaps the __or__ override for the Tool class should be changed to do this automatically, so that the user doesn't have to set up an llm.with_structured_output() call manually.???\n",
    "chain3 = theprompt | llm.with_structured_output(ttc1.greet) | StructuredTool.from_function(ttc1.greet)  #This works too, and it will build the tool from the method greet in the TestToolChest class.\n",
    "\n",
    "chain.invoke(\"Is my name Joe? I have seen many names, such as Peter, Paul, Lucy, and John, but others have always called me Larry, even though their names are like Mary and Catherine.\")\n",
    "\n",
    "\n",
    "#Note, it might also be possible to use bind on the  Runnable to set the input type, but I'm not sure how that would work with the structured output."
   ],
   "id": "13bc2f5d3b67b525",
   "outputs": [
    {
     "data": {
      "text/plain": [
       "'Hello, Larry, from Wellingdone!'"
      ]
     },
     "execution_count": 60,
     "metadata": {},
     "output_type": "execute_result"
    }
   ],
   "execution_count": 60
  },
  {
   "metadata": {
    "ExecuteTime": {
     "end_time": "2024-09-28T02:37:51.432562Z",
     "start_time": "2024-09-28T02:37:51.429230Z"
    }
   },
   "cell_type": "code",
   "source": "ttc1.name = \"Wellingdone\"",
   "id": "965c8ec3189b7c61",
   "outputs": [],
   "execution_count": 49
  },
  {
   "metadata": {
    "ExecuteTime": {
     "end_time": "2024-09-28T02:38:32.240279Z",
     "start_time": "2024-09-28T02:38:32.234238Z"
    }
   },
   "cell_type": "code",
   "source": "print(type(chain))",
   "id": "70cfd55c7632b86c",
   "outputs": [
    {
     "name": "stdout",
     "output_type": "stream",
     "text": [
      "<class 'langchain_core.runnables.base.RunnableSequence'>\n"
     ]
    }
   ],
   "execution_count": 50
  },
  {
   "metadata": {
    "ExecuteTime": {
     "end_time": "2024-09-28T02:42:02.764392Z",
     "start_time": "2024-09-28T02:42:02.298456Z"
    }
   },
   "cell_type": "code",
   "source": "chain1.invoke(\" I have seen many names, such as Peter, Paul, Lucy, and John, but others have always called me by the long form of the name Bob which rhymes with Dessert, even though their names are like Mary and Catherine.\")",
   "id": "ad1535e775526046",
   "outputs": [
    {
     "data": {
      "text/plain": [
       "'Hello, Robert, from Wellingdone!'"
      ]
     },
     "execution_count": 58,
     "metadata": {},
     "output_type": "execute_result"
    }
   ],
   "execution_count": 58
  },
  {
   "metadata": {
    "ExecuteTime": {
     "end_time": "2024-09-28T02:47:05.937282Z",
     "start_time": "2024-09-28T02:47:05.505289Z"
    }
   },
   "cell_type": "code",
   "source": "res = chain3.invoke(\" I have seen many names, such as Peter, Paul, Lucy, and John, but others have always called me by the long form of the name Bob which rhymes with Dessert, even though their names are like Mary and Catherine.\")",
   "id": "6032975e47f9322a",
   "outputs": [],
   "execution_count": 62
  },
  {
   "metadata": {
    "ExecuteTime": {
     "end_time": "2024-09-28T02:47:11.259672Z",
     "start_time": "2024-09-28T02:47:11.256659Z"
    }
   },
   "cell_type": "code",
   "source": "type(res)",
   "id": "e7eab8caf4a9259e",
   "outputs": [
    {
     "data": {
      "text/plain": [
       "str"
      ]
     },
     "execution_count": 63,
     "metadata": {},
     "output_type": "execute_result"
    }
   ],
   "execution_count": 63
  },
  {
   "metadata": {
    "ExecuteTime": {
     "end_time": "2024-09-28T02:47:15.022715Z",
     "start_time": "2024-09-28T02:47:15.020206Z"
    }
   },
   "cell_type": "code",
   "source": "res\n",
   "id": "784a47da450ed1fa",
   "outputs": [
    {
     "data": {
      "text/plain": [
       "'Hello, Robert, from Wellingdone!'"
      ]
     },
     "execution_count": 64,
     "metadata": {},
     "output_type": "execute_result"
    }
   ],
   "execution_count": 64
  },
  {
   "metadata": {},
   "cell_type": "code",
   "outputs": [],
   "execution_count": null,
   "source": [
    "from langchain.chains.router.llm_router import LLMRouterChain, RouterOutputParser\n",
    "\n",
    "router_promp = (\"Given a ticket id, find out what type of ticket it is, and if it is an epic or an issue that has subtasks, build a tree of the full ticket hierachy. Explain\"\n",
    "                \"who is responsible for the ticket, and what the ticket is about. If the ticket is a subtask, explain what the parent ticket is about, and who is responsible for it.\")\n",
    "router_prompt = ChatPromptTemplate.from_template(router_promp)\n",
    "router = LLMRouterChain(\"gpt-4o-mini\", model_provider=\"openai\", api_key = chatgptkey)\n",
    "router.add_route(\"get_ticket_description\", get_ticket_description)\n",
    "router.add_route(\"get_summarized_jira_issue\", get_summarized_jira_issue)\n",
    "\n",
    "rop = RouterOutputParser()\n",
    "router_chain = router_prompt | router | rop\n"
   ],
   "id": "fe4719f3a5a77bc3"
  }
 ],
 "metadata": {
  "kernelspec": {
   "display_name": "Python 3",
   "language": "python",
   "name": "python3"
  },
  "language_info": {
   "codemirror_mode": {
    "name": "ipython",
    "version": 2
   },
   "file_extension": ".py",
   "mimetype": "text/x-python",
   "name": "python",
   "nbconvert_exporter": "python",
   "pygments_lexer": "ipython2",
   "version": "2.7.6"
  }
 },
 "nbformat": 4,
 "nbformat_minor": 5
}
