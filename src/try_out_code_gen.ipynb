{
 "cells": [
  {
   "cell_type": "code",
   "id": "initial_id",
   "metadata": {
    "collapsed": true,
    "ExecuteTime": {
     "end_time": "2024-09-24T00:05:50.089330Z",
     "start_time": "2024-09-24T00:05:48.195848Z"
    }
   },
   "source": [
    "import os\n",
    "\n",
    "import langchain\n",
    "from langchain_core.prompts import ChatPromptTemplate\n",
    "\n",
    "print(f\"Running with langchain version {langchain.__version__}\")\n",
    "from langchain.chat_models import init_chat_model \n",
    "from dotenv import load_dotenv\n",
    "\n",
    "load_dotenv()\n",
    "\n",
    "chatgptkey = os.getenv(\"CHATGPT_API_KEY\")\n"
   ],
   "outputs": [
    {
     "name": "stdout",
     "output_type": "stream",
     "text": [
      "Running with langchain version 0.3.0\n"
     ]
    }
   ],
   "execution_count": 1
  },
  {
   "metadata": {
    "ExecuteTime": {
     "end_time": "2024-09-24T00:05:52.653444Z",
     "start_time": "2024-09-24T00:05:52.650363Z"
    }
   },
   "cell_type": "code",
   "source": [
    "def generate_code(description: str) -> str:\n",
    "    \"\"\"Generates Python code based on a description.\"\"\"\n",
    "    client = init_chat_model(\"gpt-4o-mini\", model_provider=\"openai\", temperature=0, api_key=os.getenv('CHATGPT_API_KEY'))\n",
    "    program_system = (\"\"\"You are an expert python developer.\n",
    "    Implement a python program based on the user's description.\n",
    "    It should use best practices for the python community.\n",
    "    Also, use descriptive names rather than excessive comments.\n",
    "    If it helps legibility, break out sub-functions with descriptive names.\n",
    "    Comments should indicate intent and design, not repeat the code.\n",
    "    Make the code as simple as possible, but no simpler.\n",
    "    The code should be encapsulated in a function, for a script, the major functionality should still be wrapped in \n",
    "    a function.\n",
    "    If you are asked for a script, use the fire library to make it easy to use, but don't over-engineer it.\n",
    "    \"\"\")\n",
    "\n",
    "    prompt = ChatPromptTemplate.from_messages([(\"system\", program_system),\n",
    "                                                     (\"human\", \"{input}\")])\n",
    "    chain = prompt | client\n",
    "    return chain.invoke(description)"
   ],
   "id": "6ace4324b55b66ce",
   "outputs": [],
   "execution_count": 2
  },
  {
   "metadata": {
    "ExecuteTime": {
     "end_time": "2024-09-24T00:09:16.088072Z",
     "start_time": "2024-09-24T00:09:10.513572Z"
    }
   },
   "cell_type": "code",
   "source": [
    "description = \"\"\"Create a python function to read a users history organized by branchname from github and return a list of\n",
    "each commit including code changes. The function should take the following parameters: username, git_hub_connection.\n",
    "git_hub_connection is a connected instance of the python github library. The function should return a list of dictionaries\"\"\"\n",
    "result = generate_code(description)"
   ],
   "id": "d83a39691e1a2d1e",
   "outputs": [],
   "execution_count": 4
  },
  {
   "metadata": {
    "ExecuteTime": {
     "end_time": "2024-09-24T00:09:54.235283Z",
     "start_time": "2024-09-24T00:09:54.230405Z"
    }
   },
   "cell_type": "code",
   "source": "print(result.content)",
   "id": "3b7fcfa73fcc6136",
   "outputs": [
    {
     "name": "stdout",
     "output_type": "stream",
     "text": [
      "To achieve the functionality described, we will create a Python function that utilizes the `PyGithub` library to access a user's commit history organized by branch name. The function will take a username and a connected instance of the GitHub connection as parameters and return a list of dictionaries, each containing commit details and code changes.\n",
      "\n",
      "Here's how the implementation looks:\n",
      "\n",
      "```python\n",
      "from github import Github\n",
      "\n",
      "def fetch_user_commit_history(username, git_hub_connection):\n",
      "    \"\"\"\n",
      "    Fetches the commit history for all branches of a user's repositories.\n",
      "\n",
      "    Parameters:\n",
      "    username (str): The GitHub username.\n",
      "    git_hub_connection (Github): An authenticated instance of the GitHub connection.\n",
      "\n",
      "    Returns:\n",
      "    list: A list of dictionaries containing commit details and code changes.\n",
      "    \"\"\"\n",
      "    user_repos = git_hub_connection.get_user(username).get_repos()\n",
      "    commit_history = []\n",
      "\n",
      "    for repo in user_repos:\n",
      "        for branch in repo.get_branches():\n",
      "            commits = repo.get_commits(sha=branch.name)\n",
      "            for commit in commits:\n",
      "                commit_info = {\n",
      "                    'repository': repo.name,\n",
      "                    'branch': branch.name,\n",
      "                    'commit_sha': commit.sha,\n",
      "                    'commit_message': commit.commit.message,\n",
      "                    'author': commit.commit.author.name,\n",
      "                    'date': commit.commit.author.date,\n",
      "                    'changes': get_commit_changes(commit)\n",
      "                }\n",
      "                commit_history.append(commit_info)\n",
      "\n",
      "    return commit_history\n",
      "\n",
      "def get_commit_changes(commit):\n",
      "    \"\"\"\n",
      "    Retrieves the code changes for a given commit.\n",
      "\n",
      "    Parameters:\n",
      "    commit: The commit object from the GitHub API.\n",
      "\n",
      "    Returns:\n",
      "    list: A list of dictionaries containing file changes.\n",
      "    \"\"\"\n",
      "    changes = []\n",
      "    for file in commit.files:\n",
      "        changes.append({\n",
      "            'filename': file.filename,\n",
      "            'status': file.status,\n",
      "            'additions': file.additions,\n",
      "            'deletions': file.deletions\n",
      "        })\n",
      "    return changes\n",
      "\n",
      "# Example usage (uncomment to use):\n",
      "# if __name__ == \"__main__\":\n",
      "#     import fire\n",
      "#     github_instance = Github(\"your_access_token\")\n",
      "#     fire.Fire(fetch_user_commit_history)\n",
      "```\n",
      "\n",
      "### Explanation:\n",
      "1. **Function `fetch_user_commit_history`**: This function retrieves the commit history for all branches of the specified user's repositories. It constructs a list of dictionaries containing relevant commit information.\n",
      "\n",
      "2. **Function `get_commit_changes`**: This helper function extracts the changes made in a specific commit, returning a list of dictionaries that detail the filename, status, and number of additions and deletions.\n",
      "\n",
      "3. **Descriptive Naming**: The function and variable names are chosen to clearly indicate their purpose, enhancing code readability.\n",
      "\n",
      "4. **Encapsulation**: The main functionality is encapsulated within the `fetch_user_commit_history` function, making it reusable and easy to test.\n",
      "\n",
      "5. **Fire Library**: The commented-out section at the bottom shows how to use the `fire` library to create a command-line interface for the function, making it easy to call from the terminal.\n",
      "\n",
      "Make sure to install the `PyGithub` library if you haven't already:\n",
      "\n",
      "```bash\n",
      "pip install PyGithub\n",
      "```\n",
      "\n",
      "This implementation adheres to best practices in Python development, ensuring clarity and maintainability.\n"
     ]
    }
   ],
   "execution_count": 6
  },
  {
   "metadata": {},
   "cell_type": "code",
   "outputs": [],
   "execution_count": null,
   "source": "",
   "id": "7cf8fc53df331332"
  }
 ],
 "metadata": {
  "kernelspec": {
   "display_name": "Python 3",
   "language": "python",
   "name": "python3"
  },
  "language_info": {
   "codemirror_mode": {
    "name": "ipython",
    "version": 2
   },
   "file_extension": ".py",
   "mimetype": "text/x-python",
   "name": "python",
   "nbconvert_exporter": "python",
   "pygments_lexer": "ipython2",
   "version": "2.7.6"
  }
 },
 "nbformat": 4,
 "nbformat_minor": 5
}
